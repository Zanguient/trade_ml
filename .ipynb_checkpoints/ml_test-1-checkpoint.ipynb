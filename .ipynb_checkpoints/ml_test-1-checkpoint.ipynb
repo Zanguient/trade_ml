{
 "cells": [
  {
   "cell_type": "markdown",
   "metadata": {},
   "source": [
    "## Teste 1\n",
    "##### Programação grosseira em busca dos melhores dados e dos melhores modelos"
   ]
  },
  {
   "cell_type": "code",
   "execution_count": 342,
   "metadata": {},
   "outputs": [],
   "source": [
    "import pandas as pd\n",
    "import numpy as np\n",
    "import matplotlib.pyplot as plt\n",
    "from sklearn.preprocessing import LabelEncoder, OneHotEncoder, StandardScaler, MinMaxScaler\n",
    "import seaborn as sns\n",
    "\n",
    "from sklearn.model_selection import train_test_split\n",
    "from sklearn.metrics import confusion_matrix, classification_report, accuracy_score\n",
    "from sklearn import metrics\n",
    "from warnings import simplefilter\n",
    "\n",
    "from sklearn.tree import DecisionTreeClassifier\n",
    "from sklearn.ensemble import RandomForestClassifier\n",
    "from sklearn.linear_model import RidgeClassifier\n",
    "from sklearn.neighbors import KNeighborsClassifier\n",
    "from sklearn.ensemble import GradientBoostingClassifier\n",
    "from sklearn.linear_model import LogisticRegression\n",
    "from sklearn.neural_network import MLPClassifier\n",
    "from sklearn.svm import SVC\n",
    "from sklearn.naive_bayes import GaussianNB\n",
    "\n",
    "simplefilter(action='ignore', category=FutureWarning)\n",
    "\n",
    "%matplotlib inline\n",
    "\n",
    "plt.rcParams['figure.figsize'] = (25, 8)\n",
    "#sns.set_style('whitegrid')\n",
    "sns.set_style('white')\n",
    "sns.set_context('poster')"
   ]
  },
  {
   "cell_type": "code",
   "execution_count": 343,
   "metadata": {},
   "outputs": [
    {
     "data": {
      "text/plain": [
       "(2702, 104)"
      ]
     },
     "execution_count": 343,
     "metadata": {},
     "output_type": "execute_result"
    }
   ],
   "source": [
    "file = 'datasets/dataset_cler.csv'\n",
    "file = 'C:/Users/André/AppData/Roaming/MetaQuotes/Tester/D0E8209F77C8CF37AD8BF550E51FF075/Agent-127.0.0.1-3000/MQL5/Files/dataset_cler.csv'\n",
    "\n",
    "df = pd.read_csv(file, sep=\";\", encoding='utf-16')\n",
    "del df['Ref']\n",
    "df.shape"
   ]
  },
  {
   "cell_type": "code",
   "execution_count": 344,
   "metadata": {},
   "outputs": [
    {
     "data": {
      "text/html": [
       "<div>\n",
       "<style scoped>\n",
       "    .dataframe tbody tr th:only-of-type {\n",
       "        vertical-align: middle;\n",
       "    }\n",
       "\n",
       "    .dataframe tbody tr th {\n",
       "        vertical-align: top;\n",
       "    }\n",
       "\n",
       "    .dataframe thead th {\n",
       "        text-align: right;\n",
       "    }\n",
       "</style>\n",
       "<table border=\"1\" class=\"dataframe\">\n",
       "  <thead>\n",
       "    <tr style=\"text-align: right;\">\n",
       "      <th></th>\n",
       "      <th>ampl_m15_5</th>\n",
       "      <th>desv_amp_m15_5</th>\n",
       "      <th>body_m15_5</th>\n",
       "      <th>body_per_m15_5</th>\n",
       "      <th>pavio_sup_m15_5</th>\n",
       "      <th>pavio_sup_per_m15_5</th>\n",
       "      <th>pavio_inf_m15_5</th>\n",
       "      <th>pavio_inf_per_m15_5</th>\n",
       "      <th>high_dist_m15_5</th>\n",
       "      <th>low_dist_m15_5</th>\n",
       "      <th>...</th>\n",
       "      <th>pavio_inf_h2_1</th>\n",
       "      <th>pavio_inf_per_h2_1</th>\n",
       "      <th>high_dist_h2_1</th>\n",
       "      <th>low_dist_h2_1</th>\n",
       "      <th>type_h2_1</th>\n",
       "      <th>atr</th>\n",
       "      <th>qt_bars</th>\n",
       "      <th>oper</th>\n",
       "      <th>take</th>\n",
       "      <th>status</th>\n",
       "    </tr>\n",
       "  </thead>\n",
       "  <tbody>\n",
       "    <tr>\n",
       "      <td>0</td>\n",
       "      <td>380.0</td>\n",
       "      <td>0.85</td>\n",
       "      <td>60.0</td>\n",
       "      <td>15.79</td>\n",
       "      <td>105.0</td>\n",
       "      <td>27.63</td>\n",
       "      <td>215.0</td>\n",
       "      <td>56.58</td>\n",
       "      <td>685.0</td>\n",
       "      <td>620.0</td>\n",
       "      <td>...</td>\n",
       "      <td>215.0</td>\n",
       "      <td>47.78</td>\n",
       "      <td>615.0</td>\n",
       "      <td>620.0</td>\n",
       "      <td>up</td>\n",
       "      <td>58.21</td>\n",
       "      <td>5</td>\n",
       "      <td>Sell</td>\n",
       "      <td>-40.0</td>\n",
       "      <td>Loss</td>\n",
       "    </tr>\n",
       "    <tr>\n",
       "      <td>1</td>\n",
       "      <td>180.0</td>\n",
       "      <td>0.67</td>\n",
       "      <td>90.0</td>\n",
       "      <td>50.00</td>\n",
       "      <td>40.0</td>\n",
       "      <td>22.22</td>\n",
       "      <td>50.0</td>\n",
       "      <td>27.78</td>\n",
       "      <td>5.0</td>\n",
       "      <td>95.0</td>\n",
       "      <td>...</td>\n",
       "      <td>215.0</td>\n",
       "      <td>47.78</td>\n",
       "      <td>615.0</td>\n",
       "      <td>620.0</td>\n",
       "      <td>up</td>\n",
       "      <td>59.64</td>\n",
       "      <td>5</td>\n",
       "      <td>Sell</td>\n",
       "      <td>-40.0</td>\n",
       "      <td>Loss</td>\n",
       "    </tr>\n",
       "  </tbody>\n",
       "</table>\n",
       "<p>2 rows × 104 columns</p>\n",
       "</div>"
      ],
      "text/plain": [
       "   ampl_m15_5  desv_amp_m15_5  body_m15_5  body_per_m15_5  pavio_sup_m15_5  \\\n",
       "0       380.0            0.85        60.0           15.79            105.0   \n",
       "1       180.0            0.67        90.0           50.00             40.0   \n",
       "\n",
       "   pavio_sup_per_m15_5  pavio_inf_m15_5  pavio_inf_per_m15_5  high_dist_m15_5  \\\n",
       "0                27.63            215.0                56.58            685.0   \n",
       "1                22.22             50.0                27.78              5.0   \n",
       "\n",
       "   low_dist_m15_5  ... pavio_inf_h2_1  pavio_inf_per_h2_1  high_dist_h2_1  \\\n",
       "0           620.0  ...          215.0               47.78           615.0   \n",
       "1            95.0  ...          215.0               47.78           615.0   \n",
       "\n",
       "   low_dist_h2_1  type_h2_1    atr  qt_bars  oper  take  status  \n",
       "0          620.0         up  58.21        5  Sell -40.0    Loss  \n",
       "1          620.0         up  59.64        5  Sell -40.0    Loss  \n",
       "\n",
       "[2 rows x 104 columns]"
      ]
     },
     "execution_count": 344,
     "metadata": {},
     "output_type": "execute_result"
    }
   ],
   "source": [
    "df.head(2)"
   ]
  },
  {
   "cell_type": "code",
   "execution_count": 345,
   "metadata": {},
   "outputs": [
    {
     "data": {
      "text/plain": [
       "Loss    1373\n",
       "Gain    1329\n",
       "Name: status, dtype: int64"
      ]
     },
     "execution_count": 345,
     "metadata": {},
     "output_type": "execute_result"
    }
   ],
   "source": [
    "df['status'].value_counts()"
   ]
  },
  {
   "cell_type": "code",
   "execution_count": 346,
   "metadata": {
    "jupyter": {
     "source_hidden": true
    }
   },
   "outputs": [],
   "source": [
    "df.drop(df.loc[(df['status']!='Loss') & (df['status']!='Gain')].index.values, inplace=True)"
   ]
  },
  {
   "cell_type": "code",
   "execution_count": 347,
   "metadata": {},
   "outputs": [
    {
     "data": {
      "text/plain": [
       "Loss    1373\n",
       "Gain    1329\n",
       "Name: status, dtype: int64"
      ]
     },
     "execution_count": 347,
     "metadata": {},
     "output_type": "execute_result"
    }
   ],
   "source": [
    "df['status'].value_counts()"
   ]
  },
  {
   "cell_type": "code",
   "execution_count": 348,
   "metadata": {
    "jupyter": {
     "source_hidden": true
    }
   },
   "outputs": [],
   "source": [
    "#train_features = df.columns.difference(['take', 'status', 'oper'])\n",
    "X = df.drop(['take','status','oper'], axis=1) #df[train_features]\n",
    "y = df['status']\n",
    "\n",
    "x_columns = X.columns"
   ]
  },
  {
   "cell_type": "code",
   "execution_count": 349,
   "metadata": {
    "jupyter": {
     "source_hidden": true
    }
   },
   "outputs": [
    {
     "data": {
      "text/plain": [
       "[10, 21, 32, 43, 54, 65, 76, 87, 98]"
      ]
     },
     "execution_count": 349,
     "metadata": {},
     "output_type": "execute_result"
    }
   ],
   "source": [
    "index_features_category = []\n",
    "for index, col in enumerate(X.columns):\n",
    "    if X.dtypes[index]=='object':\n",
    "        index_features_category.append(index)\n",
    "index_features_category[:10]"
   ]
  },
  {
   "cell_type": "code",
   "execution_count": 350,
   "metadata": {
    "jupyter": {
     "source_hidden": true
    }
   },
   "outputs": [],
   "source": [
    "encoder = LabelEncoder()\n",
    "encoder.fit(['inside', 'up', 'down'])\n",
    "columns_categorical = X.select_dtypes(include=['object']).columns\n",
    "for col_cat in columns_categorical:\n",
    "    X[col_cat] = encoder.transform(X[col_cat])"
   ]
  },
  {
   "cell_type": "markdown",
   "metadata": {},
   "source": [
    "ohe = OneHotEncoder(categorical_features=index_features_category)\n",
    "X = ohe.fit_transform(X).toarray()"
   ]
  },
  {
   "cell_type": "code",
   "execution_count": 351,
   "metadata": {},
   "outputs": [],
   "source": [
    "def fit(X_train, X_test, y_train, y_test, model):\n",
    "    model.fit(X_train, y_train)\n",
    "    y_pred = model.predict(X_test)\n",
    "    accuracy = accuracy_score(y_test, y_pred)\n",
    "    print(accuracy)\n",
    "    return y_pred \n",
    "\n",
    "def fitAll(X_train, X_test, y_train, y_test, algorithms):\n",
    "    similaridade = []\n",
    "    for item in algorithms:\n",
    "        name = item[0]\n",
    "        algorithm = item[1]\n",
    "        \n",
    "        algorithm.fit(X_train, y_train)\n",
    "        y_pred = algorithm.predict(X_test)\n",
    "        accuracy = accuracy_score(y_test, y_pred)\n",
    "        #print(name, ' => ', accuracy)\n",
    "        similaridade.append((accuracy, name))\n",
    "        \n",
    "    similaridade.sort()\n",
    "    similaridade.reverse()\n",
    "    \n",
    "    for j in similaridade:\n",
    "        print(j)\n",
    "\n",
    "def f_importances(coef, names):\n",
    "    imp = coef\n",
    "    imp,names = zip(*sorted(zip(imp,names)))\n",
    "    plt.barh(range(len(names)), imp, align='center')\n",
    "    plt.yticks(range(len(names)), names)\n",
    "    plt.show()"
   ]
  },
  {
   "cell_type": "code",
   "execution_count": 352,
   "metadata": {},
   "outputs": [],
   "source": [
    "scaler = MinMaxScaler()\n",
    "scaler.fit(X)\n",
    "X = scaler.transform(X)"
   ]
  },
  {
   "cell_type": "markdown",
   "metadata": {},
   "source": [
    "standar = StandardScaler()\n",
    "standar.fit(X)\n",
    "X = standar.fit_transform(X)"
   ]
  },
  {
   "cell_type": "code",
   "execution_count": 353,
   "metadata": {},
   "outputs": [],
   "source": [
    "X_train, X_test, y_train, y_test = train_test_split(X, y, test_size=0.3, random_state=True)"
   ]
  },
  {
   "cell_type": "code",
   "execution_count": 354,
   "metadata": {},
   "outputs": [
    {
     "name": "stderr",
     "output_type": "stream",
     "text": [
      "C:\\ProgramData\\Anaconda3\\lib\\site-packages\\sklearn\\neural_network\\multilayer_perceptron.py:566: ConvergenceWarning: Stochastic Optimizer: Maximum iterations (1000) reached and the optimization hasn't converged yet.\n",
      "  % self.max_iter, ConvergenceWarning)\n"
     ]
    },
    {
     "name": "stdout",
     "output_type": "stream",
     "text": [
      "(0.531442663378545, 'KNeighborsClassifier')\n",
      "(0.5043156596794082, 'DecisionTreeClassifier')\n",
      "(0.4833538840937115, 'GaussianNB')\n",
      "(0.4796547472256473, 'RandomForestClassifier')\n",
      "(0.4759556103575832, 'SVC')\n",
      "(0.4747225647348952, 'MLPClassifier')\n",
      "(0.47348951911220716, 'GradientBoostingClassifier')\n",
      "(0.46732429099876693, 'LogisticRegression')\n",
      "(0.4648581997533909, 'RidgeClassifier')\n"
     ]
    }
   ],
   "source": [
    "algorithms = []\n",
    "\n",
    "algorithms.append(['DecisionTreeClassifier', DecisionTreeClassifier(random_state=0)])\n",
    "algorithms.append(['RandomForestClassifier', RandomForestClassifier(random_state=0)])\n",
    "algorithms.append(['GaussianNB', GaussianNB()])\n",
    "algorithms.append(['RidgeClassifier', RidgeClassifier()])\n",
    "algorithms.append(['MLPClassifier', MLPClassifier()])\n",
    "algorithms.append(['GradientBoostingClassifier', GradientBoostingClassifier()])\n",
    "algorithms.append(['SVC', SVC(gamma='auto')])\n",
    "algorithms.append(['KNeighborsClassifier', KNeighborsClassifier()])\n",
    "algorithms.append(['LogisticRegression', LogisticRegression()])\n",
    "\n",
    "fitAll(X_train, X_test, y_train, y_test, algorithms)"
   ]
  },
  {
   "cell_type": "markdown",
   "metadata": {},
   "source": [
    "test = GradientBoostingClassifier(learning_rate=0.1, n_estimators=1000)\n",
    "y_pred = fit(X_train, X_test, y_train, y_test, test)\n",
    "\n",
    "conf_matrix = confusion_matrix(y_test, y_pred)\n",
    "conf_matrix"
   ]
  },
  {
   "cell_type": "code",
   "execution_count": 355,
   "metadata": {},
   "outputs": [
    {
     "data": {
      "text/plain": [
       "2290    Gain\n",
       "Name: status, dtype: object"
      ]
     },
     "execution_count": 355,
     "metadata": {},
     "output_type": "execute_result"
    }
   ],
   "source": [
    "y_test[300:301]"
   ]
  },
  {
   "cell_type": "code",
   "execution_count": 356,
   "metadata": {},
   "outputs": [
    {
     "data": {
      "text/plain": [
       "array([0.0874036 , 0.02863962, 0.02884615, 0.2308    , 0.26744186,\n",
       "       0.64532721, 0.05691057, 0.19367717, 0.00645161, 0.14917127,\n",
       "       0.        , 0.18489583, 0.22368421, 0.07116105, 0.2346    ,\n",
       "       0.00840336, 0.01374762, 0.5       , 0.83677778, 0.08587258,\n",
       "       0.17718447, 0.        , 0.14175258, 0.06571087, 0.1474359 ,\n",
       "       0.7541    , 0.05882353, 0.12831117, 0.06504065, 0.14145447,\n",
       "       0.09141274, 0.12864078, 1.        , 0.08355091, 0.05522209,\n",
       "       0.01282051, 0.093     , 0.1092437 , 0.32180115, 0.21138211,\n",
       "       0.65246008, 0.03225806, 0.07670455, 1.        , 0.0984456 ,\n",
       "       0.10179641, 0.0224359 , 0.1522    , 0.33636364, 0.92342135,\n",
       "       0.01626016, 0.04660881, 0.08587258, 0.06796117, 1.        ,\n",
       "       0.1476378 , 0.20592021, 0.12356979, 0.60392552, 0.0840708 ,\n",
       "       0.21978136, 0.08900524, 0.2095629 , 0.00225734, 0.07214429,\n",
       "       0.        , 0.24478178, 0.17605634, 0.28169014, 0.97856064,\n",
       "       0.01769912, 0.02894326, 0.        , 0.        , 0.13671875,\n",
       "       0.26956522, 0.        , 0.17647059, 0.07629108, 0.03018109,\n",
       "       0.13980876, 0.30088496, 0.65549193, 0.07462687, 0.25682272,\n",
       "       0.25      , 0.32865731, 1.        , 0.31309298, 0.1842723 ,\n",
       "       0.08651911, 0.24046301, 0.08849558, 0.11566892, 0.34925373,\n",
       "       0.72222222, 0.09179688, 0.23847695, 0.        , 0.13764666,\n",
       "       0.28571429])"
      ]
     },
     "execution_count": 356,
     "metadata": {},
     "output_type": "execute_result"
    }
   ],
   "source": [
    "X_test[300]"
   ]
  }
 ],
 "metadata": {
  "kernelspec": {
   "display_name": "Python 3",
   "language": "python",
   "name": "python3"
  },
  "language_info": {
   "codemirror_mode": {
    "name": "ipython",
    "version": 3
   },
   "file_extension": ".py",
   "mimetype": "text/x-python",
   "name": "python",
   "nbconvert_exporter": "python",
   "pygments_lexer": "ipython3",
   "version": "3.7.4"
  }
 },
 "nbformat": 4,
 "nbformat_minor": 4
}
