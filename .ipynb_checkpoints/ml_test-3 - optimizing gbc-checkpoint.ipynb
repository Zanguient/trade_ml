{
 "cells": [
  {
   "cell_type": "markdown",
   "metadata": {},
   "source": [
    "## Otimizando o modelo GBC: GradientBoostingClassifier"
   ]
  },
  {
   "cell_type": "code",
   "execution_count": 1,
   "metadata": {},
   "outputs": [],
   "source": [
    "import pandas as pd\n",
    "import numpy as np\n",
    "import matplotlib.pyplot as plt\n",
    "import seaborn as sns\n",
    "\n",
    "from sklearn.preprocessing import LabelEncoder, MinMaxScaler\n",
    "from sklearn.model_selection import train_test_split, cross_val_score, GridSearchCV\n",
    "from sklearn.metrics import confusion_matrix, accuracy_score, roc_auc_score\n",
    "from warnings import simplefilter\n",
    "\n",
    "from sklearn.ensemble import GradientBoostingClassifier\n",
    "\n",
    "simplefilter(action='ignore', category=FutureWarning)\n",
    "\n",
    "%matplotlib inline\n",
    "\n",
    "plt.rcParams['figure.figsize'] = (25, 8)\n",
    "#sns.set_style('whitegrid')\n",
    "sns.set_style('white')\n",
    "sns.set_context('poster')"
   ]
  },
  {
   "cell_type": "code",
   "execution_count": 130,
   "metadata": {},
   "outputs": [
    {
     "data": {
      "text/plain": [
       "(3460, 412)"
      ]
     },
     "execution_count": 130,
     "metadata": {},
     "output_type": "execute_result"
    }
   ],
   "source": [
    "df = pd.read_csv('datasets/dataset_cler.csv', sep=\";\", encoding='utf-16')\n",
    "df.shape"
   ]
  },
  {
   "cell_type": "code",
   "execution_count": 134,
   "metadata": {},
   "outputs": [
    {
     "data": {
      "text/html": [
       "<div>\n",
       "<style scoped>\n",
       "    .dataframe tbody tr th:only-of-type {\n",
       "        vertical-align: middle;\n",
       "    }\n",
       "\n",
       "    .dataframe tbody tr th {\n",
       "        vertical-align: top;\n",
       "    }\n",
       "\n",
       "    .dataframe thead th {\n",
       "        text-align: right;\n",
       "    }\n",
       "</style>\n",
       "<table border=\"1\" class=\"dataframe\">\n",
       "  <thead>\n",
       "    <tr style=\"text-align: right;\">\n",
       "      <th></th>\n",
       "      <th>ampl_20</th>\n",
       "      <th>desv_amp_20</th>\n",
       "      <th>body_20</th>\n",
       "      <th>body_per_20</th>\n",
       "      <th>pavio_sup_20</th>\n",
       "      <th>pavio_sup_per_20</th>\n",
       "      <th>pavio_inf_20</th>\n",
       "      <th>pavio_inf_per_20</th>\n",
       "      <th>high_dist_20</th>\n",
       "      <th>low_dist_20</th>\n",
       "      <th>...</th>\n",
       "      <th>body_per_h2_0</th>\n",
       "      <th>pavio_sup_h2_0</th>\n",
       "      <th>pavio_sup_per_h2_0</th>\n",
       "      <th>pavio_inf_h2_0</th>\n",
       "      <th>pavio_inf_per_h2_0</th>\n",
       "      <th>high_dist_h2_0</th>\n",
       "      <th>low_dist_h2_0</th>\n",
       "      <th>type_h2_0</th>\n",
       "      <th>atr</th>\n",
       "      <th>qt_bars</th>\n",
       "    </tr>\n",
       "  </thead>\n",
       "  <tbody>\n",
       "    <tr>\n",
       "      <td>0</td>\n",
       "      <td>65.0</td>\n",
       "      <td>2.17</td>\n",
       "      <td>40.0</td>\n",
       "      <td>61.54</td>\n",
       "      <td>0.0</td>\n",
       "      <td>0.00</td>\n",
       "      <td>25.0</td>\n",
       "      <td>38.46</td>\n",
       "      <td>10.0</td>\n",
       "      <td>45.0</td>\n",
       "      <td>...</td>\n",
       "      <td>32.79</td>\n",
       "      <td>205.0</td>\n",
       "      <td>67.21</td>\n",
       "      <td>0.0</td>\n",
       "      <td>0.0</td>\n",
       "      <td>180.0</td>\n",
       "      <td>325.0</td>\n",
       "      <td>up</td>\n",
       "      <td>58.21</td>\n",
       "      <td>5</td>\n",
       "    </tr>\n",
       "    <tr>\n",
       "      <td>1</td>\n",
       "      <td>45.0</td>\n",
       "      <td>0.82</td>\n",
       "      <td>35.0</td>\n",
       "      <td>77.78</td>\n",
       "      <td>10.0</td>\n",
       "      <td>22.22</td>\n",
       "      <td>0.0</td>\n",
       "      <td>0.00</td>\n",
       "      <td>35.0</td>\n",
       "      <td>45.0</td>\n",
       "      <td>...</td>\n",
       "      <td>100.00</td>\n",
       "      <td>0.0</td>\n",
       "      <td>0.00</td>\n",
       "      <td>0.0</td>\n",
       "      <td>0.0</td>\n",
       "      <td>245.0</td>\n",
       "      <td>325.0</td>\n",
       "      <td>up</td>\n",
       "      <td>59.64</td>\n",
       "      <td>4</td>\n",
       "    </tr>\n",
       "  </tbody>\n",
       "</table>\n",
       "<p>2 rows × 409 columns</p>\n",
       "</div>"
      ],
      "text/plain": [
       "   ampl_20  desv_amp_20  body_20  body_per_20  pavio_sup_20  pavio_sup_per_20  \\\n",
       "0     65.0         2.17     40.0        61.54           0.0              0.00   \n",
       "1     45.0         0.82     35.0        77.78          10.0             22.22   \n",
       "\n",
       "   pavio_inf_20  pavio_inf_per_20  high_dist_20  low_dist_20  ...  \\\n",
       "0          25.0             38.46          10.0         45.0  ...   \n",
       "1           0.0              0.00          35.0         45.0  ...   \n",
       "\n",
       "  body_per_h2_0  pavio_sup_h2_0  pavio_sup_per_h2_0  pavio_inf_h2_0  \\\n",
       "0         32.79           205.0               67.21             0.0   \n",
       "1        100.00             0.0                0.00             0.0   \n",
       "\n",
       "   pavio_inf_per_h2_0  high_dist_h2_0  low_dist_h2_0  type_h2_0    atr  \\\n",
       "0                 0.0           180.0          325.0         up  58.21   \n",
       "1                 0.0           245.0          325.0         up  59.64   \n",
       "\n",
       "   qt_bars  \n",
       "0        5  \n",
       "1        4  \n",
       "\n",
       "[2 rows x 409 columns]"
      ]
     },
     "execution_count": 134,
     "metadata": {},
     "output_type": "execute_result"
    }
   ],
   "source": [
    "X.head(2)"
   ]
  },
  {
   "cell_type": "code",
   "execution_count": 135,
   "metadata": {},
   "outputs": [
    {
     "data": {
      "text/plain": [
       "Gain    2271\n",
       "Loss    1189\n",
       "Name: status, dtype: int64"
      ]
     },
     "execution_count": 135,
     "metadata": {},
     "output_type": "execute_result"
    }
   ],
   "source": [
    "df.drop(df.loc[(df['status']!='Loss') & (df['status']!='Gain')].index.values, inplace=True)\n",
    "df['status'].value_counts()"
   ]
  },
  {
   "cell_type": "code",
   "execution_count": 136,
   "metadata": {},
   "outputs": [],
   "source": [
    "X = df.drop(['take','status','oper'], axis=1) #df[train_features]\n",
    "y = df['status']\n",
    "\n",
    "x_columns = X.columns"
   ]
  },
  {
   "cell_type": "code",
   "execution_count": 137,
   "metadata": {},
   "outputs": [],
   "source": [
    "encoder = LabelEncoder()\n",
    "encoder.fit(['inside', 'up', 'down'])\n",
    "columns_categorical = X.select_dtypes(include=['object']).columns\n",
    "for col_cat in columns_categorical:\n",
    "    X[col_cat] = encoder.transform(X[col_cat])"
   ]
  },
  {
   "cell_type": "code",
   "execution_count": 138,
   "metadata": {},
   "outputs": [],
   "source": [
    "scaler = MinMaxScaler()\n",
    "scaler.fit(X)\n",
    "X = scaler.fit_transform(X)"
   ]
  },
  {
   "cell_type": "code",
   "execution_count": 140,
   "metadata": {},
   "outputs": [
    {
     "data": {
      "text/plain": [
       "array([0.046875  , 0.07512315, 0.08974359, 0.7778    , 0.06896552,\n",
       "       0.24071065, 0.        , 0.        , 0.02892562, 0.03071672,\n",
       "       1.        , 0.07      , 0.1209564 , 0.05952381, 0.5556    ,\n",
       "       0.08333333, 0.3571199 , 0.01818182, 0.11964247, 0.0041841 ,\n",
       "       0.00465116, 0.        , 0.13392857, 0.20648259, 0.12      ,\n",
       "       0.5294    , 0.11627907, 0.32937619, 0.03061224, 0.19120355,\n",
       "       0.07291667, 0.00952381, 1.        , 0.07462687, 0.10928962,\n",
       "       0.02020202, 0.1667    , 0.18367347, 0.8       , 0.0212766 ,\n",
       "       0.08970493, 0.01108033, 0.02093023, 0.        , 0.17045455,\n",
       "       0.11542013, 0.10344828, 0.5294    , 0.01449275, 0.06247344,\n",
       "       0.13461538, 0.44346328, 0.03846154, 0.05905512, 0.        ,\n",
       "       0.02962963, 0.01430031, 0.03571429, 0.5       , 0.03571429,\n",
       "       0.18184793, 0.03448276, 0.35552   , 0.02238806, 0.02164502,\n",
       "       1.        , 0.06153846, 0.20354906, 0.1       , 0.6154    ,\n",
       "       0.125     , 0.41417187, 0.        , 0.        , 0.0411985 ,\n",
       "       0.01290323, 1.        , 0.09401709, 0.10194175, 0.03061224,\n",
       "       0.2308    , 0.03030303, 0.08422782, 0.23684211, 0.74997292,\n",
       "       0.01639344, 0.02083333, 0.        , 0.06716418, 0.04743976,\n",
       "       0.        , 0.        , 0.        , 0.        , 0.        ,\n",
       "       0.        , 0.        , 0.016     , 0.5       , 0.13095238,\n",
       "       0.15822785, 0.04615385, 0.2308    , 0.05405405, 0.1647916 ,\n",
       "       0.25806452, 0.65642667, 0.00847458, 0.00746269, 1.        ,\n",
       "       0.02222222, 0.01670146, 0.03797468, 0.6       , 0.03225806,\n",
       "       0.21666125, 0.01724138, 0.21429337, 0.        , 0.01860465,\n",
       "       0.        , 0.02469136, 0.09843606, 0.05681818, 0.8333    ,\n",
       "       0.        , 0.        , 0.01351351, 0.17781333, 0.01652893,\n",
       "       0.01706485, 0.        , 0.0610687 , 0.05930985, 0.07207207,\n",
       "       0.7273    , 0.02040816, 0.0978893 , 0.04761905, 0.19577859,\n",
       "       0.03007519, 0.01041667, 1.        , 0.08      , 0.08508015,\n",
       "       0.07142857, 0.6       , 0.05555556, 0.21333333, 0.06451613,\n",
       "       0.21052632, 0.00803213, 0.01315789, 0.        , 0.10714286,\n",
       "       0.12867275, 0.0952381 , 0.5714    , 0.17142857, 0.45717333,\n",
       "       0.        , 0.        , 0.01      , 0.04716981, 0.        ,\n",
       "       0.14414414, 0.13074205, 0.01369863, 0.0556    , 0.07894737,\n",
       "       0.18336817, 0.35897436, 0.837605  , 0.03396226, 0.05019305,\n",
       "       1.        , 0.09395973, 0.05573506, 0.0625    , 0.5       ,\n",
       "       0.14285714, 0.46876674, 0.0212766 , 0.06730562, 0.01498127,\n",
       "       0.01935484, 0.        , 0.15384615, 0.10371319, 0.07142857,\n",
       "       0.375     , 0.        , 0.        , 0.27777778, 0.67305621,\n",
       "       0.10294118, 0.08433735, 0.        , 0.08974359, 0.05203046,\n",
       "       0.07042254, 0.5       , 0.09090909, 0.22857143, 0.08823529,\n",
       "       0.33333333, 0.        , 0.03141361, 1.        , 0.08411215,\n",
       "       0.16252073, 0.05555556, 0.5       , 0.18518519, 0.46054377,\n",
       "       0.03333333, 0.09371133, 0.01507538, 0.00571429, 0.        ,\n",
       "       0.08411215, 0.2170088 , 0.14545455, 0.6667    , 0.08163265,\n",
       "       0.3541224 , 0.        , 0.        , 0.        , 0.        ,\n",
       "       1.        , 0.11688312, 0.05868263, 0.08653846, 0.5       ,\n",
       "       0.06976744, 0.12158021, 0.17073171, 0.41961588, 0.04193548,\n",
       "       0.09668508, 1.        , 0.06770833, 0.05727924, 0.06741573,\n",
       "       0.5       , 0.06722689, 0.23653396, 0.08196721, 0.30866667,\n",
       "       0.00277008, 0.0461165 , 0.        , 0.046875  , 0.07261905,\n",
       "       0.00641026, 0.0714    , 0.1512605 , 0.71433333, 0.06504065,\n",
       "       0.308265  , 0.0166205 , 0.00485437, 1.        , 0.09685864,\n",
       "       0.18127251, 0.15064103, 0.9592    , 0.01680672, 0.04343198,\n",
       "       0.        , 0.        , 0.10752688, 0.02556818, 1.        ,\n",
       "       0.06476684, 0.05727924, 0.01282051, 0.1212    , 0.12727273,\n",
       "       0.45070123, 0.12195122, 0.48698168, 0.033241  , 0.06796117,\n",
       "       0.        , 0.10051546, 0.13755981, 0.06271777, 0.4       ,\n",
       "       0.03361345, 0.09091839, 0.1503268 , 0.53156526, 0.01212121,\n",
       "       0.02272727, 1.        , 0.12887828, 0.11802853, 0.06714628,\n",
       "       0.4058    , 0.0982659 , 0.27968218, 0.12565445, 0.35966908,\n",
       "       0.02992519, 0.02391304, 1.        , 0.19230769, 0.17120623,\n",
       "       0.18465228, 0.7857    , 0.12138728, 0.24324631, 0.        ,\n",
       "       0.        , 0.19950125, 0.11086957, 1.        , 0.17661098,\n",
       "       0.10505837, 0.17505995, 0.8202    , 0.10738255, 0.20408627,\n",
       "       0.        , 0.        , 0.00997506, 0.01086957, 0.        ,\n",
       "       0.17899761, 0.11802853, 0.05515588, 0.2556    , 0.13872832,\n",
       "       0.30272418, 0.18220339, 0.49410548, 0.30673317, 0.26956522,\n",
       "       1.        , 0.1588785 , 0.09220779, 0.17745803, 1.        ,\n",
       "       0.        , 0.        , 0.        , 0.        , 0.12219451,\n",
       "       0.14130435, 1.        , 0.25787402, 0.14157014, 0.20366133,\n",
       "       0.61358832, 0.1460177 , 0.23529412, 0.12565445, 0.18238296,\n",
       "       0.1241535 , 0.06212425, 1.        , 0.25426945, 0.10798122,\n",
       "       0.20925553, 0.70256668, 0.09292035, 0.14669443, 0.07164179,\n",
       "       0.17872199, 0.1796875 , 0.19347826, 1.        , 0.14041746,\n",
       "       0.05868545, 0.14688129, 0.82556618, 0.07079646, 0.18719417,\n",
       "       0.        , 0.        , 0.0078125 , 0.11222445, 0.        ,\n",
       "       0.14231499, 0.10680751, 0.04627767, 0.25727227, 0.10619469,\n",
       "       0.27766788, 0.12835821, 0.53088889, 0.24023438, 0.24849699,\n",
       "       1.        , 0.12878788, 0.08450704, 0.1393597 , 1.        ,\n",
       "       0.        , 0.        , 0.        , 0.        , 0.09722222,\n",
       "       0.13026052, 1.        , 0.11088641, 0.        ])"
      ]
     },
     "execution_count": 140,
     "metadata": {},
     "output_type": "execute_result"
    }
   ],
   "source": [
    "X[1]"
   ]
  },
  {
   "cell_type": "code",
   "execution_count": 67,
   "metadata": {},
   "outputs": [],
   "source": [
    "# Variáveis para coletar os resultados\n",
    "models = np.array([])\n",
    "opt_params = dict()\n",
    "scores = np.array([])"
   ]
  },
  {
   "cell_type": "code",
   "execution_count": 68,
   "metadata": {},
   "outputs": [],
   "source": [
    "X_train, X_test, y_train, y_test = train_test_split(X, y, test_size=0.3, random_state=True)"
   ]
  },
  {
   "cell_type": "code",
   "execution_count": 9,
   "metadata": {},
   "outputs": [
    {
     "data": {
      "text/plain": [
       "(array([0.83979328, 0.84926787, 0.84827586, 0.86637931, 0.8362069 ]),\n",
       " 0.8479846446285901)"
      ]
     },
     "execution_count": 9,
     "metadata": {},
     "output_type": "execute_result"
    }
   ],
   "source": [
    "gbc = GradientBoostingClassifier()\n",
    "score = cross_val_score(gbc, X, y, cv=5)\n",
    "score, score.mean()"
   ]
  },
  {
   "cell_type": "markdown",
   "metadata": {},
   "source": [
    "## Otimizando o modelo GBC"
   ]
  },
  {
   "cell_type": "code",
   "execution_count": 11,
   "metadata": {},
   "outputs": [],
   "source": [
    "def optimize(n_estimators, learning_rate, min_samples_split, min_samples_leaf, max_depth, \n",
    "             max_features, subsample, params, cv = 5):\n",
    "  np.random.seed(0)\n",
    "\n",
    "  gbc = GradientBoostingClassifier(n_estimators = n_estimators,\n",
    "                                  learning_rate = learning_rate,\n",
    "                                  min_samples_split = min_samples_split,\n",
    "                                  min_samples_leaf = min_samples_leaf,\n",
    "                                  max_depth = max_depth,\n",
    "                                  max_features = max_features,\n",
    "                                  subsample = subsample,\n",
    "                                  random_state = 0)\n",
    "    \n",
    "  grid_search = GridSearchCV(estimator = gbc, param_grid = params, scoring = 'roc_auc',\n",
    "                             n_jobs = -1, iid = False, cv = cv)\n",
    "  grid_search.fit(X_train, y_train)\n",
    "  results = grid_search.cv_results_\n",
    "  best_params = grid_search.best_params_\n",
    "  best_score = grid_search.best_score_\n",
    "  print(best_params, best_score)\n",
    "  \n",
    "  return gbc, best_params, best_score\n",
    "\n",
    "def optimize2(n_estimators, learning_rate, min_samples_split, min_samples_leaf,\n",
    "             max_depth, max_features, subsample, cv = 5):\n",
    "  np.random.seed(0)\n",
    "  gbc = GradientBoostingClassifier(n_estimators = n_estimators,\n",
    "                                  learning_rate = learning_rate,\n",
    "                                  min_samples_split = min_samples_split,\n",
    "                                  min_samples_leaf = min_samples_leaf,\n",
    "                                  max_depth = max_depth,\n",
    "                                  max_features = max_features,\n",
    "                                  subsample = subsample,\n",
    "                                  random_state = 0)\n",
    "  cv_scores = cross_val_score(gbc, X_train, y_train, scoring = 'roc_auc', cv = cv, n_jobs = -1)\n",
    "  score = cv_scores.mean()\n",
    "\n",
    "  plt.plot(np.append(scores, score))\n",
    "  plt.title('n_estimators = {} / learning rate = {}'.format(n_estimators, learning_rate))\n",
    "  \n",
    "  return gbc, score"
   ]
  },
  {
   "cell_type": "markdown",
   "metadata": {},
   "source": [
    "#### Otimizando: n_estimators para learning_rate = 0.1"
   ]
  },
  {
   "cell_type": "code",
   "execution_count": 12,
   "metadata": {},
   "outputs": [],
   "source": [
    "# MODELO 0\n",
    "learning_rate = 0.1\n",
    "n_estimators = None\n",
    "max_depth = 8\n",
    "min_samples_split = 250\n",
    "min_samples_leaf = 20\n",
    "max_features = 'sqrt'\n",
    "subsample = 0.8\n",
    "params = {'n_estimators': range(50, 151, 10)}"
   ]
  },
  {
   "cell_type": "code",
   "execution_count": 13,
   "metadata": {},
   "outputs": [
    {
     "name": "stdout",
     "output_type": "stream",
     "text": [
      "{'n_estimators': 100} 0.8568400598118184\n"
     ]
    }
   ],
   "source": [
    "gbc, opt_param, score = optimize(n_estimators = n_estimators,\n",
    "                                 learning_rate = learning_rate,\n",
    "                                 min_samples_split = min_samples_split,\n",
    "                                 min_samples_leaf = min_samples_leaf,\n",
    "                                 max_depth = max_depth,\n",
    "                                 max_features = max_features,\n",
    "                                 subsample = subsample,\n",
    "                                 params = params)"
   ]
  },
  {
   "cell_type": "code",
   "execution_count": 15,
   "metadata": {},
   "outputs": [],
   "source": [
    "# Atualizando as variáveis com os resultados\n",
    "models = np.append(models, gbc)\n",
    "opt_params = {**opt_params, **opt_param} # ** para fundir um dict no outro\n",
    "scores = np.append(scores, score)"
   ]
  },
  {
   "cell_type": "markdown",
   "metadata": {},
   "source": [
    "#### Otimizando: max_depth e min_samples_split"
   ]
  },
  {
   "cell_type": "code",
   "execution_count": 16,
   "metadata": {},
   "outputs": [],
   "source": [
    "# MODELO 1\n",
    "n_estimators = opt_params['n_estimators']\n",
    "max_depth = None\n",
    "min_samples_split = None\n",
    "min_samples_leaf = 20\n",
    "max_features = 'sqrt'\n",
    "subsample = 0.8\n",
    "params = {'max_depth': range(3, 12, 2), 'min_samples_split': range(150, 401, 50)}"
   ]
  },
  {
   "cell_type": "code",
   "execution_count": 17,
   "metadata": {},
   "outputs": [
    {
     "name": "stdout",
     "output_type": "stream",
     "text": [
      "{'max_depth': 9, 'min_samples_split': 150} 0.8641101606535772\n"
     ]
    }
   ],
   "source": [
    "gbc, opt_param, score = optimize(n_estimators = n_estimators,\n",
    "                                 learning_rate = learning_rate,\n",
    "                                 min_samples_split = min_samples_split,\n",
    "                                 min_samples_leaf = min_samples_leaf,\n",
    "                                 max_depth = max_depth,\n",
    "                                 max_features = max_features,\n",
    "                                 subsample = subsample,\n",
    "                                 params = params)"
   ]
  },
  {
   "cell_type": "code",
   "execution_count": 18,
   "metadata": {},
   "outputs": [],
   "source": [
    "# Atualizando as variáveis com os resultados\n",
    "models = np.append(models, gbc)\n",
    "opt_params = {**opt_params, **opt_param}\n",
    "scores = np.append(scores, score)"
   ]
  },
  {
   "cell_type": "markdown",
   "metadata": {},
   "source": [
    "#### Otimizando: min_samples_leaf"
   ]
  },
  {
   "cell_type": "code",
   "execution_count": 19,
   "metadata": {},
   "outputs": [],
   "source": [
    "# MODELO 2\n",
    "max_depth = opt_params['max_depth']\n",
    "min_samples_split = opt_params['min_samples_split']\n",
    "min_samples_leaf = None\n",
    "max_features = 'sqrt'\n",
    "subsample = 0.8\n",
    "params = {'min_samples_leaf': range(25, 61, 5)}"
   ]
  },
  {
   "cell_type": "code",
   "execution_count": 20,
   "metadata": {},
   "outputs": [
    {
     "name": "stdout",
     "output_type": "stream",
     "text": [
      "{'min_samples_leaf': 25} 0.8686614133161905\n"
     ]
    }
   ],
   "source": [
    "gbc, opt_param, score = optimize(n_estimators = n_estimators,\n",
    "                                 learning_rate = learning_rate,\n",
    "                                 min_samples_split = min_samples_split,\n",
    "                                 min_samples_leaf = min_samples_leaf,\n",
    "                                 max_depth = max_depth,\n",
    "                                 max_features = max_features,\n",
    "                                 subsample = subsample,\n",
    "                                 params = params)"
   ]
  },
  {
   "cell_type": "code",
   "execution_count": 21,
   "metadata": {},
   "outputs": [],
   "source": [
    "# Atualizando as variáveis com os resultados\n",
    "models = np.append(models, gbc)\n",
    "opt_params = {**opt_params, **opt_param}\n",
    "scores = np.append(scores, score)"
   ]
  },
  {
   "cell_type": "markdown",
   "metadata": {},
   "source": [
    "#### Otimizando: max_features"
   ]
  },
  {
   "cell_type": "code",
   "execution_count": 22,
   "metadata": {},
   "outputs": [],
   "source": [
    "# MODELO 3\n",
    "min_samples_leaf = opt_params['min_samples_leaf']\n",
    "max_features = None\n",
    "subsample = 0.8\n",
    "params = {'max_features': range(21, 31, 1)}"
   ]
  },
  {
   "cell_type": "code",
   "execution_count": 23,
   "metadata": {},
   "outputs": [
    {
     "name": "stdout",
     "output_type": "stream",
     "text": [
      "{'max_features': 27} 0.8828589389246367\n"
     ]
    }
   ],
   "source": [
    "gbc, opt_param, score = optimize(n_estimators = n_estimators,\n",
    "                                 learning_rate = learning_rate,\n",
    "                                 min_samples_split = min_samples_split,\n",
    "                                 min_samples_leaf = min_samples_leaf,\n",
    "                                 max_depth = max_depth,\n",
    "                                 max_features = max_features,\n",
    "                                 subsample = subsample,\n",
    "                                 params = params)"
   ]
  },
  {
   "cell_type": "code",
   "execution_count": 24,
   "metadata": {},
   "outputs": [],
   "source": [
    "# Atualizando as variáveis com os resultados\n",
    "models = np.append(models, gbc)\n",
    "opt_params = {**opt_params, **opt_param}\n",
    "scores = np.append(scores, score)"
   ]
  },
  {
   "cell_type": "code",
   "execution_count": 25,
   "metadata": {},
   "outputs": [
    {
     "data": {
      "text/plain": [
       "{'n_estimators': 100,\n",
       " 'max_depth': 9,\n",
       " 'min_samples_split': 150,\n",
       " 'min_samples_leaf': 25,\n",
       " 'max_features': 27}"
      ]
     },
     "execution_count": 25,
     "metadata": {},
     "output_type": "execute_result"
    }
   ],
   "source": [
    "opt_params"
   ]
  },
  {
   "cell_type": "markdown",
   "metadata": {},
   "source": [
    "#### Otimizando: subsample"
   ]
  },
  {
   "cell_type": "code",
   "execution_count": 26,
   "metadata": {},
   "outputs": [],
   "source": [
    "# MODELO 4\n",
    "max_features = opt_params['max_features']\n",
    "subsample = None\n",
    "params = {'subsample': np.append(np.arange(0.6, 1, 0.05), 1)}"
   ]
  },
  {
   "cell_type": "code",
   "execution_count": 27,
   "metadata": {},
   "outputs": [
    {
     "name": "stdout",
     "output_type": "stream",
     "text": [
      "{'subsample': 1.0} 0.8929108283977165\n"
     ]
    }
   ],
   "source": [
    "gbc, opt_param, score = optimize(n_estimators = n_estimators,\n",
    "                                 learning_rate = learning_rate,\n",
    "                                 min_samples_split = min_samples_split,\n",
    "                                 min_samples_leaf = min_samples_leaf,\n",
    "                                 max_depth = max_depth,\n",
    "                                 max_features = max_features,\n",
    "                                 subsample = subsample,\n",
    "                                 params = params)"
   ]
  },
  {
   "cell_type": "code",
   "execution_count": 28,
   "metadata": {},
   "outputs": [],
   "source": [
    "# Atualizando as variáveis com os resultados\n",
    "models = np.append(models, gbc)\n",
    "opt_params = {**opt_params, **opt_param}\n",
    "scores = np.append(scores, score)"
   ]
  },
  {
   "cell_type": "code",
   "execution_count": 29,
   "metadata": {},
   "outputs": [
    {
     "data": {
      "text/plain": [
       "{'n_estimators': 100,\n",
       " 'max_depth': 9,\n",
       " 'min_samples_split': 150,\n",
       " 'min_samples_leaf': 25,\n",
       " 'max_features': 27,\n",
       " 'subsample': 1.0}"
      ]
     },
     "execution_count": 29,
     "metadata": {},
     "output_type": "execute_result"
    }
   ],
   "source": [
    "opt_params"
   ]
  },
  {
   "cell_type": "markdown",
   "metadata": {},
   "source": [
    "#### Otimizando: n_estimators e learning_rate"
   ]
  },
  {
   "cell_type": "code",
   "execution_count": 30,
   "metadata": {},
   "outputs": [],
   "source": [
    "learning_rate = 0.1\n",
    "n_estimators = opt_params['n_estimators']"
   ]
  },
  {
   "cell_type": "code",
   "execution_count": 31,
   "metadata": {},
   "outputs": [],
   "source": [
    "# MODELO 5\n",
    "subsample = opt_params['subsample']\n",
    "\n",
    "# \n",
    "learning_rate /= 2\n",
    "n_estimators *= 2"
   ]
  },
  {
   "cell_type": "code",
   "execution_count": 32,
   "metadata": {},
   "outputs": [
    {
     "data": {
      "image/png": "[encoded data removed]",
      "text/plain": [
       "<Figure size 432x288 with 1 Axes>"
      ]
     },
     "metadata": {
      "needs_background": "light"
     },
     "output_type": "display_data"
    }
   ],
   "source": [
    "gbc, score = optimize2(n_estimators = n_estimators,\n",
    "                                 learning_rate = learning_rate,\n",
    "                                 min_samples_split = min_samples_split,\n",
    "                                 min_samples_leaf = min_samples_leaf,\n",
    "                                 max_depth = max_depth,\n",
    "                                 max_features = max_features,\n",
    "                                 subsample = subsample)"
   ]
  },
  {
   "cell_type": "code",
   "execution_count": 33,
   "metadata": {},
   "outputs": [
    {
     "data": {
      "text/plain": [
       "0.9045952399425259"
      ]
     },
     "execution_count": 33,
     "metadata": {},
     "output_type": "execute_result"
    }
   ],
   "source": [
    "score"
   ]
  },
  {
   "cell_type": "code",
   "execution_count": 34,
   "metadata": {},
   "outputs": [],
   "source": [
    "# Atualizando as variáveis com os resultados\n",
    "models = np.append(models, gbc)\n",
    "scores = np.append(scores, score)"
   ]
  },
  {
   "cell_type": "markdown",
   "metadata": {},
   "source": [
    "#### Mais uma otimização na learning_rate e n_estimators"
   ]
  },
  {
   "cell_type": "code",
   "execution_count": 35,
   "metadata": {},
   "outputs": [
    {
     "data": {
      "text/plain": [
       "(0.01, 1000)"
      ]
     },
     "execution_count": 35,
     "metadata": {},
     "output_type": "execute_result"
    }
   ],
   "source": [
    "# MODELO 6\n",
    "learning_rate /= 5\n",
    "n_estimators *= 5\n",
    "learning_rate, n_estimators"
   ]
  },
  {
   "cell_type": "code",
   "execution_count": 36,
   "metadata": {},
   "outputs": [
    {
     "data": {
      "image/png": "[encoded data removed]",
      "text/plain": [
       "<Figure size 432x288 with 1 Axes>"
      ]
     },
     "metadata": {
      "needs_background": "light"
     },
     "output_type": "display_data"
    }
   ],
   "source": [
    "gbc, score = optimize2(n_estimators = n_estimators,\n",
    "                                 learning_rate = learning_rate,\n",
    "                                 min_samples_split = min_samples_split,\n",
    "                                 min_samples_leaf = min_samples_leaf,\n",
    "                                 max_depth = max_depth,\n",
    "                                 max_features = max_features,\n",
    "                                 subsample = subsample)"
   ]
  },
  {
   "cell_type": "code",
   "execution_count": 37,
   "metadata": {},
   "outputs": [
    {
     "data": {
      "text/plain": [
       "0.9077300805283108"
      ]
     },
     "execution_count": 37,
     "metadata": {},
     "output_type": "execute_result"
    }
   ],
   "source": [
    "score"
   ]
  },
  {
   "cell_type": "code",
   "execution_count": 38,
   "metadata": {},
   "outputs": [],
   "source": [
    "# Atualizando as variáveis com os resultados\n",
    "models = np.append(models, gbc)\n",
    "scores = np.append(scores, score)"
   ]
  },
  {
   "cell_type": "markdown",
   "metadata": {},
   "source": [
    "#### Mais uma otimização na learning_rate e n_estimators"
   ]
  },
  {
   "cell_type": "code",
   "execution_count": 39,
   "metadata": {},
   "outputs": [
    {
     "data": {
      "text/plain": [
       "(0.005, 2000)"
      ]
     },
     "execution_count": 39,
     "metadata": {},
     "output_type": "execute_result"
    }
   ],
   "source": [
    "# MODELO 7\n",
    "learning_rate /= 2\n",
    "n_estimators *= 2\n",
    "learning_rate, n_estimators"
   ]
  },
  {
   "cell_type": "code",
   "execution_count": 40,
   "metadata": {},
   "outputs": [
    {
     "data": {
      "image/png": "[encoded data removed]",
      "text/plain": [
       "<Figure size 432x288 with 1 Axes>"
      ]
     },
     "metadata": {
      "needs_background": "light"
     },
     "output_type": "display_data"
    }
   ],
   "source": [
    "gbc, score = optimize2(n_estimators = n_estimators,\n",
    "                                 learning_rate = learning_rate,\n",
    "                                 min_samples_split = min_samples_split,\n",
    "                                 min_samples_leaf = min_samples_leaf,\n",
    "                                 max_depth = max_depth,\n",
    "                                 max_features = max_features,\n",
    "                                 subsample = subsample)"
   ]
  },
  {
   "cell_type": "code",
   "execution_count": 41,
   "metadata": {},
   "outputs": [
    {
     "data": {
      "text/plain": [
       "0.9084626342390415"
      ]
     },
     "execution_count": 41,
     "metadata": {},
     "output_type": "execute_result"
    }
   ],
   "source": [
    "score"
   ]
  },
  {
   "cell_type": "code",
   "execution_count": 42,
   "metadata": {},
   "outputs": [],
   "source": [
    "# Atualizando as variáveis com os resultados\n",
    "models = np.append(models, gbc)\n",
    "scores = np.append(scores, score)"
   ]
  },
  {
   "cell_type": "markdown",
   "metadata": {},
   "source": [
    "#### Mais uma otimização na learning_rate e n_estimators"
   ]
  },
  {
   "cell_type": "code",
   "execution_count": 43,
   "metadata": {},
   "outputs": [
    {
     "data": {
      "text/plain": [
       "(0.001, 10000)"
      ]
     },
     "execution_count": 43,
     "metadata": {},
     "output_type": "execute_result"
    }
   ],
   "source": [
    "# MODELO 8\n",
    "learning_rate /= 5\n",
    "n_estimators *= 5\n",
    "learning_rate, n_estimators"
   ]
  },
  {
   "cell_type": "code",
   "execution_count": 44,
   "metadata": {},
   "outputs": [
    {
     "data": {
      "image/png": "[encoded data removed]",
      "text/plain": [
       "<Figure size 432x288 with 1 Axes>"
      ]
     },
     "metadata": {
      "needs_background": "light"
     },
     "output_type": "display_data"
    }
   ],
   "source": [
    "gbc, score = optimize2(n_estimators = n_estimators,\n",
    "                                 learning_rate = learning_rate,\n",
    "                                 min_samples_split = min_samples_split,\n",
    "                                 min_samples_leaf = min_samples_leaf,\n",
    "                                 max_depth = max_depth,\n",
    "                                 max_features = max_features,\n",
    "                                 subsample = subsample)"
   ]
  },
  {
   "cell_type": "code",
   "execution_count": 45,
   "metadata": {},
   "outputs": [
    {
     "data": {
      "text/plain": [
       "0.9096680801776621"
      ]
     },
     "execution_count": 45,
     "metadata": {},
     "output_type": "execute_result"
    }
   ],
   "source": [
    "score"
   ]
  },
  {
   "cell_type": "code",
   "execution_count": 48,
   "metadata": {},
   "outputs": [],
   "source": [
    "# Atualizando as variáveis com os resultados\n",
    "models = np.append(models, gbc)\n",
    "scores = np.append(scores, score)"
   ]
  },
  {
   "cell_type": "code",
   "execution_count": 49,
   "metadata": {},
   "outputs": [
    {
     "name": "stdout",
     "output_type": "stream",
     "text": [
      "Melhor modelo:  9  - AUC:  0.9096680801776621\n"
     ]
    }
   ],
   "source": [
    "print('Melhor modelo: ', scores.argmax(), ' - AUC: ', max(scores))"
   ]
  },
  {
   "cell_type": "markdown",
   "metadata": {},
   "source": [
    "## Best Model"
   ]
  },
  {
   "cell_type": "code",
   "execution_count": 50,
   "metadata": {},
   "outputs": [],
   "source": [
    "best_model = models[scores.argmax()]"
   ]
  },
  {
   "cell_type": "code",
   "execution_count": 69,
   "metadata": {},
   "outputs": [
    {
     "data": {
      "text/plain": [
       "GradientBoostingClassifier(criterion='friedman_mse', init=None,\n",
       "                           learning_rate=0.005, loss='deviance', max_depth=9,\n",
       "                           max_features=27, max_leaf_nodes=None,\n",
       "                           min_impurity_decrease=0.0, min_impurity_split=None,\n",
       "                           min_samples_leaf=25, min_samples_split=150,\n",
       "                           min_weight_fraction_leaf=0.0, n_estimators=2000,\n",
       "                           n_iter_no_change=None, presort='auto',\n",
       "                           random_state=0, subsample=1.0, tol=0.0001,\n",
       "                           validation_fraction=0.1, verbose=0,\n",
       "                           warm_start=False)"
      ]
     },
     "execution_count": 69,
     "metadata": {},
     "output_type": "execute_result"
    }
   ],
   "source": [
    "best_model.fit(X_train, y_train)"
   ]
  },
  {
   "cell_type": "code",
   "execution_count": 70,
   "metadata": {},
   "outputs": [],
   "source": [
    "y_pred_probs = best_model.predict_proba(X_test)"
   ]
  },
  {
   "cell_type": "code",
   "execution_count": 71,
   "metadata": {},
   "outputs": [],
   "source": [
    "y_pred = best_model.predict(X_test)"
   ]
  },
  {
   "cell_type": "code",
   "execution_count": 72,
   "metadata": {},
   "outputs": [
    {
     "data": {
      "text/plain": [
       "array([[0.9597164 , 0.0402836 ],\n",
       "       [0.92939983, 0.07060017],\n",
       "       [0.82908906, 0.17091094],\n",
       "       [0.01928006, 0.98071994],\n",
       "       [0.91415561, 0.08584439],\n",
       "       [0.92300162, 0.07699838],\n",
       "       [0.80771216, 0.19228784],\n",
       "       [0.2054    , 0.7946    ],\n",
       "       [0.70021628, 0.29978372],\n",
       "       [0.86719402, 0.13280598],\n",
       "       [0.04101509, 0.95898491],\n",
       "       [0.68388631, 0.31611369],\n",
       "       [0.51501777, 0.48498223],\n",
       "       [0.84555205, 0.15444795],\n",
       "       [0.07129978, 0.92870022],\n",
       "       [0.89630633, 0.10369367],\n",
       "       [0.93718536, 0.06281464],\n",
       "       [0.96588611, 0.03411389],\n",
       "       [0.78665144, 0.21334856],\n",
       "       [0.13385729, 0.86614271]])"
      ]
     },
     "execution_count": 72,
     "metadata": {},
     "output_type": "execute_result"
    }
   ],
   "source": [
    "y_pred_probs[0:20,:]"
   ]
  },
  {
   "cell_type": "code",
   "execution_count": 73,
   "metadata": {},
   "outputs": [
    {
     "data": {
      "text/plain": [
       "array(['Gain', 'Gain', 'Gain', 'Loss', 'Gain', 'Gain', 'Gain', 'Loss',\n",
       "       'Gain', 'Gain', 'Loss', 'Gain', 'Gain', 'Gain', 'Loss', 'Gain',\n",
       "       'Gain', 'Gain', 'Gain', 'Loss'], dtype=object)"
      ]
     },
     "execution_count": 73,
     "metadata": {},
     "output_type": "execute_result"
    }
   ],
   "source": [
    "y_pred[0:20]"
   ]
  },
  {
   "cell_type": "code",
   "execution_count": 74,
   "metadata": {},
   "outputs": [
    {
     "data": {
      "text/plain": [
       "array([0.0402836 , 0.07060017, 0.17091094, ..., 0.43099373, 0.1862377 ,\n",
       "       0.07139677])"
      ]
     },
     "execution_count": 74,
     "metadata": {},
     "output_type": "execute_result"
    }
   ],
   "source": [
    "y_pred_probs[:, 1]"
   ]
  },
  {
   "cell_type": "code",
   "execution_count": 75,
   "metadata": {},
   "outputs": [
    {
     "data": {
      "text/plain": [
       "0.9203970229543252"
      ]
     },
     "execution_count": 75,
     "metadata": {},
     "output_type": "execute_result"
    }
   ],
   "source": [
    "# https://medium.com/bio-data-blog/entenda-o-que-%C3%A9-auc-e-roc-nos-modelos-de-machine-learning-8191fb4df772\n",
    "roc_auc_score(y_test, y_pred_probs[:, 1])"
   ]
  },
  {
   "cell_type": "code",
   "execution_count": 76,
   "metadata": {},
   "outputs": [
    {
     "data": {
      "text/plain": [
       "0.8709055876685935"
      ]
     },
     "execution_count": 76,
     "metadata": {},
     "output_type": "execute_result"
    }
   ],
   "source": [
    "accuracy_score(y_test, y_pred)"
   ]
  },
  {
   "cell_type": "markdown",
   "metadata": {},
   "source": [
    "#### Teste de previsão manual"
   ]
  },
  {
   "cell_type": "code",
   "execution_count": 77,
   "metadata": {},
   "outputs": [
    {
     "name": "stdout",
     "output_type": "stream",
     "text": [
      "[[0.96588611 0.03411389]]\n",
      "['Gain']\n",
      "517    Gain\n",
      "Name: status, dtype: object\n"
     ]
    }
   ],
   "source": [
    "index = 18\n",
    "data = [X_test[(index-1)]]\n",
    "\n",
    "print(best_model.predict_proba(data))\n",
    "print(best_model.predict(data))\n",
    "print(y_test[index-1:index])"
   ]
  },
  {
   "cell_type": "code",
   "execution_count": 78,
   "metadata": {},
   "outputs": [
    {
     "data": {
      "text/plain": [
       "array(['Gain', 'Gain', 'Gain', ..., 'Loss', 'Gain', 'Gain'], dtype=object)"
      ]
     },
     "execution_count": 78,
     "metadata": {},
     "output_type": "execute_result"
    }
   ],
   "source": [
    "y_test.values"
   ]
  },
  {
   "cell_type": "markdown",
   "metadata": {},
   "source": [
    "#### Save/Load Best Model"
   ]
  },
  {
   "cell_type": "code",
   "execution_count": 113,
   "metadata": {},
   "outputs": [],
   "source": [
    "#https://machinelearningmastery.com/save-load-machine-learning-models-python-scikit-learn/\n",
    "import pickle\n",
    "filename = 'model_cler.sav'"
   ]
  },
  {
   "cell_type": "code",
   "execution_count": 114,
   "metadata": {},
   "outputs": [],
   "source": [
    "# save the model to disk\n",
    "pickle.dump(best_model, open(filename, 'wb'))\n",
    "\n",
    "#exporting the departure encoder\n",
    "output = open('LabelEncoder.pkl', 'wb')\n",
    "pickle.dump(encoder, output)\n",
    "output.close()\n",
    "\n",
    "#exporting the departure encoder\n",
    "output = open('MinMaxScaler.pkl', 'wb')\n",
    "pickle.dump(scaler, output)\n",
    "output.close()"
   ]
  },
  {
   "cell_type": "raw",
   "metadata": {},
   "source": [
    "# load the model from disk\n",
    "best_model = pickle.load(open(filename, 'rb'))\n",
    "result = best_model.score(X_test, y_test)\n",
    "print(result)"
   ]
  },
  {
   "cell_type": "markdown",
   "metadata": {},
   "source": [
    "## Evolução"
   ]
  },
  {
   "cell_type": "code",
   "execution_count": 76,
   "metadata": {},
   "outputs": [
    {
     "data": {
      "text/plain": [
       "array([0.46      , 0.53      , 0.59      , 0.63      , 0.67      ,\n",
       "       0.89291083, 0.86411016, 0.86866141, 0.88285894, 0.89291083,\n",
       "       0.90459524, 0.90773008, 0.90846263, 0.90966808])"
      ]
     },
     "execution_count": 76,
     "metadata": {},
     "output_type": "execute_result"
    }
   ],
   "source": [
    "# lista com todas as performance dos modelos criados\n",
    "listScores = np.array([0.46, 0.53, 0.59, 0.63, 0.67, 0.8929108283977165, 0.8641101606535772,\n",
    "                       0.8686614133161905, 0.8828589389246367, 0.8929108283977165, 0.9045952399425259, 0.9077300805283108, 0.9084626342390415, 0.9096680801776621])\n",
    "listScores"
   ]
  },
  {
   "cell_type": "code",
   "execution_count": 90,
   "metadata": {},
   "outputs": [
    {
     "data": {
      "text/plain": [
       "[<matplotlib.lines.Line2D at 0x129d34a0d08>]"
      ]
     },
     "execution_count": 90,
     "metadata": {},
     "output_type": "execute_result"
    },
    {
     "data": {
      "image/png": "[encoded data removed]",
      "text/plain": [
       "<Figure size 1800x576 with 1 Axes>"
      ]
     },
     "metadata": {},
     "output_type": "display_data"
    }
   ],
   "source": [
    "plt.plot(listScores)"
   ]
  },
  {
   "cell_type": "code",
   "execution_count": null,
   "metadata": {},
   "outputs": [],
   "source": []
  }
 ],
 "metadata": {
  "kernelspec": {
   "display_name": "Python 3",
   "language": "python",
   "name": "python3"
  },
  "language_info": {
   "codemirror_mode": {
    "name": "ipython",
    "version": 3
   },
   "file_extension": ".py",
   "mimetype": "text/x-python",
   "name": "python",
   "nbconvert_exporter": "python",
   "pygments_lexer": "ipython3",
   "version": "3.7.4"
  }
 },
 "nbformat": 4,
 "nbformat_minor": 4
}
