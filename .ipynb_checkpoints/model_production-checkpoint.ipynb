{
 "cells": [
  {
   "cell_type": "code",
   "execution_count": 337,
   "metadata": {},
   "outputs": [],
   "source": [
    "import pandas as pd\n",
    "import pickle\n",
    "from io import StringIO\n",
    "\n",
    "import os\n",
    "\n",
    "from sklearn.preprocessing import LabelEncoder\n",
    "from sklearn.ensemble import GradientBoostingClassifier"
   ]
  },
  {
   "cell_type": "markdown",
   "metadata": {},
   "source": [
    "## Load Model"
   ]
  },
  {
   "cell_type": "code",
   "execution_count": 338,
   "metadata": {},
   "outputs": [],
   "source": [
    "#https://machinelearningmastery.com/save-load-machine-learning-models-python-scikit-learn/\n",
    "#https://stackoverflow.com/questions/28656736/using-scikits-labelencoder-correctly-across-multiple-programs\n",
    "\n",
    "filename = 'model_cler.sav'\n",
    "best_model = pickle.load(open(filename, 'rb'))\n",
    "\n",
    "pkl_file = open('MinMaxScaler.pkl', 'rb')\n",
    "sc = pickle.load(pkl_file) \n",
    "pkl_file.close()"
   ]
  },
  {
   "cell_type": "markdown",
   "metadata": {},
   "source": [
    "## Model in Production"
   ]
  },
  {
   "cell_type": "code",
   "execution_count": 356,
   "metadata": {},
   "outputs": [],
   "source": [
    "path = r\"C:\\Users\\André\\AppData\\Roaming\\MetaQuotes\\Tester\\D0E8209F77C8CF37AD8BF550E51FF075\\Agent-127.0.0.1-3000\\MQL5\\Files\"\n",
    "file_ask_ml = path + \"\\\\ask_ml.csv\";"
   ]
  },
  {
   "cell_type": "code",
   "execution_count": 362,
   "metadata": {},
   "outputs": [
    {
     "name": "stdout",
     "output_type": "stream",
     "text": [
      "Arquivo encontrado\n"
     ]
    }
   ],
   "source": [
    "#StringData = StringIO(\"\"\"ampl_20;desv_amp_20;body_20;body_per_20;pavio_sup_20;pavio_sup_per_20;pavio_inf_20;pavio_inf_per_20;high_dist_20;low_dist_20;type_20;ampl_19;desv_amp_19;body_19;body_per_19;pavio_sup_19;pavio_sup_per_19;pavio_inf_19;pavio_inf_per_19;high_dist_19;low_dist_19;type_19;ampl_18;desv_amp_18;body_18;body_per_18;pavio_sup_18;pavio_sup_per_18;pavio_inf_18;pavio_inf_per_18;high_dist_18;low_dist_18;type_18;ampl_17;desv_amp_17;body_17;body_per_17;pavio_sup_17;pavio_sup_per_17;pavio_inf_17;pavio_inf_per_17;high_dist_17;low_dist_17;type_17;ampl_16;desv_amp_16;body_16;body_per_16;pavio_sup_16;pavio_sup_per_16;pavio_inf_16;pavio_inf_per_16;high_dist_16;low_dist_16;type_16;ampl_15;desv_amp_15;body_15;body_per_15;pavio_sup_15;pavio_sup_per_15;pavio_inf_15;pavio_inf_per_15;high_dist_15;low_dist_15;type_15;ampl_14;desv_amp_14;body_14;body_per_14;pavio_sup_14;pavio_sup_per_14;pavio_inf_14;pavio_inf_per_14;high_dist_14;low_dist_14;type_14;ampl_13;desv_amp_13;body_13;body_per_13;pavio_sup_13;pavio_sup_per_13;pavio_inf_13;pavio_inf_per_13;high_dist_13;low_dist_13;type_13;ampl_12;desv_amp_12;body_12;body_per_12;pavio_sup_12;pavio_sup_per_12;pavio_inf_12;pavio_inf_per_12;high_dist_12;low_dist_12;type_12;ampl_11;desv_amp_11;body_11;body_per_11;pavio_sup_11;pavio_sup_per_11;pavio_inf_11;pavio_inf_per_11;high_dist_11;low_dist_11;type_11;ampl_10;desv_amp_10;body_10;body_per_10;pavio_sup_10;pavio_sup_per_10;pavio_inf_10;pavio_inf_per_10;high_dist_10;low_dist_10;type_10;ampl_9;desv_amp_9;body_9;body_per_9;pavio_sup_9;pavio_sup_per_9;pavio_inf_9;pavio_inf_per_9;high_dist_9;low_dist_9;type_9;ampl_8;desv_amp_8;body_8;body_per_8;pavio_sup_8;pavio_sup_per_8;pavio_inf_8;pavio_inf_per_8;high_dist_8;low_dist_8;type_8;ampl_7;desv_amp_7;body_7;body_per_7;pavio_sup_7;pavio_sup_per_7;pavio_inf_7;pavio_inf_per_7;high_dist_7;low_dist_7;type_7;ampl_6;desv_amp_6;body_6;body_per_6;pavio_sup_6;pavio_sup_per_6;pavio_inf_6;pavio_inf_per_6;high_dist_6;low_dist_6;type_6;ampl_5;desv_amp_5;body_5;body_per_5;pavio_sup_5;pavio_sup_per_5;pavio_inf_5;pavio_inf_per_5;high_dist_5;low_dist_5;type_5;ampl_4;desv_amp_4;body_4;body_per_4;pavio_sup_4;pavio_sup_per_4;pavio_inf_4;pavio_inf_per_4;high_dist_4;low_dist_4;type_4;ampl_3;desv_amp_3;body_3;body_per_3;pavio_sup_3;pavio_sup_per_3;pavio_inf_3;pavio_inf_per_3;high_dist_3;low_dist_3;type_3;ampl_2;desv_amp_2;body_2;body_per_2;pavio_sup_2;pavio_sup_per_2;pavio_inf_2;pavio_inf_per_2;high_dist_2;low_dist_2;type_2;ampl_1;desv_amp_1;body_1;body_per_1;pavio_sup_1;pavio_sup_per_1;pavio_inf_1;pavio_inf_per_1;high_dist_1;low_dist_1;type_1;ampl_0;desv_amp_0;body_0;body_per_0;pavio_sup_0;pavio_sup_per_0;pavio_inf_0;pavio_inf_per_0;high_dist_0;low_dist_0;type_0;ampl_m15_5;desv_amp_m15_5;body_m15_5;body_per_m15_5;pavio_sup_m15_5;pavio_sup_per_m15_5;pavio_inf_m15_5;pavio_inf_per_m15_5;high_dist_m15_5;low_dist_m15_5;type_m15_5;ampl_m15_4;desv_amp_m15_4;body_m15_4;body_per_m15_4;pavio_sup_m15_4;pavio_sup_per_m15_4;pavio_inf_m15_4;pavio_inf_per_m15_4;high_dist_m15_4;low_dist_m15_4;type_m15_4;ampl_m15_3;desv_amp_m15_3;body_m15_3;body_per_m15_3;pavio_sup_m15_3;pavio_sup_per_m15_3;pavio_inf_m15_3;pavio_inf_per_m15_3;high_dist_m15_3;low_dist_m15_3;type_m15_3;ampl_m15_2;desv_amp_m15_2;body_m15_2;body_per_m15_2;pavio_sup_m15_2;pavio_sup_per_m15_2;pavio_inf_m15_2;pavio_inf_per_m15_2;high_dist_m15_2;low_dist_m15_2;type_m15_2;ampl_m15_1;desv_amp_m15_1;body_m15_1;body_per_m15_1;pavio_sup_m15_1;pavio_sup_per_m15_1;pavio_inf_m15_1;pavio_inf_per_m15_1;high_dist_m15_1;low_dist_m15_1;type_m15_1;ampl_m15_0;desv_amp_m15_0;body_m15_0;body_per_m15_0;pavio_sup_m15_0;pavio_sup_per_m15_0;pavio_inf_m15_0;pavio_inf_per_m15_0;high_dist_m15_0;low_dist_m15_0;type_m15_0;ampl_h1_4;desv_amp_h1_4;body_h1_4;body_per_h1_4;pavio_sup_h1_4;pavio_sup_per_h1_4;pavio_inf_h1_4;pavio_inf_per_h1_4;high_dist_h1_4;low_dist_h1_4;type_h1_4;ampl_h1_3;desv_amp_h1_3;body_h1_3;body_per_h1_3;pavio_sup_h1_3;pavio_sup_per_h1_3;pavio_inf_h1_3;pavio_inf_per_h1_3;high_dist_h1_3;low_dist_h1_3;type_h1_3;ampl_h1_2;desv_amp_h1_2;body_h1_2;body_per_h1_2;pavio_sup_h1_2;pavio_sup_per_h1_2;pavio_inf_h1_2;pavio_inf_per_h1_2;high_dist_h1_2;low_dist_h1_2;type_h1_2;ampl_h1_1;desv_amp_h1_1;body_h1_1;body_per_h1_1;pavio_sup_h1_1;pavio_sup_per_h1_1;pavio_inf_h1_1;pavio_inf_per_h1_1;high_dist_h1_1;low_dist_h1_1;type_h1_1;ampl_h1_0;desv_amp_h1_0;body_h1_0;body_per_h1_0;pavio_sup_h1_0;pavio_sup_per_h1_0;pavio_inf_h1_0;pavio_inf_per_h1_0;high_dist_h1_0;low_dist_h1_0;type_h1_0;ampl_h2_4;desv_amp_h2_4;body_h2_4;body_per_h2_4;pavio_sup_h2_4;pavio_sup_per_h2_4;pavio_inf_h2_4;pavio_inf_per_h2_4;high_dist_h2_4;low_dist_h2_4;type_h2_4;ampl_h2_3;desv_amp_h2_3;body_h2_3;body_per_h2_3;pavio_sup_h2_3;pavio_sup_per_h2_3;pavio_inf_h2_3;pavio_inf_per_h2_3;high_dist_h2_3;low_dist_h2_3;type_h2_3;ampl_h2_2;desv_amp_h2_2;body_h2_2;body_per_h2_2;pavio_sup_h2_2;pavio_sup_per_h2_2;pavio_inf_h2_2;pavio_inf_per_h2_2;high_dist_h2_2;low_dist_h2_2;type_h2_2;ampl_h2_1;desv_amp_h2_1;body_h2_1;body_per_h2_1;pavio_sup_h2_1;pavio_sup_per_h2_1;pavio_inf_h2_1;pavio_inf_per_h2_1;high_dist_h2_1;low_dist_h2_1;type_h2_1;ampl_h2_0;desv_amp_h2_0;body_h2_0;body_per_h2_0;pavio_sup_h2_0;pavio_sup_per_h2_0;pavio_inf_h2_0;pavio_inf_per_h2_0;high_dist_h2_0;low_dist_h2_0;type_h2_0;atr;qt_bars;oper;take;status\n",
    "#55.00;1.38;25.00;45.45;15.00;27.27;15.00;27.27;0.00;15.00;up;55.00;1.00;20.00;36.36;25.00;45.45;10.00;18.18;15.00;15.00;down;30.00;0.55;20.00;66.67;5.00;16.67;5.00;16.67;25.00;0.00;up;45.00;1.50;30.00;66.67;5.00;11.11;10.00;22.22;30.00;15.00;up;40.00;0.89;40.00;100.00;0.00;0.00;0.00;0.00;30.00;35.00;up;65.00;1.63;50.00;76.92;15.00;23.08;0.00;0.00;10.00;15.00;down;35.00;0.54;5.00;14.29;5.00;14.29;25.00;71.43;55.00;25.00;up;15.00;0.43;10.00;66.67;5.00;33.33;0.00;0.00;10.00;30.00;up;70.00;4.67;10.00;14.29;30.00;42.86;30.00;42.86;35.00;20.00;up;55.00;0.79;10.00;18.18;0.00;0.00;45.00;81.82;15.00;0.00;up;45.00;0.82;20.00;44.44;25.00;55.56;0.00;0.00;20.00;30.00;down;30.00;0.67;5.00;16.67;5.00;16.67;20.00;66.67;35.00;20.00;up;60.00;2.00;50.00;83.33;5.00;8.33;5.00;8.33;50.00;20.00;up;35.00;0.58;15.00;42.86;15.00;42.86;5.00;14.29;25.00;50.00;up;35.00;1.00;15.00;42.86;15.00;42.86;5.00;14.29;0.00;0.00;down;30.00;0.86;5.00;16.67;5.00;16.67;20.00;66.67;20.00;15.00;down;65.00;2.17;40.00;61.54;0.00;0.00;25.00;38.46;10.00;45.00;down;25.00;0.38;0.00;0.00;0.00;0.00;0.00;0.00;20.00;20.00;inside;20.00;0.80;5.00;25.00;5.00;25.00;10.00;50.00;5.00;0.00;up;45.00;2.25;30.00;66.67;0.00;0.00;15.00;33.33;5.00;30.00;down;50.00;1.11;5.00;10.00;0.00;0.00;45.00;90.00;30.00;35.00;up;155.00;0.58;45.00;29.03;50.00;32.26;60.00;38.71;10.00;100.00;down;445.00;2.87;365.00;82.02;80.00;17.98;0.00;0.00;10.00;300.00;down;380.00;0.85;60.00;15.79;105.00;27.63;215.00;56.58;685.00;620.00;up;270.00;0.71;135.00;50.00;30.00;11.11;105.00;38.89;65.00;175.00;up;180.00;0.67;90.00;50.00;40.00;22.22;50.00;27.78;5.00;95.00;down;140.00;0.78;10.00;7.14;90.00;64.29;40.00;28.57;30.00;10.00;up;340.00;0.73;150.00;44.12;165.00;48.53;25.00;7.35;265.00;390.00;up;345.00;1.01;140.00;40.58;85.00;24.64;120.00;34.78;60.00;55.00;up;490.00;1.42;385.00;78.57;105.00;21.43;0.00;0.00;400.00;255.00;up;445.00;0.91;365.00;82.02;80.00;17.98;0.00;0.00;20.00;25.00;down;450.00;1.01;115.00;25.56;120.00;26.67;215.00;47.78;615.00;620.00;up;610.00;1.03;235.00;38.52;340.00;55.74;35.00;5.74;490.00;475.00;up;730.00;1.20;445.00;60.96;165.00;22.60;120.00;16.44;275.00;155.00;up;745.00;1.02;520.00;69.80;105.00;14.09;120.00;16.11;460.00;445.00;up;445.00;0.60;365.00;82.02;80.00;17.98;0.00;0.00;20.00;280.00;down;450.00;1.01;115.00;25.56;120.00;26.67;215.00;47.78;615.00;620.00;up;41.43;3;Buy;20.0;Gain\"\"\")\n",
    "#value = pd.read_csv(StringData, sep=\";\")\n",
    "\n",
    "if os.path.exists(file_ask_ml):    \n",
    "    print('Arquivo encontrado')\n",
    "    \n",
    "    value = pd.read_csv(file_ask_ml, sep=\";\", encoding='utf-16')\n",
    "    #value.drop(['take','status','oper'], axis=1, inplace=True)\n",
    "    \n",
    "    columns_categorical = value.select_dtypes(include=['object']).columns\n",
    "    for col_cat in columns_categorical:\n",
    "        value[col_cat] = encoder.transform(value[col_cat])\n",
    "        \n",
    "    value = sc.transform(value)\n",
    "    predict = best_model.predict(value)\n",
    "\n",
    "    fileName = ''\n",
    "    if(predict == 'Gain'):\n",
    "        fileName = '\\\\gain.txt';\n",
    "    elif(predict == 'Loss'):\n",
    "        fileName = '\\\\loss.txt';\n",
    "    elif(predict == 'Gain'):\n",
    "        fileName = '\\\\nada.txt';\n",
    "\n",
    "    fwrite = path + fileName\n",
    "    file1 = open(fwrite,\"a\")\n",
    "    file1.write(str(predict[0]))\n",
    "    file1.close() \n",
    "    \n",
    "    os.remove(file_ask_ml)"
   ]
  },
  {
   "cell_type": "code",
   "execution_count": 341,
   "metadata": {},
   "outputs": [],
   "source": []
  }
 ],
 "metadata": {
  "kernelspec": {
   "display_name": "Python 3",
   "language": "python",
   "name": "python3"
  },
  "language_info": {
   "codemirror_mode": {
    "name": "ipython",
    "version": 3
   },
   "file_extension": ".py",
   "mimetype": "text/x-python",
   "name": "python",
   "nbconvert_exporter": "python",
   "pygments_lexer": "ipython3",
   "version": "3.7.4"
  }
 },
 "nbformat": 4,
 "nbformat_minor": 4
}
