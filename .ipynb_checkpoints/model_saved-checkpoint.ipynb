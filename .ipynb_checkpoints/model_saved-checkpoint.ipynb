{
 "cells": [
  {
   "cell_type": "code",
   "execution_count": 1,
   "metadata": {},
   "outputs": [],
   "source": [
    "import pandas as pd\n",
    "import numpy as np\n",
    "import matplotlib.pyplot as plt\n",
    "import seaborn as sns\n",
    "\n",
    "from sklearn.preprocessing import LabelEncoder, MinMaxScaler\n",
    "from sklearn.model_selection import train_test_split, cross_val_score, GridSearchCV\n",
    "from sklearn.metrics import confusion_matrix, accuracy_score, roc_auc_score\n",
    "from warnings import simplefilter\n",
    "\n",
    "from sklearn.ensemble import GradientBoostingClassifier\n",
    "from sklearn.neural_network import MLPClassifier\n",
    "from sklearn.ensemble import RandomForestClassifier\n",
    "\n",
    "simplefilter(action='ignore', category=FutureWarning)\n",
    "\n",
    "%matplotlib inline\n",
    "\n",
    "plt.rcParams['figure.figsize'] = (25, 8)\n",
    "#sns.set_style('whitegrid')\n",
    "sns.set_style('white')\n",
    "sns.set_context('poster')"
   ]
  },
  {
   "cell_type": "code",
   "execution_count": 2,
   "metadata": {},
   "outputs": [
    {
     "data": {
      "text/plain": [
       "Gain    3787\n",
       "Loss    2015\n",
       "Name: status, dtype: int64"
      ]
     },
     "execution_count": 2,
     "metadata": {},
     "output_type": "execute_result"
    }
   ],
   "source": [
    "df = pd.read_csv('datasets/dataset_cler.csv', sep=\";\", encoding='utf-16')\n",
    "df.drop(df.loc[(df['status']!='Loss') & (df['status']!='Gain')].index.values, inplace=True)\n",
    "df['status'].value_counts()"
   ]
  },
  {
   "cell_type": "code",
   "execution_count": 11,
   "metadata": {},
   "outputs": [],
   "source": [
    "df_test = pd.read_csv('to_csv.csv', sep=\",\")"
   ]
  },
  {
   "cell_type": "code",
   "execution_count": 12,
   "metadata": {},
   "outputs": [
    {
     "data": {
      "text/html": [
       "<div>\n",
       "<style scoped>\n",
       "    .dataframe tbody tr th:only-of-type {\n",
       "        vertical-align: middle;\n",
       "    }\n",
       "\n",
       "    .dataframe tbody tr th {\n",
       "        vertical-align: top;\n",
       "    }\n",
       "\n",
       "    .dataframe thead th {\n",
       "        text-align: right;\n",
       "    }\n",
       "</style>\n",
       "<table border=\"1\" class=\"dataframe\">\n",
       "  <thead>\n",
       "    <tr style=\"text-align: right;\">\n",
       "      <th></th>\n",
       "      <th>ampl_20</th>\n",
       "      <th>desv_amp_20</th>\n",
       "      <th>body_20</th>\n",
       "      <th>body_per_20</th>\n",
       "      <th>pavio_sup_20</th>\n",
       "      <th>pavio_sup_per_20</th>\n",
       "      <th>pavio_inf_20</th>\n",
       "      <th>pavio_inf_per_20</th>\n",
       "      <th>high_dist_20</th>\n",
       "      <th>low_dist_20</th>\n",
       "      <th>...</th>\n",
       "      <th>pavio_inf_h2_0</th>\n",
       "      <th>pavio_inf_per_h2_0</th>\n",
       "      <th>high_dist_h2_0</th>\n",
       "      <th>low_dist_h2_0</th>\n",
       "      <th>type_h2_0</th>\n",
       "      <th>atr</th>\n",
       "      <th>qt_bars</th>\n",
       "      <th>oper</th>\n",
       "      <th>take</th>\n",
       "      <th>status</th>\n",
       "    </tr>\n",
       "  </thead>\n",
       "  <tbody>\n",
       "    <tr>\n",
       "      <td>0</td>\n",
       "      <td>55.0</td>\n",
       "      <td>1.38</td>\n",
       "      <td>25.0</td>\n",
       "      <td>45.45</td>\n",
       "      <td>15.0</td>\n",
       "      <td>27.27</td>\n",
       "      <td>15.0</td>\n",
       "      <td>27.27</td>\n",
       "      <td>0.0</td>\n",
       "      <td>15.0</td>\n",
       "      <td>...</td>\n",
       "      <td>215.0</td>\n",
       "      <td>47.78</td>\n",
       "      <td>615.0</td>\n",
       "      <td>620.0</td>\n",
       "      <td>up</td>\n",
       "      <td>41.43</td>\n",
       "      <td>3</td>\n",
       "      <td>Buy</td>\n",
       "      <td>20.0</td>\n",
       "      <td>Gain</td>\n",
       "    </tr>\n",
       "    <tr>\n",
       "      <td>1</td>\n",
       "      <td>70.0</td>\n",
       "      <td>4.67</td>\n",
       "      <td>10.0</td>\n",
       "      <td>14.29</td>\n",
       "      <td>30.0</td>\n",
       "      <td>42.86</td>\n",
       "      <td>30.0</td>\n",
       "      <td>42.86</td>\n",
       "      <td>35.0</td>\n",
       "      <td>20.0</td>\n",
       "      <td>...</td>\n",
       "      <td>0.0</td>\n",
       "      <td>0.00</td>\n",
       "      <td>85.0</td>\n",
       "      <td>325.0</td>\n",
       "      <td>up</td>\n",
       "      <td>58.57</td>\n",
       "      <td>3</td>\n",
       "      <td>Buy</td>\n",
       "      <td>20.0</td>\n",
       "      <td>Gain</td>\n",
       "    </tr>\n",
       "    <tr>\n",
       "      <td>2</td>\n",
       "      <td>65.0</td>\n",
       "      <td>2.17</td>\n",
       "      <td>40.0</td>\n",
       "      <td>61.54</td>\n",
       "      <td>0.0</td>\n",
       "      <td>0.00</td>\n",
       "      <td>25.0</td>\n",
       "      <td>38.46</td>\n",
       "      <td>10.0</td>\n",
       "      <td>45.0</td>\n",
       "      <td>...</td>\n",
       "      <td>0.0</td>\n",
       "      <td>0.00</td>\n",
       "      <td>180.0</td>\n",
       "      <td>325.0</td>\n",
       "      <td>up</td>\n",
       "      <td>58.21</td>\n",
       "      <td>5</td>\n",
       "      <td>Sell</td>\n",
       "      <td>20.0</td>\n",
       "      <td>Gain</td>\n",
       "    </tr>\n",
       "  </tbody>\n",
       "</table>\n",
       "<p>3 rows × 412 columns</p>\n",
       "</div>"
      ],
      "text/plain": [
       "   ampl_20  desv_amp_20  body_20  body_per_20  pavio_sup_20  pavio_sup_per_20  \\\n",
       "0     55.0         1.38     25.0        45.45          15.0             27.27   \n",
       "1     70.0         4.67     10.0        14.29          30.0             42.86   \n",
       "2     65.0         2.17     40.0        61.54           0.0              0.00   \n",
       "\n",
       "   pavio_inf_20  pavio_inf_per_20  high_dist_20  low_dist_20  ...  \\\n",
       "0          15.0             27.27           0.0         15.0  ...   \n",
       "1          30.0             42.86          35.0         20.0  ...   \n",
       "2          25.0             38.46          10.0         45.0  ...   \n",
       "\n",
       "  pavio_inf_h2_0  pavio_inf_per_h2_0  high_dist_h2_0  low_dist_h2_0  \\\n",
       "0          215.0               47.78           615.0          620.0   \n",
       "1            0.0                0.00            85.0          325.0   \n",
       "2            0.0                0.00           180.0          325.0   \n",
       "\n",
       "   type_h2_0    atr  qt_bars  oper  take  status  \n",
       "0         up  41.43        3   Buy  20.0    Gain  \n",
       "1         up  58.57        3   Buy  20.0    Gain  \n",
       "2         up  58.21        5  Sell  20.0    Gain  \n",
       "\n",
       "[3 rows x 412 columns]"
      ]
     },
     "execution_count": 12,
     "metadata": {},
     "output_type": "execute_result"
    }
   ],
   "source": [
    "df.head(3)"
   ]
  },
  {
   "cell_type": "code",
   "execution_count": 13,
   "metadata": {},
   "outputs": [
    {
     "data": {
      "text/plain": [
       "55.0"
      ]
     },
     "execution_count": 13,
     "metadata": {},
     "output_type": "execute_result"
    }
   ],
   "source": [
    "df['ampl_20'][0]"
   ]
  },
  {
   "cell_type": "code",
   "execution_count": 16,
   "metadata": {},
   "outputs": [
    {
     "data": {
      "text/html": [
       "<div>\n",
       "<style scoped>\n",
       "    .dataframe tbody tr th:only-of-type {\n",
       "        vertical-align: middle;\n",
       "    }\n",
       "\n",
       "    .dataframe tbody tr th {\n",
       "        vertical-align: top;\n",
       "    }\n",
       "\n",
       "    .dataframe thead th {\n",
       "        text-align: right;\n",
       "    }\n",
       "</style>\n",
       "<table border=\"1\" class=\"dataframe\">\n",
       "  <thead>\n",
       "    <tr style=\"text-align: right;\">\n",
       "      <th></th>\n",
       "      <th>ampl_20</th>\n",
       "      <th>desv_amp_20</th>\n",
       "      <th>body_20</th>\n",
       "      <th>body_per_20</th>\n",
       "      <th>pavio_sup_20</th>\n",
       "      <th>pavio_sup_per_20</th>\n",
       "      <th>pavio_inf_20</th>\n",
       "      <th>pavio_inf_per_20</th>\n",
       "      <th>high_dist_20</th>\n",
       "      <th>low_dist_20</th>\n",
       "      <th>...</th>\n",
       "      <th>body_per_h2_0</th>\n",
       "      <th>pavio_sup_h2_0</th>\n",
       "      <th>pavio_sup_per_h2_0</th>\n",
       "      <th>pavio_inf_h2_0</th>\n",
       "      <th>pavio_inf_per_h2_0</th>\n",
       "      <th>high_dist_h2_0</th>\n",
       "      <th>low_dist_h2_0</th>\n",
       "      <th>type_h2_0</th>\n",
       "      <th>atr</th>\n",
       "      <th>qt_bars</th>\n",
       "    </tr>\n",
       "  </thead>\n",
       "  <tbody>\n",
       "    <tr>\n",
       "      <td>0</td>\n",
       "      <td>45.0</td>\n",
       "      <td>0.69</td>\n",
       "      <td>5.0</td>\n",
       "      <td>11.11</td>\n",
       "      <td>10.0</td>\n",
       "      <td>22.22</td>\n",
       "      <td>30.0</td>\n",
       "      <td>66.67</td>\n",
       "      <td>30.0</td>\n",
       "      <td>10.0</td>\n",
       "      <td>...</td>\n",
       "      <td>61.9</td>\n",
       "      <td>50.0</td>\n",
       "      <td>23.81</td>\n",
       "      <td>30.0</td>\n",
       "      <td>14.29</td>\n",
       "      <td>800.0</td>\n",
       "      <td>565.0</td>\n",
       "      <td>down</td>\n",
       "      <td>121.43</td>\n",
       "      <td>6</td>\n",
       "    </tr>\n",
       "  </tbody>\n",
       "</table>\n",
       "<p>1 rows × 409 columns</p>\n",
       "</div>"
      ],
      "text/plain": [
       "   ampl_20  desv_amp_20  body_20  body_per_20  pavio_sup_20  pavio_sup_per_20  \\\n",
       "0     45.0         0.69      5.0        11.11          10.0             22.22   \n",
       "\n",
       "   pavio_inf_20  pavio_inf_per_20  high_dist_20  low_dist_20  ...  \\\n",
       "0          30.0             66.67          30.0         10.0  ...   \n",
       "\n",
       "  body_per_h2_0  pavio_sup_h2_0  pavio_sup_per_h2_0  pavio_inf_h2_0  \\\n",
       "0          61.9            50.0               23.81            30.0   \n",
       "\n",
       "   pavio_inf_per_h2_0  high_dist_h2_0  low_dist_h2_0  type_h2_0     atr  \\\n",
       "0               14.29           800.0          565.0       down  121.43   \n",
       "\n",
       "   qt_bars  \n",
       "0        6  \n",
       "\n",
       "[1 rows x 409 columns]"
      ]
     },
     "execution_count": 16,
     "metadata": {},
     "output_type": "execute_result"
    }
   ],
   "source": [
    "df_test.head()"
   ]
  },
  {
   "cell_type": "code",
   "execution_count": 17,
   "metadata": {},
   "outputs": [
    {
     "data": {
      "text/plain": [
       "(5802, 412)"
      ]
     },
     "execution_count": 17,
     "metadata": {},
     "output_type": "execute_result"
    }
   ],
   "source": [
    "df.shape"
   ]
  },
  {
   "cell_type": "code",
   "execution_count": 18,
   "metadata": {},
   "outputs": [],
   "source": [
    "X = df.drop(['take','status','oper'], axis=1) #df[train_features]\n",
    "y = df['status']\n",
    "\n",
    "x_columns = X.columns"
   ]
  },
  {
   "cell_type": "code",
   "execution_count": 19,
   "metadata": {},
   "outputs": [
    {
     "ename": "ValueError",
     "evalue": "bad input shape (5802, 409)",
     "output_type": "error",
     "traceback": [
      "\u001b[1;31m---------------------------------------------------------------------------\u001b[0m",
      "\u001b[1;31mValueError\u001b[0m                                Traceback (most recent call last)",
      "\u001b[1;32m<ipython-input-19-9fe63c6cfff5>\u001b[0m in \u001b[0;36m<module>\u001b[1;34m\u001b[0m\n\u001b[0;32m      1\u001b[0m \u001b[0mencoder\u001b[0m \u001b[1;33m=\u001b[0m \u001b[0mLabelEncoder\u001b[0m\u001b[1;33m(\u001b[0m\u001b[1;33m)\u001b[0m\u001b[1;33m\u001b[0m\u001b[1;33m\u001b[0m\u001b[0m\n\u001b[1;32m----> 2\u001b[1;33m \u001b[0mencoder\u001b[0m\u001b[1;33m.\u001b[0m\u001b[0mfit\u001b[0m\u001b[1;33m(\u001b[0m\u001b[0mX\u001b[0m\u001b[1;33m)\u001b[0m\u001b[1;33m\u001b[0m\u001b[1;33m\u001b[0m\u001b[0m\n\u001b[0m\u001b[0;32m      3\u001b[0m \u001b[0mcolumns_categorical\u001b[0m \u001b[1;33m=\u001b[0m \u001b[0mX\u001b[0m\u001b[1;33m.\u001b[0m\u001b[0mselect_dtypes\u001b[0m\u001b[1;33m(\u001b[0m\u001b[0minclude\u001b[0m\u001b[1;33m=\u001b[0m\u001b[1;33m[\u001b[0m\u001b[1;34m'object'\u001b[0m\u001b[1;33m]\u001b[0m\u001b[1;33m)\u001b[0m\u001b[1;33m.\u001b[0m\u001b[0mcolumns\u001b[0m\u001b[1;33m\u001b[0m\u001b[1;33m\u001b[0m\u001b[0m\n\u001b[0;32m      4\u001b[0m \u001b[1;32mfor\u001b[0m \u001b[0mcol_cat\u001b[0m \u001b[1;32min\u001b[0m \u001b[0mcolumns_categorical\u001b[0m\u001b[1;33m:\u001b[0m\u001b[1;33m\u001b[0m\u001b[1;33m\u001b[0m\u001b[0m\n\u001b[0;32m      5\u001b[0m     \u001b[0mX\u001b[0m\u001b[1;33m[\u001b[0m\u001b[0mcol_cat\u001b[0m\u001b[1;33m]\u001b[0m \u001b[1;33m=\u001b[0m \u001b[0mencoder\u001b[0m\u001b[1;33m.\u001b[0m\u001b[0mfit_transform\u001b[0m\u001b[1;33m(\u001b[0m\u001b[0mX\u001b[0m\u001b[1;33m[\u001b[0m\u001b[0mcol_cat\u001b[0m\u001b[1;33m]\u001b[0m\u001b[1;33m)\u001b[0m\u001b[1;33m\u001b[0m\u001b[1;33m\u001b[0m\u001b[0m\n",
      "\u001b[1;32mC:\\ProgramData\\Anaconda3\\lib\\site-packages\\sklearn\\preprocessing\\label.py\u001b[0m in \u001b[0;36mfit\u001b[1;34m(self, y)\u001b[0m\n\u001b[0;32m    217\u001b[0m         \u001b[0mself\u001b[0m \u001b[1;33m:\u001b[0m \u001b[0mreturns\u001b[0m \u001b[0man\u001b[0m \u001b[0minstance\u001b[0m \u001b[0mof\u001b[0m \u001b[0mself\u001b[0m\u001b[1;33m.\u001b[0m\u001b[1;33m\u001b[0m\u001b[1;33m\u001b[0m\u001b[0m\n\u001b[0;32m    218\u001b[0m         \"\"\"\n\u001b[1;32m--> 219\u001b[1;33m         \u001b[0my\u001b[0m \u001b[1;33m=\u001b[0m \u001b[0mcolumn_or_1d\u001b[0m\u001b[1;33m(\u001b[0m\u001b[0my\u001b[0m\u001b[1;33m,\u001b[0m \u001b[0mwarn\u001b[0m\u001b[1;33m=\u001b[0m\u001b[1;32mTrue\u001b[0m\u001b[1;33m)\u001b[0m\u001b[1;33m\u001b[0m\u001b[1;33m\u001b[0m\u001b[0m\n\u001b[0m\u001b[0;32m    220\u001b[0m         \u001b[0mself\u001b[0m\u001b[1;33m.\u001b[0m\u001b[0mclasses_\u001b[0m \u001b[1;33m=\u001b[0m \u001b[0m_encode\u001b[0m\u001b[1;33m(\u001b[0m\u001b[0my\u001b[0m\u001b[1;33m)\u001b[0m\u001b[1;33m\u001b[0m\u001b[1;33m\u001b[0m\u001b[0m\n\u001b[0;32m    221\u001b[0m         \u001b[1;32mreturn\u001b[0m \u001b[0mself\u001b[0m\u001b[1;33m\u001b[0m\u001b[1;33m\u001b[0m\u001b[0m\n",
      "\u001b[1;32mC:\\ProgramData\\Anaconda3\\lib\\site-packages\\sklearn\\utils\\validation.py\u001b[0m in \u001b[0;36mcolumn_or_1d\u001b[1;34m(y, warn)\u001b[0m\n\u001b[0;32m    758\u001b[0m         \u001b[1;32mreturn\u001b[0m \u001b[0mnp\u001b[0m\u001b[1;33m.\u001b[0m\u001b[0mravel\u001b[0m\u001b[1;33m(\u001b[0m\u001b[0my\u001b[0m\u001b[1;33m)\u001b[0m\u001b[1;33m\u001b[0m\u001b[1;33m\u001b[0m\u001b[0m\n\u001b[0;32m    759\u001b[0m \u001b[1;33m\u001b[0m\u001b[0m\n\u001b[1;32m--> 760\u001b[1;33m     \u001b[1;32mraise\u001b[0m \u001b[0mValueError\u001b[0m\u001b[1;33m(\u001b[0m\u001b[1;34m\"bad input shape {0}\"\u001b[0m\u001b[1;33m.\u001b[0m\u001b[0mformat\u001b[0m\u001b[1;33m(\u001b[0m\u001b[0mshape\u001b[0m\u001b[1;33m)\u001b[0m\u001b[1;33m)\u001b[0m\u001b[1;33m\u001b[0m\u001b[1;33m\u001b[0m\u001b[0m\n\u001b[0m\u001b[0;32m    761\u001b[0m \u001b[1;33m\u001b[0m\u001b[0m\n\u001b[0;32m    762\u001b[0m \u001b[1;33m\u001b[0m\u001b[0m\n",
      "\u001b[1;31mValueError\u001b[0m: bad input shape (5802, 409)"
     ]
    }
   ],
   "source": [
    "encoder = LabelEncoder()\n",
    "columns_categorical = X.select_dtypes(include=['object']).columns\n",
    "for col_cat in columns_categorical:\n",
    "    X[col_cat] = encoder.fit_transform(X[col_cat])\n",
    "\n",
    "scaler = MinMaxScaler()\n",
    "scaler.fit(X)\n",
    "X = scaler.transform(X)\n",
    "\n",
    "X_train, X_test, y_train, y_test = train_test_split(X, y, test_size=0.3, random_state=True)"
   ]
  },
  {
   "cell_type": "code",
   "execution_count": 6,
   "metadata": {},
   "outputs": [
    {
     "data": {
      "text/plain": [
       "array([[0.06040268, 0.14390244, 0.06097561, ..., 1.        , 0.05901789,\n",
       "        0.        ],\n",
       "       [0.08053691, 0.54512195, 0.02439024, ..., 1.        , 0.10783867,\n",
       "        0.        ],\n",
       "       [0.0738255 , 0.2402439 , 0.09756098, ..., 1.        , 0.10681326,\n",
       "        0.25      ],\n",
       "       ...,\n",
       "       [0.01342282, 0.07317073, 0.02439024, ..., 1.        , 0.03053435,\n",
       "        0.        ],\n",
       "       [0.05369128, 0.2195122 , 0.1097561 , ..., 0.        , 0.03053435,\n",
       "        0.25      ],\n",
       "       [0.00671141, 0.03658537, 0.01219512, ..., 0.        , 0.03155976,\n",
       "        0.25      ]])"
      ]
     },
     "execution_count": 6,
     "metadata": {},
     "output_type": "execute_result"
    }
   ],
   "source": [
    "X"
   ]
  },
  {
   "cell_type": "raw",
   "metadata": {},
   "source": [
    "#exporting the departure encoder\n",
    "output = open('LabelEncoder.pkl', 'wb')\n",
    "pickle.dump(encoder, output)\n",
    "output.close()"
   ]
  },
  {
   "cell_type": "raw",
   "metadata": {},
   "source": [
    "#exporting the departure encoder\n",
    "output = open('MinMaxScaler.pkl', 'wb')\n",
    "pickle.dump(scaler, output)\n",
    "output.close()"
   ]
  },
  {
   "cell_type": "raw",
   "metadata": {},
   "source": [
    "pkl_file = open('LabelEncoder.pkl', 'rb')\n",
    "encoder = pickle.load(pkl_file) \n",
    "pkl_file.close()"
   ]
  },
  {
   "cell_type": "code",
   "execution_count": 7,
   "metadata": {},
   "outputs": [],
   "source": [
    "#https://machinelearningmastery.com/save-load-machine-learning-models-python-scikit-learn/\n",
    "import pickle\n",
    "filename = 'model_cler.sav'\n",
    "\n",
    "# load the model from disk\n",
    "best_model = pickle.load(open(filename, 'rb'))"
   ]
  },
  {
   "cell_type": "markdown",
   "metadata": {},
   "source": [
    "## Teste"
   ]
  },
  {
   "cell_type": "code",
   "execution_count": 25,
   "metadata": {},
   "outputs": [],
   "source": [
    "y_pred_probs = best_model.predict_proba(X_test)"
   ]
  },
  {
   "cell_type": "code",
   "execution_count": 26,
   "metadata": {},
   "outputs": [],
   "source": [
    "y_pred = best_model.predict(X_test)"
   ]
  },
  {
   "cell_type": "code",
   "execution_count": 27,
   "metadata": {},
   "outputs": [
    {
     "data": {
      "text/plain": [
       "0.9227295701020953"
      ]
     },
     "execution_count": 27,
     "metadata": {},
     "output_type": "execute_result"
    }
   ],
   "source": [
    "roc_auc_score(y_test, y_pred_probs[:, 1])"
   ]
  },
  {
   "cell_type": "code",
   "execution_count": 28,
   "metadata": {},
   "outputs": [
    {
     "data": {
      "text/plain": [
       "0.8523836875358989"
      ]
     },
     "execution_count": 28,
     "metadata": {},
     "output_type": "execute_result"
    }
   ],
   "source": [
    "accuracy_score(y_test, y_pred)"
   ]
  },
  {
   "cell_type": "code",
   "execution_count": 20,
   "metadata": {},
   "outputs": [],
   "source": [
    "#https://kiwidamien.github.io/are-you-sure-thats-a-probability.html"
   ]
  },
  {
   "cell_type": "code",
   "execution_count": 19,
   "metadata": {},
   "outputs": [
    {
     "data": {
      "text/plain": [
       "(array([[1085,   41],\n",
       "        [ 216,  399]], dtype=int64), 1741)"
      ]
     },
     "execution_count": 19,
     "metadata": {},
     "output_type": "execute_result"
    }
   ],
   "source": [
    "matrix = confusion_matrix(y_test, y_pred)\n",
    "matrix, matrix.sum()"
   ]
  },
  {
   "cell_type": "code",
   "execution_count": 54,
   "metadata": {},
   "outputs": [
    {
     "data": {
      "text/plain": [
       "{'Gain': 0.0559467629483045, 'Loss': 0.06179955239448644}"
      ]
     },
     "execution_count": 54,
     "metadata": {},
     "output_type": "execute_result"
    }
   ],
   "source": [
    "dict(zip(best_model.classes_, y_pred_probs[:,1]))"
   ]
  },
  {
   "cell_type": "code",
   "execution_count": 48,
   "metadata": {},
   "outputs": [
    {
     "data": {
      "text/plain": [
       "array([[0.94405324, 0.05594676],\n",
       "       [0.93820045, 0.06179955],\n",
       "       [0.17244544, 0.82755456],\n",
       "       ...,\n",
       "       [0.8102207 , 0.1897793 ],\n",
       "       [0.73481661, 0.26518339],\n",
       "       [0.95847974, 0.04152026]])"
      ]
     },
     "execution_count": 48,
     "metadata": {},
     "output_type": "execute_result"
    }
   ],
   "source": [
    "y_pred_probs"
   ]
  }
 ],
 "metadata": {
  "kernelspec": {
   "display_name": "Python 3",
   "language": "python",
   "name": "python3"
  },
  "language_info": {
   "codemirror_mode": {
    "name": "ipython",
    "version": 3
   },
   "file_extension": ".py",
   "mimetype": "text/x-python",
   "name": "python",
   "nbconvert_exporter": "python",
   "pygments_lexer": "ipython3",
   "version": "3.7.4"
  }
 },
 "nbformat": 4,
 "nbformat_minor": 4
}
