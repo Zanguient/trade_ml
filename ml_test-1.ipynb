{
 "cells": [
  {
   "cell_type": "markdown",
   "metadata": {},
   "source": [
    "## Teste 1\n",
    "##### Programação grosseira em busca dos melhores dados e dos melhores modelos"
   ]
  },
  {
   "cell_type": "code",
   "execution_count": 327,
   "metadata": {},
   "outputs": [],
   "source": [
    "import pandas as pd\n",
    "import numpy as np\n",
    "import matplotlib.pyplot as plt\n",
    "from sklearn.preprocessing import LabelEncoder, OneHotEncoder, StandardScaler, MinMaxScaler\n",
    "import seaborn as sns\n",
    "\n",
    "from sklearn.model_selection import train_test_split\n",
    "from sklearn.metrics import confusion_matrix, classification_report, accuracy_score\n",
    "from sklearn import metrics\n",
    "from warnings import simplefilter\n",
    "\n",
    "from sklearn.tree import DecisionTreeClassifier\n",
    "from sklearn.ensemble import RandomForestClassifier\n",
    "from sklearn.linear_model import RidgeClassifier\n",
    "from sklearn.neighbors import KNeighborsClassifier\n",
    "from sklearn.ensemble import GradientBoostingClassifier\n",
    "from sklearn.linear_model import LogisticRegression\n",
    "from sklearn.neural_network import MLPClassifier\n",
    "from sklearn.svm import SVC\n",
    "from sklearn.naive_bayes import GaussianNB\n",
    "\n",
    "simplefilter(action='ignore', category=FutureWarning)\n",
    "\n",
    "%matplotlib inline\n",
    "\n",
    "plt.rcParams['figure.figsize'] = (25, 8)\n",
    "#sns.set_style('whitegrid')\n",
    "sns.set_style('white')\n",
    "sns.set_context('poster')"
   ]
  },
  {
   "cell_type": "code",
   "execution_count": 328,
   "metadata": {},
   "outputs": [
    {
     "data": {
      "text/plain": [
       "(1445, 104)"
      ]
     },
     "execution_count": 328,
     "metadata": {},
     "output_type": "execute_result"
    }
   ],
   "source": [
    "file = 'datasets/dataset_cler.csv'\n",
    "file = 'C:/Users/André/AppData/Roaming/MetaQuotes/Tester/D0E8209F77C8CF37AD8BF550E51FF075/Agent-127.0.0.1-3000/MQL5/Files/dataset_cler.csv'\n",
    "\n",
    "df = pd.read_csv(file, sep=\";\", encoding='utf-16')\n",
    "del df['Ref']\n",
    "df.shape"
   ]
  },
  {
   "cell_type": "code",
   "execution_count": 329,
   "metadata": {},
   "outputs": [
    {
     "data": {
      "text/html": [
       "<div>\n",
       "<style scoped>\n",
       "    .dataframe tbody tr th:only-of-type {\n",
       "        vertical-align: middle;\n",
       "    }\n",
       "\n",
       "    .dataframe tbody tr th {\n",
       "        vertical-align: top;\n",
       "    }\n",
       "\n",
       "    .dataframe thead th {\n",
       "        text-align: right;\n",
       "    }\n",
       "</style>\n",
       "<table border=\"1\" class=\"dataframe\">\n",
       "  <thead>\n",
       "    <tr style=\"text-align: right;\">\n",
       "      <th></th>\n",
       "      <th>ampl_m15_5</th>\n",
       "      <th>desv_amp_m15_5</th>\n",
       "      <th>body_m15_5</th>\n",
       "      <th>body_per_m15_5</th>\n",
       "      <th>pavio_sup_m15_5</th>\n",
       "      <th>pavio_sup_per_m15_5</th>\n",
       "      <th>pavio_inf_m15_5</th>\n",
       "      <th>pavio_inf_per_m15_5</th>\n",
       "      <th>high_dist_m15_5</th>\n",
       "      <th>low_dist_m15_5</th>\n",
       "      <th>...</th>\n",
       "      <th>pavio_inf_h2_1</th>\n",
       "      <th>pavio_inf_per_h2_1</th>\n",
       "      <th>high_dist_h2_1</th>\n",
       "      <th>low_dist_h2_1</th>\n",
       "      <th>type_h2_1</th>\n",
       "      <th>atr</th>\n",
       "      <th>qt_bars</th>\n",
       "      <th>oper</th>\n",
       "      <th>take</th>\n",
       "      <th>status</th>\n",
       "    </tr>\n",
       "  </thead>\n",
       "  <tbody>\n",
       "    <tr>\n",
       "      <td>0</td>\n",
       "      <td>380.0</td>\n",
       "      <td>0.85</td>\n",
       "      <td>60.0</td>\n",
       "      <td>15.79</td>\n",
       "      <td>105.0</td>\n",
       "      <td>27.63</td>\n",
       "      <td>215.0</td>\n",
       "      <td>56.58</td>\n",
       "      <td>685.0</td>\n",
       "      <td>620.0</td>\n",
       "      <td>...</td>\n",
       "      <td>215.0</td>\n",
       "      <td>47.78</td>\n",
       "      <td>615.0</td>\n",
       "      <td>620.0</td>\n",
       "      <td>up</td>\n",
       "      <td>58.21</td>\n",
       "      <td>5</td>\n",
       "      <td>Sell</td>\n",
       "      <td>-40.0</td>\n",
       "      <td>Loss</td>\n",
       "    </tr>\n",
       "    <tr>\n",
       "      <td>1</td>\n",
       "      <td>180.0</td>\n",
       "      <td>0.67</td>\n",
       "      <td>90.0</td>\n",
       "      <td>50.00</td>\n",
       "      <td>40.0</td>\n",
       "      <td>22.22</td>\n",
       "      <td>50.0</td>\n",
       "      <td>27.78</td>\n",
       "      <td>5.0</td>\n",
       "      <td>95.0</td>\n",
       "      <td>...</td>\n",
       "      <td>215.0</td>\n",
       "      <td>47.78</td>\n",
       "      <td>615.0</td>\n",
       "      <td>620.0</td>\n",
       "      <td>up</td>\n",
       "      <td>59.64</td>\n",
       "      <td>5</td>\n",
       "      <td>Sell</td>\n",
       "      <td>-40.0</td>\n",
       "      <td>Loss</td>\n",
       "    </tr>\n",
       "  </tbody>\n",
       "</table>\n",
       "<p>2 rows × 104 columns</p>\n",
       "</div>"
      ],
      "text/plain": [
       "   ampl_m15_5  desv_amp_m15_5  body_m15_5  body_per_m15_5  pavio_sup_m15_5  \\\n",
       "0       380.0            0.85        60.0           15.79            105.0   \n",
       "1       180.0            0.67        90.0           50.00             40.0   \n",
       "\n",
       "   pavio_sup_per_m15_5  pavio_inf_m15_5  pavio_inf_per_m15_5  high_dist_m15_5  \\\n",
       "0                27.63            215.0                56.58            685.0   \n",
       "1                22.22             50.0                27.78              5.0   \n",
       "\n",
       "   low_dist_m15_5  ... pavio_inf_h2_1  pavio_inf_per_h2_1  high_dist_h2_1  \\\n",
       "0           620.0  ...          215.0               47.78           615.0   \n",
       "1            95.0  ...          215.0               47.78           615.0   \n",
       "\n",
       "   low_dist_h2_1  type_h2_1    atr  qt_bars  oper  take  status  \n",
       "0          620.0         up  58.21        5  Sell -40.0    Loss  \n",
       "1          620.0         up  59.64        5  Sell -40.0    Loss  \n",
       "\n",
       "[2 rows x 104 columns]"
      ]
     },
     "execution_count": 329,
     "metadata": {},
     "output_type": "execute_result"
    }
   ],
   "source": [
    "df.head(2)"
   ]
  },
  {
   "cell_type": "code",
   "execution_count": 330,
   "metadata": {},
   "outputs": [
    {
     "data": {
      "text/plain": [
       "Loss    725\n",
       "Gain    720\n",
       "Name: status, dtype: int64"
      ]
     },
     "execution_count": 330,
     "metadata": {},
     "output_type": "execute_result"
    }
   ],
   "source": [
    "df['status'].value_counts()"
   ]
  },
  {
   "cell_type": "code",
   "execution_count": 331,
   "metadata": {
    "jupyter": {
     "source_hidden": true
    }
   },
   "outputs": [],
   "source": [
    "df.drop(df.loc[(df['status']!='Loss') & (df['status']!='Gain')].index.values, inplace=True)"
   ]
  },
  {
   "cell_type": "code",
   "execution_count": 332,
   "metadata": {},
   "outputs": [
    {
     "data": {
      "text/plain": [
       "Loss    725\n",
       "Gain    720\n",
       "Name: status, dtype: int64"
      ]
     },
     "execution_count": 332,
     "metadata": {},
     "output_type": "execute_result"
    }
   ],
   "source": [
    "df['status'].value_counts()"
   ]
  },
  {
   "cell_type": "code",
   "execution_count": 333,
   "metadata": {
    "jupyter": {
     "source_hidden": true
    }
   },
   "outputs": [],
   "source": [
    "#train_features = df.columns.difference(['take', 'status', 'oper'])\n",
    "X = df.drop(['take','status','oper'], axis=1) #df[train_features]\n",
    "y = df['status']\n",
    "\n",
    "x_columns = X.columns"
   ]
  },
  {
   "cell_type": "code",
   "execution_count": 334,
   "metadata": {
    "jupyter": {
     "source_hidden": true
    }
   },
   "outputs": [
    {
     "data": {
      "text/plain": [
       "[10, 21, 32, 43, 54, 65, 76, 87, 98]"
      ]
     },
     "execution_count": 334,
     "metadata": {},
     "output_type": "execute_result"
    }
   ],
   "source": [
    "index_features_category = []\n",
    "for index, col in enumerate(X.columns):\n",
    "    if X.dtypes[index]=='object':\n",
    "        index_features_category.append(index)\n",
    "index_features_category[:10]"
   ]
  },
  {
   "cell_type": "code",
   "execution_count": 335,
   "metadata": {
    "jupyter": {
     "source_hidden": true
    }
   },
   "outputs": [],
   "source": [
    "encoder = LabelEncoder()\n",
    "encoder.fit(['inside', 'up', 'down'])\n",
    "columns_categorical = X.select_dtypes(include=['object']).columns\n",
    "for col_cat in columns_categorical:\n",
    "    X[col_cat] = encoder.transform(X[col_cat])"
   ]
  },
  {
   "cell_type": "markdown",
   "metadata": {},
   "source": [
    "ohe = OneHotEncoder(categorical_features=index_features_category)\n",
    "X = ohe.fit_transform(X).toarray()"
   ]
  },
  {
   "cell_type": "code",
   "execution_count": 336,
   "metadata": {},
   "outputs": [],
   "source": [
    "def fit(X_train, X_test, y_train, y_test, model):\n",
    "    model.fit(X_train, y_train)\n",
    "    y_pred = model.predict(X_test)\n",
    "    accuracy = accuracy_score(y_test, y_pred)\n",
    "    print(accuracy)\n",
    "    return y_pred \n",
    "\n",
    "def fitAll(X_train, X_test, y_train, y_test, algorithms):\n",
    "    similaridade = []\n",
    "    for item in algorithms:\n",
    "        name = item[0]\n",
    "        algorithm = item[1]\n",
    "        \n",
    "        algorithm.fit(X_train, y_train)\n",
    "        y_pred = algorithm.predict(X_test)\n",
    "        accuracy = accuracy_score(y_test, y_pred)\n",
    "        #print(name, ' => ', accuracy)\n",
    "        similaridade.append((accuracy, name))\n",
    "        \n",
    "    similaridade.sort()\n",
    "    similaridade.reverse()\n",
    "    \n",
    "    for j in similaridade:\n",
    "        print(j)\n",
    "\n",
    "def f_importances(coef, names):\n",
    "    imp = coef\n",
    "    imp,names = zip(*sorted(zip(imp,names)))\n",
    "    plt.barh(range(len(names)), imp, align='center')\n",
    "    plt.yticks(range(len(names)), names)\n",
    "    plt.show()"
   ]
  },
  {
   "cell_type": "code",
   "execution_count": 337,
   "metadata": {},
   "outputs": [],
   "source": [
    "scaler = MinMaxScaler()\n",
    "scaler.fit(X)\n",
    "X = scaler.transform(X)"
   ]
  },
  {
   "cell_type": "markdown",
   "metadata": {},
   "source": [
    "standar = StandardScaler()\n",
    "standar.fit(X)\n",
    "X = standar.fit_transform(X)"
   ]
  },
  {
   "cell_type": "code",
   "execution_count": 338,
   "metadata": {},
   "outputs": [],
   "source": [
    "X_train, X_test, y_train, y_test = train_test_split(X, y, test_size=0.3, random_state=True)"
   ]
  },
  {
   "cell_type": "code",
   "execution_count": 339,
   "metadata": {},
   "outputs": [
    {
     "name": "stderr",
     "output_type": "stream",
     "text": [
      "C:\\ProgramData\\Anaconda3\\lib\\site-packages\\sklearn\\neural_network\\multilayer_perceptron.py:566: ConvergenceWarning: Stochastic Optimizer: Maximum iterations (1000) reached and the optimization hasn't converged yet.\n",
      "  % self.max_iter, ConvergenceWarning)\n"
     ]
    },
    {
     "name": "stdout",
     "output_type": "stream",
     "text": [
      "(0.5506912442396313, 'RandomForestClassifier')\n",
      "(0.5161290322580645, 'GradientBoostingClassifier')\n",
      "(0.4930875576036866, 'KNeighborsClassifier')\n",
      "(0.4930875576036866, 'GaussianNB')\n",
      "(0.49078341013824883, 'DecisionTreeClassifier')\n",
      "(0.4838709677419355, 'MLPClassifier')\n",
      "(0.47465437788018433, 'RidgeClassifier')\n",
      "(0.4700460829493088, 'LogisticRegression')\n",
      "(0.46543778801843316, 'SVC')\n"
     ]
    }
   ],
   "source": [
    "algorithms = []\n",
    "\n",
    "algorithms.append(['DecisionTreeClassifier', DecisionTreeClassifier(random_state=0)])\n",
    "algorithms.append(['RandomForestClassifier', RandomForestClassifier(n_estimators=10, random_state=0)])\n",
    "algorithms.append(['GaussianNB', GaussianNB()])\n",
    "algorithms.append(['RidgeClassifier', RidgeClassifier()])\n",
    "algorithms.append(['MLPClassifier', MLPClassifier(random_state=True, max_iter=1000, learning_rate_init=0.0001, hidden_layer_sizes=(89))])\n",
    "algorithms.append(['GradientBoostingClassifier', GradientBoostingClassifier()])\n",
    "algorithms.append(['SVC', SVC(gamma='auto')])\n",
    "algorithms.append(['KNeighborsClassifier', KNeighborsClassifier()])\n",
    "algorithms.append(['LogisticRegression', LogisticRegression()])\n",
    "\n",
    "fitAll(X_train, X_test, y_train, y_test, algorithms)"
   ]
  },
  {
   "cell_type": "markdown",
   "metadata": {},
   "source": [
    "test = GradientBoostingClassifier(learning_rate=0.1, n_estimators=1000)\n",
    "y_pred = fit(X_train, X_test, y_train, y_test, test)\n",
    "\n",
    "conf_matrix = confusion_matrix(y_test, y_pred)\n",
    "conf_matrix"
   ]
  },
  {
   "cell_type": "code",
   "execution_count": 340,
   "metadata": {},
   "outputs": [
    {
     "data": {
      "text/plain": [
       "462    Loss\n",
       "Name: status, dtype: object"
      ]
     },
     "execution_count": 340,
     "metadata": {},
     "output_type": "execute_result"
    }
   ],
   "source": [
    "y_test[300:301]"
   ]
  },
  {
   "cell_type": "code",
   "execution_count": 341,
   "metadata": {},
   "outputs": [
    {
     "data": {
      "text/plain": [
       "array([0.38006231, 0.4182058 , 0.18589744, 0.4361    , 0.23255814,\n",
       "       0.16458744, 0.44715447, 0.49331902, 0.26388889, 0.05373134,\n",
       "       1.        , 0.12886598, 0.02278177, 0.        , 0.        ,\n",
       "       0.        , 0.        , 0.        , 0.        , 0.0390625 ,\n",
       "       0.19034091, 0.5       , 0.21495327, 0.17251052, 0.18589744,\n",
       "       0.74542463, 0.07563025, 0.12589526, 0.10569106, 0.17533448,\n",
       "       0.        , 0.06629834, 0.        , 0.12827225, 0.06242497,\n",
       "       0.14102564, 0.7213    , 0.02352941, 0.0349159 , 0.12195122,\n",
       "       0.26532154, 0.09166667, 0.00852273, 1.        , 0.18209877,\n",
       "       0.12376934, 0.00641026, 0.0299    , 0.41818182, 0.8153426 ,\n",
       "       0.17757009, 0.303868  , 0.12742382, 0.09708738, 1.        ,\n",
       "       0.21850394, 0.12888199, 0.05949657, 0.20764972, 0.19117647,\n",
       "       0.32222801, 0.32275132, 0.53705347, 0.09029345, 0.06012024,\n",
       "       0.        , 0.49409449, 0.25868726, 0.36384439, 0.60161047,\n",
       "       0.43362832, 0.41987691, 0.02686567, 0.03755556, 0.07223476,\n",
       "       0.23478261, 0.        , 0.41984733, 0.1016731 , 0.14285714,\n",
       "       0.30025164, 0.0619469 , 0.06121812, 0.45671642, 0.71322387,\n",
       "       0.4765625 , 0.46956522, 0.        , 0.22390892, 0.05399061,\n",
       "       0.08853119, 0.33414141, 0.16666667, 0.29131525, 0.1641791 ,\n",
       "       0.45944444, 0.01757812, 0.19238477, 1.        , 0.28426252,\n",
       "       0.        ])"
      ]
     },
     "execution_count": 341,
     "metadata": {},
     "output_type": "execute_result"
    }
   ],
   "source": [
    "X_test[300]"
   ]
  }
 ],
 "metadata": {
  "kernelspec": {
   "display_name": "Python 3",
   "language": "python",
   "name": "python3"
  },
  "language_info": {
   "codemirror_mode": {
    "name": "ipython",
    "version": 3
   },
   "file_extension": ".py",
   "mimetype": "text/x-python",
   "name": "python",
   "nbconvert_exporter": "python",
   "pygments_lexer": "ipython3",
   "version": "3.7.4"
  }
 },
 "nbformat": 4,
 "nbformat_minor": 4
}
