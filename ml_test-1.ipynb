{
 "cells": [
  {
   "cell_type": "markdown",
   "metadata": {},
   "source": [
    "## Teste 1\n",
    "##### Programação grosseira em busca dos melhores dados e dos melhores modelos"
   ]
  },
  {
   "cell_type": "code",
   "execution_count": 52,
   "metadata": {},
   "outputs": [],
   "source": [
    "import pandas as pd\n",
    "import numpy as np\n",
    "import matplotlib.pyplot as plt\n",
    "from sklearn.preprocessing import LabelEncoder, OneHotEncoder, StandardScaler, MinMaxScaler\n",
    "import seaborn as sns\n",
    "\n",
    "from sklearn.model_selection import train_test_split\n",
    "from sklearn.metrics import confusion_matrix, classification_report, accuracy_score\n",
    "from sklearn import metrics\n",
    "from warnings import simplefilter\n",
    "\n",
    "from sklearn.tree import DecisionTreeClassifier\n",
    "from sklearn.ensemble import RandomForestClassifier\n",
    "from sklearn.linear_model import RidgeClassifier\n",
    "from sklearn.neighbors import KNeighborsClassifier\n",
    "from sklearn.ensemble import GradientBoostingClassifier\n",
    "from sklearn.linear_model import LogisticRegression\n",
    "from sklearn.neural_network import MLPClassifier\n",
    "from sklearn.svm import SVC\n",
    "from sklearn.naive_bayes import GaussianNB\n",
    "\n",
    "simplefilter(action='ignore', category=FutureWarning)\n",
    "\n",
    "%matplotlib inline\n",
    "\n",
    "plt.rcParams['figure.figsize'] = (25, 8)\n",
    "#sns.set_style('whitegrid')\n",
    "sns.set_style('white')\n",
    "sns.set_context('poster')"
   ]
  },
  {
   "cell_type": "code",
   "execution_count": 53,
   "metadata": {},
   "outputs": [
    {
     "data": {
      "text/plain": [
       "(1642, 115)"
      ]
     },
     "execution_count": 53,
     "metadata": {},
     "output_type": "execute_result"
    }
   ],
   "source": [
    "df = pd.read_csv('datasets/dataset_cler.csv', sep=\";\", encoding='utf-16')\n",
    "df.shape"
   ]
  },
  {
   "cell_type": "code",
   "execution_count": 54,
   "metadata": {},
   "outputs": [
    {
     "data": {
      "text/html": [
       "<div>\n",
       "<style scoped>\n",
       "    .dataframe tbody tr th:only-of-type {\n",
       "        vertical-align: middle;\n",
       "    }\n",
       "\n",
       "    .dataframe tbody tr th {\n",
       "        vertical-align: top;\n",
       "    }\n",
       "\n",
       "    .dataframe thead th {\n",
       "        text-align: right;\n",
       "    }\n",
       "</style>\n",
       "<table border=\"1\" class=\"dataframe\">\n",
       "  <thead>\n",
       "    <tr style=\"text-align: right;\">\n",
       "      <th></th>\n",
       "      <th>ampl_9</th>\n",
       "      <th>desv_amp_9</th>\n",
       "      <th>body_9</th>\n",
       "      <th>body_per_9</th>\n",
       "      <th>pavio_sup_9</th>\n",
       "      <th>pavio_sup_per_9</th>\n",
       "      <th>pavio_inf_9</th>\n",
       "      <th>pavio_inf_per_9</th>\n",
       "      <th>high_dist_9</th>\n",
       "      <th>low_dist_9</th>\n",
       "      <th>...</th>\n",
       "      <th>pavio_inf_0</th>\n",
       "      <th>pavio_inf_per_0</th>\n",
       "      <th>high_dist_0</th>\n",
       "      <th>low_dist_0</th>\n",
       "      <th>type_0</th>\n",
       "      <th>atr</th>\n",
       "      <th>qt_bars</th>\n",
       "      <th>oper</th>\n",
       "      <th>take</th>\n",
       "      <th>status</th>\n",
       "    </tr>\n",
       "  </thead>\n",
       "  <tbody>\n",
       "    <tr>\n",
       "      <td>0</td>\n",
       "      <td>70.0</td>\n",
       "      <td>1.17</td>\n",
       "      <td>50.0</td>\n",
       "      <td>71.43</td>\n",
       "      <td>20.0</td>\n",
       "      <td>28.57</td>\n",
       "      <td>0.0</td>\n",
       "      <td>0.0</td>\n",
       "      <td>25.0</td>\n",
       "      <td>35.0</td>\n",
       "      <td>...</td>\n",
       "      <td>5.0</td>\n",
       "      <td>11.11</td>\n",
       "      <td>5.0</td>\n",
       "      <td>5.0</td>\n",
       "      <td>down</td>\n",
       "      <td>58.21</td>\n",
       "      <td>5</td>\n",
       "      <td>Sell</td>\n",
       "      <td>20.0</td>\n",
       "      <td>Gain</td>\n",
       "    </tr>\n",
       "    <tr>\n",
       "      <td>1</td>\n",
       "      <td>50.0</td>\n",
       "      <td>0.63</td>\n",
       "      <td>25.0</td>\n",
       "      <td>50.00</td>\n",
       "      <td>10.0</td>\n",
       "      <td>20.00</td>\n",
       "      <td>15.0</td>\n",
       "      <td>30.0</td>\n",
       "      <td>5.0</td>\n",
       "      <td>35.0</td>\n",
       "      <td>...</td>\n",
       "      <td>20.0</td>\n",
       "      <td>30.77</td>\n",
       "      <td>35.0</td>\n",
       "      <td>25.0</td>\n",
       "      <td>up</td>\n",
       "      <td>66.07</td>\n",
       "      <td>6</td>\n",
       "      <td>Sell</td>\n",
       "      <td>-40.0</td>\n",
       "      <td>Loss</td>\n",
       "    </tr>\n",
       "  </tbody>\n",
       "</table>\n",
       "<p>2 rows × 115 columns</p>\n",
       "</div>"
      ],
      "text/plain": [
       "   ampl_9  desv_amp_9  body_9  body_per_9  pavio_sup_9  pavio_sup_per_9  \\\n",
       "0    70.0        1.17    50.0       71.43         20.0            28.57   \n",
       "1    50.0        0.63    25.0       50.00         10.0            20.00   \n",
       "\n",
       "   pavio_inf_9  pavio_inf_per_9  high_dist_9  low_dist_9  ... pavio_inf_0  \\\n",
       "0          0.0              0.0         25.0        35.0  ...         5.0   \n",
       "1         15.0             30.0          5.0        35.0  ...        20.0   \n",
       "\n",
       "   pavio_inf_per_0  high_dist_0  low_dist_0  type_0    atr  qt_bars  oper  \\\n",
       "0            11.11          5.0         5.0    down  58.21        5  Sell   \n",
       "1            30.77         35.0        25.0      up  66.07        6  Sell   \n",
       "\n",
       "   take  status  \n",
       "0  20.0    Gain  \n",
       "1 -40.0    Loss  \n",
       "\n",
       "[2 rows x 115 columns]"
      ]
     },
     "execution_count": 54,
     "metadata": {},
     "output_type": "execute_result"
    }
   ],
   "source": [
    "df.head(2)"
   ]
  },
  {
   "cell_type": "code",
   "execution_count": 55,
   "metadata": {},
   "outputs": [
    {
     "data": {
      "text/plain": [
       "Gain    1099\n",
       "Loss     543\n",
       "Name: status, dtype: int64"
      ]
     },
     "execution_count": 55,
     "metadata": {},
     "output_type": "execute_result"
    }
   ],
   "source": [
    "df['status'].value_counts()"
   ]
  },
  {
   "cell_type": "code",
   "execution_count": 56,
   "metadata": {},
   "outputs": [],
   "source": [
    "df.drop(df.loc[(df['status']!='Loss') & (df['status']!='Gain')].index.values, inplace=True)"
   ]
  },
  {
   "cell_type": "code",
   "execution_count": 57,
   "metadata": {},
   "outputs": [
    {
     "data": {
      "text/plain": [
       "Gain    1099\n",
       "Loss     543\n",
       "Name: status, dtype: int64"
      ]
     },
     "execution_count": 57,
     "metadata": {},
     "output_type": "execute_result"
    }
   ],
   "source": [
    "df['status'].value_counts()"
   ]
  },
  {
   "cell_type": "code",
   "execution_count": 58,
   "metadata": {
    "jupyter": {
     "source_hidden": true
    }
   },
   "outputs": [],
   "source": [
    "#train_features = df.columns.difference(['take', 'status', 'oper'])\n",
    "X = df.drop(['take','status','oper'], axis=1) #df[train_features]\n",
    "y = df['status']\n",
    "\n",
    "x_columns = X.columns"
   ]
  },
  {
   "cell_type": "code",
   "execution_count": 59,
   "metadata": {},
   "outputs": [
    {
     "data": {
      "text/plain": [
       "[10, 21, 32, 43, 54, 65, 76, 87, 98, 109]"
      ]
     },
     "execution_count": 59,
     "metadata": {},
     "output_type": "execute_result"
    }
   ],
   "source": [
    "index_features_category = []\n",
    "for index, col in enumerate(X.columns):\n",
    "    if X.dtypes[index]=='object':\n",
    "        index_features_category.append(index)\n",
    "index_features_category[:10]"
   ]
  },
  {
   "cell_type": "code",
   "execution_count": 60,
   "metadata": {},
   "outputs": [],
   "source": [
    "encoder = LabelEncoder()\n",
    "encoder.fit(['inside', 'up', 'down'])\n",
    "columns_categorical = X.select_dtypes(include=['object']).columns\n",
    "for col_cat in columns_categorical:\n",
    "    X[col_cat] = encoder.transform(X[col_cat])"
   ]
  },
  {
   "cell_type": "markdown",
   "metadata": {},
   "source": [
    "ohe = OneHotEncoder(categorical_features=index_features_category)\n",
    "X = ohe.fit_transform(X).toarray()"
   ]
  },
  {
   "cell_type": "code",
   "execution_count": 61,
   "metadata": {
    "jupyter": {
     "source_hidden": true
    }
   },
   "outputs": [],
   "source": [
    "def fit(X_train, X_test, y_train, y_test, model):\n",
    "    model.fit(X_train, y_train)\n",
    "    y_pred = model.predict(X_test)\n",
    "    accuracy = accuracy_score(y_test, y_pred)\n",
    "    print(accuracy)\n",
    "    return y_pred \n",
    "\n",
    "def fitAll(X_train, X_test, y_train, y_test, algorithms):\n",
    "    similaridade = []\n",
    "    for item in algorithms:\n",
    "        name = item[0]\n",
    "        algorithm = item[1]\n",
    "        \n",
    "        algorithm.fit(X_train, y_train)\n",
    "        y_pred = algorithm.predict(X_test)\n",
    "        accuracy = accuracy_score(y_test, y_pred)\n",
    "        #print(name, ' => ', accuracy)\n",
    "        similaridade.append((accuracy, name))\n",
    "        \n",
    "    similaridade.sort()\n",
    "    similaridade.reverse()\n",
    "    \n",
    "    for j in similaridade:\n",
    "        print(j)\n",
    "\n",
    "def f_importances(coef, names):\n",
    "    imp = coef\n",
    "    imp,names = zip(*sorted(zip(imp,names)))\n",
    "    plt.barh(range(len(names)), imp, align='center')\n",
    "    plt.yticks(range(len(names)), names)\n",
    "    plt.show()"
   ]
  },
  {
   "cell_type": "code",
   "execution_count": 62,
   "metadata": {},
   "outputs": [],
   "source": [
    "scaler = MinMaxScaler()\n",
    "scaler.fit(X)\n",
    "X = scaler.transform(X)"
   ]
  },
  {
   "cell_type": "markdown",
   "metadata": {},
   "source": [
    "standar = StandardScaler()\n",
    "standar.fit(X)\n",
    "X = standar.fit_transform(X)"
   ]
  },
  {
   "cell_type": "code",
   "execution_count": 63,
   "metadata": {},
   "outputs": [],
   "source": [
    "X_train, X_test, y_train, y_test = train_test_split(X, y, test_size=0.3, random_state=True)"
   ]
  },
  {
   "cell_type": "code",
   "execution_count": 64,
   "metadata": {},
   "outputs": [
    {
     "name": "stderr",
     "output_type": "stream",
     "text": [
      "C:\\ProgramData\\Anaconda3\\lib\\site-packages\\sklearn\\neural_network\\multilayer_perceptron.py:566: ConvergenceWarning: Stochastic Optimizer: Maximum iterations (1000) reached and the optimization hasn't converged yet.\n",
      "  % self.max_iter, ConvergenceWarning)\n"
     ]
    },
    {
     "name": "stdout",
     "output_type": "stream",
     "text": [
      "(0.6835699797160243, 'SVC')\n",
      "(0.665314401622718, 'LogisticRegression')\n",
      "(0.6511156186612576, 'RidgeClassifier')\n",
      "(0.6490872210953347, 'RandomForestClassifier')\n",
      "(0.6267748478701826, 'GradientBoostingClassifier')\n",
      "(0.6227180527383367, 'KNeighborsClassifier')\n",
      "(0.6125760649087221, 'MLPClassifier')\n",
      "(0.6085192697768763, 'GaussianNB')\n",
      "(0.5456389452332657, 'DecisionTreeClassifier')\n"
     ]
    }
   ],
   "source": [
    "algorithms = []\n",
    "\n",
    "algorithms.append(['DecisionTreeClassifier', DecisionTreeClassifier(random_state=0)])\n",
    "algorithms.append(['RandomForestClassifier', RandomForestClassifier(n_estimators=10, random_state=0)])\n",
    "algorithms.append(['GaussianNB', GaussianNB()])\n",
    "algorithms.append(['RidgeClassifier', RidgeClassifier()])\n",
    "algorithms.append(['MLPClassifier', MLPClassifier(random_state=True, max_iter=1000, learning_rate_init=0.0001, hidden_layer_sizes=(89))])\n",
    "algorithms.append(['GradientBoostingClassifier', GradientBoostingClassifier()])\n",
    "algorithms.append(['SVC', SVC(gamma='auto')])\n",
    "algorithms.append(['KNeighborsClassifier', KNeighborsClassifier()])\n",
    "algorithms.append(['LogisticRegression', LogisticRegression()])\n",
    "\n",
    "fitAll(X_train, X_test, y_train, y_test, algorithms)"
   ]
  },
  {
   "cell_type": "markdown",
   "metadata": {},
   "source": [
    "test = GradientBoostingClassifier(learning_rate=0.1, n_estimators=1000)\n",
    "y_pred = fit(X_train, X_test, y_train, y_test, test)\n",
    "\n",
    "conf_matrix = confusion_matrix(y_test, y_pred)\n",
    "conf_matrix"
   ]
  },
  {
   "cell_type": "code",
   "execution_count": 65,
   "metadata": {},
   "outputs": [
    {
     "data": {
      "text/plain": [
       "701    Gain\n",
       "Name: status, dtype: object"
      ]
     },
     "execution_count": 65,
     "metadata": {},
     "output_type": "execute_result"
    }
   ],
   "source": [
    "y_test[300:301]"
   ]
  },
  {
   "cell_type": "code",
   "execution_count": 66,
   "metadata": {},
   "outputs": [
    {
     "data": {
      "text/plain": [
       "array([0.10447761, 0.08074534, 0.01694915, 0.1111    , 0.24      ,\n",
       "       0.73684792, 0.08333333, 0.24688889, 0.00806452, 0.01652893,\n",
       "       0.        , 0.06818182, 0.16720257, 0.01801802, 0.1818    ,\n",
       "       0.17391304, 0.39155718, 0.2       , 0.48944648, 0.        ,\n",
       "       0.03225806, 1.        , 0.2       , 0.18618989, 0.22666667,\n",
       "       0.8947    , 0.08695652, 0.11232   , 0.        , 0.        ,\n",
       "       0.18987342, 0.10447761, 1.        , 0.35869565, 0.17325228,\n",
       "       0.38983051, 0.6571    , 0.11428571, 0.12192   , 0.17391304,\n",
       "       0.26375909, 0.03      , 0.13978495, 0.        , 0.35714286,\n",
       "       0.07258065, 0.21818182, 0.4444    , 0.15625   , 0.21165714,\n",
       "       0.25641026, 0.39888003, 0.26829268, 0.05555556, 1.        ,\n",
       "       0.1409396 , 0.05097087, 0.109375  , 0.6087    , 0.10714286,\n",
       "       0.14042645, 0.22222222, 0.28698713, 0.01675978, 0.00485437,\n",
       "       0.        , 0.17777778, 0.11208406, 0.07142857, 0.3158    ,\n",
       "       0.22580645, 0.42982149, 0.25      , 0.37319783, 0.05925926,\n",
       "       0.02424242, 0.        , 0.28205128, 0.13959391, 0.21126761,\n",
       "       0.6       , 0.        , 0.        , 0.3125    , 0.44999438,\n",
       "       0.06349206, 0.12857143, 0.        , 0.37383178, 0.23924269,\n",
       "       0.33333333, 0.8372    , 0.        , 0.        , 0.35      ,\n",
       "       0.18994283, 0.12037037, 0.47692308, 0.        , 0.17757009,\n",
       "       0.07961783, 0.05454545, 0.1364    , 0.18367347, 0.43465788,\n",
       "       0.20408163, 0.47842105, 0.38709677, 0.03030303, 1.        ,\n",
       "       0.29314572, 0.        ])"
      ]
     },
     "execution_count": 66,
     "metadata": {},
     "output_type": "execute_result"
    }
   ],
   "source": [
    "X_test[300]"
   ]
  },
  {
   "cell_type": "code",
   "execution_count": 67,
   "metadata": {},
   "outputs": [],
   "source": [
    "#print('Positive/Positive Ok', conf_matrix[0][0])\n",
    "#print('Positive/Negative Er', conf_matrix[0][1])\n",
    "#print('Negative/Negative Ok', conf_matrix[1][0])\n",
    "#print('Negative/Positive Ok', conf_matrix[1][1])"
   ]
  },
  {
   "cell_type": "code",
   "execution_count": 68,
   "metadata": {},
   "outputs": [
    {
     "ename": "NameError",
     "evalue": "name 'clf_ran' is not defined",
     "output_type": "error",
     "traceback": [
      "\u001b[1;31m---------------------------------------------------------------------------\u001b[0m",
      "\u001b[1;31mNameError\u001b[0m                                 Traceback (most recent call last)",
      "\u001b[1;32m<ipython-input-68-99b0b3dcd4e1>\u001b[0m in \u001b[0;36m<module>\u001b[1;34m\u001b[0m\n\u001b[1;32m----> 1\u001b[1;33m \u001b[0mclf_importances\u001b[0m \u001b[1;33m=\u001b[0m \u001b[0mdict\u001b[0m\u001b[1;33m(\u001b[0m\u001b[0mzip\u001b[0m\u001b[1;33m(\u001b[0m\u001b[0mx_columns\u001b[0m\u001b[1;33m,\u001b[0m \u001b[0mclf_ran\u001b[0m\u001b[1;33m.\u001b[0m\u001b[0mfeature_importances_\u001b[0m\u001b[1;33m)\u001b[0m\u001b[1;33m)\u001b[0m\u001b[1;33m\u001b[0m\u001b[1;33m\u001b[0m\u001b[0m\n\u001b[0m",
      "\u001b[1;31mNameError\u001b[0m: name 'clf_ran' is not defined"
     ]
    }
   ],
   "source": [
    "clf_importances = dict(zip(x_columns, clf_ran.feature_importances_))"
   ]
  },
  {
   "cell_type": "code",
   "execution_count": null,
   "metadata": {},
   "outputs": [],
   "source": [
    "clf_ran.feature_importances_[0:10], len(clf_ran.feature_importances_)"
   ]
  },
  {
   "cell_type": "markdown",
   "metadata": {},
   "source": [
    "index = np.arange(len(x_columns[0:64]))\n",
    "plt.bar(index, clf_ran.feature_importances_[0:64])\n",
    "plt.xticks(index, x_columns, rotation='vertical')\n",
    "plt.title('clf_ran')\n",
    "plt.show()"
   ]
  },
  {
   "cell_type": "markdown",
   "metadata": {},
   "source": [
    "index = np.arange(len(x_columns[64:128]))\n",
    "plt.bar(index, clf_ran.feature_importances_[64:128])\n",
    "plt.xticks(index, x_columns, rotation='vertical')\n",
    "plt.title('clf_ran')\n",
    "plt.show()"
   ]
  }
 ],
 "metadata": {
  "kernelspec": {
   "display_name": "Python 3",
   "language": "python",
   "name": "python3"
  },
  "language_info": {
   "codemirror_mode": {
    "name": "ipython",
    "version": 3
   },
   "file_extension": ".py",
   "mimetype": "text/x-python",
   "name": "python",
   "nbconvert_exporter": "python",
   "pygments_lexer": "ipython3",
   "version": "3.7.4"
  }
 },
 "nbformat": 4,
 "nbformat_minor": 4
}
