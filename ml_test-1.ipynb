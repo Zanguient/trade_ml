{
 "cells": [
  {
   "cell_type": "markdown",
   "metadata": {},
   "source": [
    "## Teste 1\n",
    "##### Programação grosseira em busca dos melhores dados e dos melhores modelos"
   ]
  },
  {
   "cell_type": "code",
   "execution_count": 387,
   "metadata": {},
   "outputs": [],
   "source": [
    "import pandas as pd\n",
    "import numpy as np\n",
    "import matplotlib.pyplot as plt\n",
    "from sklearn.preprocessing import LabelEncoder, OneHotEncoder, StandardScaler, MinMaxScaler\n",
    "import seaborn as sns\n",
    "\n",
    "from sklearn.model_selection import train_test_split\n",
    "from sklearn.metrics import confusion_matrix, classification_report, accuracy_score\n",
    "from sklearn import metrics\n",
    "from warnings import simplefilter\n",
    "\n",
    "from sklearn.tree import DecisionTreeClassifier\n",
    "from sklearn.ensemble import RandomForestClassifier\n",
    "from sklearn.linear_model import RidgeClassifier\n",
    "from sklearn.neighbors import KNeighborsClassifier\n",
    "from sklearn.ensemble import GradientBoostingClassifier\n",
    "from sklearn.linear_model import LogisticRegression\n",
    "from sklearn.neural_network import MLPClassifier\n",
    "from sklearn.svm import SVC\n",
    "from sklearn.naive_bayes import GaussianNB\n",
    "\n",
    "simplefilter(action='ignore', category=FutureWarning)\n",
    "\n",
    "%matplotlib inline\n",
    "\n",
    "plt.rcParams['figure.figsize'] = (25, 8)\n",
    "#sns.set_style('whitegrid')\n",
    "sns.set_style('white')\n",
    "sns.set_context('poster')"
   ]
  },
  {
   "cell_type": "code",
   "execution_count": 388,
   "metadata": {},
   "outputs": [
    {
     "data": {
      "text/plain": [
       "(1887, 258)"
      ]
     },
     "execution_count": 388,
     "metadata": {},
     "output_type": "execute_result"
    }
   ],
   "source": [
    "file = 'datasets/dataset_cler.csv'\n",
    "file = 'C:/Users/André/AppData/Roaming/MetaQuotes/Tester/D0E8209F77C8CF37AD8BF550E51FF075/Agent-127.0.0.1-3000/MQL5/Files/dataset_cler.csv'\n",
    "\n",
    "df = pd.read_csv(file, sep=\";\", encoding='utf-16')\n",
    "del df['Ref']\n",
    "df.shape"
   ]
  },
  {
   "cell_type": "code",
   "execution_count": 389,
   "metadata": {},
   "outputs": [
    {
     "data": {
      "text/html": [
       "<div>\n",
       "<style scoped>\n",
       "    .dataframe tbody tr th:only-of-type {\n",
       "        vertical-align: middle;\n",
       "    }\n",
       "\n",
       "    .dataframe tbody tr th {\n",
       "        vertical-align: top;\n",
       "    }\n",
       "\n",
       "    .dataframe thead th {\n",
       "        text-align: right;\n",
       "    }\n",
       "</style>\n",
       "<table border=\"1\" class=\"dataframe\">\n",
       "  <thead>\n",
       "    <tr style=\"text-align: right;\">\n",
       "      <th></th>\n",
       "      <th>ampl_9</th>\n",
       "      <th>desv_amp_9</th>\n",
       "      <th>body_9</th>\n",
       "      <th>body_per_9</th>\n",
       "      <th>pavio_sup_9</th>\n",
       "      <th>pavio_sup_per_9</th>\n",
       "      <th>pavio_inf_9</th>\n",
       "      <th>pavio_inf_per_9</th>\n",
       "      <th>high_dist_9</th>\n",
       "      <th>low_dist_9</th>\n",
       "      <th>...</th>\n",
       "      <th>pavio_inf_h2_1</th>\n",
       "      <th>pavio_inf_per_h2_1</th>\n",
       "      <th>high_dist_h2_1</th>\n",
       "      <th>low_dist_h2_1</th>\n",
       "      <th>type_h2_1</th>\n",
       "      <th>atr</th>\n",
       "      <th>qt_bars</th>\n",
       "      <th>oper</th>\n",
       "      <th>take</th>\n",
       "      <th>status</th>\n",
       "    </tr>\n",
       "  </thead>\n",
       "  <tbody>\n",
       "    <tr>\n",
       "      <td>0</td>\n",
       "      <td>145.0</td>\n",
       "      <td>1.07</td>\n",
       "      <td>65.0</td>\n",
       "      <td>44.83</td>\n",
       "      <td>5.0</td>\n",
       "      <td>3.45</td>\n",
       "      <td>75.0</td>\n",
       "      <td>51.72</td>\n",
       "      <td>40.0</td>\n",
       "      <td>50.0</td>\n",
       "      <td>...</td>\n",
       "      <td>0.0</td>\n",
       "      <td>0.00</td>\n",
       "      <td>20.0</td>\n",
       "      <td>280.0</td>\n",
       "      <td>down</td>\n",
       "      <td>91.79</td>\n",
       "      <td>8</td>\n",
       "      <td>Sell</td>\n",
       "      <td>-40.0</td>\n",
       "      <td>Loss</td>\n",
       "    </tr>\n",
       "    <tr>\n",
       "      <td>1</td>\n",
       "      <td>150.0</td>\n",
       "      <td>1.11</td>\n",
       "      <td>65.0</td>\n",
       "      <td>43.33</td>\n",
       "      <td>35.0</td>\n",
       "      <td>23.33</td>\n",
       "      <td>50.0</td>\n",
       "      <td>33.33</td>\n",
       "      <td>25.0</td>\n",
       "      <td>40.0</td>\n",
       "      <td>...</td>\n",
       "      <td>215.0</td>\n",
       "      <td>47.78</td>\n",
       "      <td>615.0</td>\n",
       "      <td>620.0</td>\n",
       "      <td>up</td>\n",
       "      <td>88.21</td>\n",
       "      <td>4</td>\n",
       "      <td>Sell</td>\n",
       "      <td>-40.0</td>\n",
       "      <td>Loss</td>\n",
       "    </tr>\n",
       "  </tbody>\n",
       "</table>\n",
       "<p>2 rows × 258 columns</p>\n",
       "</div>"
      ],
      "text/plain": [
       "   ampl_9  desv_amp_9  body_9  body_per_9  pavio_sup_9  pavio_sup_per_9  \\\n",
       "0   145.0        1.07    65.0       44.83          5.0             3.45   \n",
       "1   150.0        1.11    65.0       43.33         35.0            23.33   \n",
       "\n",
       "   pavio_inf_9  pavio_inf_per_9  high_dist_9  low_dist_9  ... pavio_inf_h2_1  \\\n",
       "0         75.0            51.72         40.0        50.0  ...            0.0   \n",
       "1         50.0            33.33         25.0        40.0  ...          215.0   \n",
       "\n",
       "   pavio_inf_per_h2_1  high_dist_h2_1  low_dist_h2_1  type_h2_1    atr  \\\n",
       "0                0.00            20.0          280.0       down  91.79   \n",
       "1               47.78           615.0          620.0         up  88.21   \n",
       "\n",
       "   qt_bars  oper  take  status  \n",
       "0        8  Sell -40.0    Loss  \n",
       "1        4  Sell -40.0    Loss  \n",
       "\n",
       "[2 rows x 258 columns]"
      ]
     },
     "execution_count": 389,
     "metadata": {},
     "output_type": "execute_result"
    }
   ],
   "source": [
    "df.head(2)"
   ]
  },
  {
   "cell_type": "code",
   "execution_count": 390,
   "metadata": {},
   "outputs": [
    {
     "data": {
      "text/plain": [
       "Loss    949\n",
       "Gain    938\n",
       "Name: status, dtype: int64"
      ]
     },
     "execution_count": 390,
     "metadata": {},
     "output_type": "execute_result"
    }
   ],
   "source": [
    "df['status'].value_counts()"
   ]
  },
  {
   "cell_type": "code",
   "execution_count": 391,
   "metadata": {
    "jupyter": {
     "source_hidden": true
    }
   },
   "outputs": [],
   "source": [
    "df.drop(df.loc[(df['status']!='Loss') & (df['status']!='Gain')].index.values, inplace=True)"
   ]
  },
  {
   "cell_type": "code",
   "execution_count": 392,
   "metadata": {},
   "outputs": [
    {
     "data": {
      "text/plain": [
       "Loss    949\n",
       "Gain    938\n",
       "Name: status, dtype: int64"
      ]
     },
     "execution_count": 392,
     "metadata": {},
     "output_type": "execute_result"
    }
   ],
   "source": [
    "df['status'].value_counts()"
   ]
  },
  {
   "cell_type": "code",
   "execution_count": 393,
   "metadata": {
    "jupyter": {
     "source_hidden": true
    }
   },
   "outputs": [],
   "source": [
    "#train_features = df.columns.difference(['take', 'status', 'oper'])\n",
    "X = df.drop(['take','status','oper'], axis=1) #df[train_features]\n",
    "y = df['status']\n",
    "\n",
    "x_columns = X.columns"
   ]
  },
  {
   "cell_type": "code",
   "execution_count": 394,
   "metadata": {
    "jupyter": {
     "source_hidden": true
    }
   },
   "outputs": [
    {
     "data": {
      "text/plain": [
       "[10, 21, 32, 43, 54, 65, 76, 87, 98, 109]"
      ]
     },
     "execution_count": 394,
     "metadata": {},
     "output_type": "execute_result"
    }
   ],
   "source": [
    "index_features_category = []\n",
    "for index, col in enumerate(X.columns):\n",
    "    if X.dtypes[index]=='object':\n",
    "        index_features_category.append(index)\n",
    "index_features_category[:10]"
   ]
  },
  {
   "cell_type": "code",
   "execution_count": 395,
   "metadata": {
    "jupyter": {
     "source_hidden": true
    }
   },
   "outputs": [],
   "source": [
    "encoder = LabelEncoder()\n",
    "encoder.fit(['inside', 'up', 'down'])\n",
    "columns_categorical = X.select_dtypes(include=['object']).columns\n",
    "for col_cat in columns_categorical:\n",
    "    X[col_cat] = encoder.transform(X[col_cat])"
   ]
  },
  {
   "cell_type": "markdown",
   "metadata": {},
   "source": [
    "ohe = OneHotEncoder(categorical_features=index_features_category)\n",
    "X = ohe.fit_transform(X).toarray()"
   ]
  },
  {
   "cell_type": "code",
   "execution_count": 396,
   "metadata": {
    "jupyter": {
     "source_hidden": true
    }
   },
   "outputs": [],
   "source": [
    "def fit(X_train, X_test, y_train, y_test, model):\n",
    "    model.fit(X_train, y_train)\n",
    "    y_pred = model.predict(X_test)\n",
    "    accuracy = accuracy_score(y_test, y_pred)\n",
    "    print(accuracy)\n",
    "    return y_pred \n",
    "\n",
    "def fitAll(X_train, X_test, y_train, y_test, algorithms):\n",
    "    similaridade = []\n",
    "    for item in algorithms:\n",
    "        name = item[0]\n",
    "        algorithm = item[1]\n",
    "        \n",
    "        algorithm.fit(X_train, y_train)\n",
    "        y_pred = algorithm.predict(X_test)\n",
    "        accuracy = accuracy_score(y_test, y_pred)\n",
    "        #print(name, ' => ', accuracy)\n",
    "        similaridade.append((accuracy, name))\n",
    "        \n",
    "    similaridade.sort()\n",
    "    similaridade.reverse()\n",
    "    \n",
    "    for j in similaridade:\n",
    "        print(j)\n",
    "\n",
    "def f_importances(coef, names):\n",
    "    imp = coef\n",
    "    imp,names = zip(*sorted(zip(imp,names)))\n",
    "    plt.barh(range(len(names)), imp, align='center')\n",
    "    plt.yticks(range(len(names)), names)\n",
    "    plt.show()"
   ]
  },
  {
   "cell_type": "code",
   "execution_count": 397,
   "metadata": {},
   "outputs": [],
   "source": [
    "scaler = MinMaxScaler()\n",
    "scaler.fit(X)\n",
    "X = scaler.transform(X)"
   ]
  },
  {
   "cell_type": "markdown",
   "metadata": {},
   "source": [
    "standar = StandardScaler()\n",
    "standar.fit(X)\n",
    "X = standar.fit_transform(X)"
   ]
  },
  {
   "cell_type": "code",
   "execution_count": 398,
   "metadata": {},
   "outputs": [],
   "source": [
    "X_train, X_test, y_train, y_test = train_test_split(X, y, test_size=0.3, random_state=True)"
   ]
  },
  {
   "cell_type": "code",
   "execution_count": 399,
   "metadata": {},
   "outputs": [
    {
     "name": "stderr",
     "output_type": "stream",
     "text": [
      "C:\\ProgramData\\Anaconda3\\lib\\site-packages\\sklearn\\neural_network\\multilayer_perceptron.py:566: ConvergenceWarning: Stochastic Optimizer: Maximum iterations (200) reached and the optimization hasn't converged yet.\n",
      "  % self.max_iter, ConvergenceWarning)\n"
     ]
    },
    {
     "name": "stdout",
     "output_type": "stream",
     "text": [
      "(0.527336860670194, 'RidgeClassifier')\n",
      "(0.5220458553791887, 'LogisticRegression')\n",
      "(0.5185185185185185, 'MLPClassifier')\n",
      "(0.5167548500881834, 'GradientBoostingClassifier')\n",
      "(0.5114638447971781, 'SVC')\n",
      "(0.5061728395061729, 'RandomForestClassifier')\n",
      "(0.5044091710758377, 'KNeighborsClassifier')\n",
      "(0.48677248677248675, 'GaussianNB')\n",
      "(0.4567901234567901, 'DecisionTreeClassifier')\n"
     ]
    }
   ],
   "source": [
    "algorithms = []\n",
    "\n",
    "algorithms.append(['DecisionTreeClassifier', DecisionTreeClassifier(random_state=0)])\n",
    "algorithms.append(['RandomForestClassifier', RandomForestClassifier(random_state=0)])\n",
    "algorithms.append(['GaussianNB', GaussianNB()])\n",
    "algorithms.append(['RidgeClassifier', RidgeClassifier()])\n",
    "algorithms.append(['MLPClassifier', MLPClassifier()])\n",
    "algorithms.append(['GradientBoostingClassifier', GradientBoostingClassifier()])\n",
    "algorithms.append(['SVC', SVC(gamma='auto')])\n",
    "algorithms.append(['KNeighborsClassifier', KNeighborsClassifier()])\n",
    "algorithms.append(['LogisticRegression', LogisticRegression()])\n",
    "\n",
    "fitAll(X_train, X_test, y_train, y_test, algorithms)"
   ]
  },
  {
   "cell_type": "markdown",
   "metadata": {},
   "source": [
    "test = GradientBoostingClassifier(learning_rate=0.1, n_estimators=1000)\n",
    "y_pred = fit(X_train, X_test, y_train, y_test, test)\n",
    "\n",
    "conf_matrix = confusion_matrix(y_test, y_pred)\n",
    "conf_matrix"
   ]
  },
  {
   "cell_type": "code",
   "execution_count": 400,
   "metadata": {},
   "outputs": [
    {
     "data": {
      "text/plain": [
       "1546    Gain\n",
       "Name: status, dtype: object"
      ]
     },
     "execution_count": 400,
     "metadata": {},
     "output_type": "execute_result"
    }
   ],
   "source": [
    "y_test[300:301]"
   ]
  },
  {
   "cell_type": "code",
   "execution_count": 401,
   "metadata": {},
   "outputs": [
    {
     "data": {
      "text/plain": [
       "array([0.25984252, 0.09448819, 0.1031746 , 0.3611    , 0.20512821,\n",
       "       0.23359966, 0.19736842, 0.43983534, 0.04265403, 0.09027778,\n",
       "       1.        , 0.22641509, 0.05857741, 0.17021277, 0.5926    ,\n",
       "       0.10714286, 0.12344444, 0.18181818, 0.30650667, 0.01945525,\n",
       "       0.01476015, 0.        , 0.14953271, 0.05606524, 0.11538462,\n",
       "       0.45      , 0.18181818, 0.53573342, 0.0212766 , 0.05249895,\n",
       "       0.00378788, 0.03463203, 1.        , 0.05113636, 0.04442037,\n",
       "       0.02027027, 0.25      , 0.12244898, 0.53844497, 0.08333333,\n",
       "       0.26922249, 0.03184713, 0.024     , 0.        , 0.12621359,\n",
       "       0.15479452, 0.02469136, 0.125     , 0.16666667, 0.55205918,\n",
       "       0.15384615, 0.41249588, 0.0078125 , 0.02054795, 1.        ,\n",
       "       0.09937888, 0.08650519, 0.0625    , 0.4211    , 0.03389831,\n",
       "       0.11846102, 0.07142857, 0.53683137, 0.02955665, 0.04812834,\n",
       "       0.        , 0.16197183, 0.14646465, 0.03174603, 0.1538    ,\n",
       "       0.4375    , 0.86542377, 0.01694915, 0.04375   , 0.10344828,\n",
       "       0.04819277, 1.        , 0.16513761, 0.09354839, 0.05825243,\n",
       "       0.2609    , 0.05405405, 0.09875142, 0.38461538, 0.74537143,\n",
       "       0.06854839, 0.06167401, 0.        , 0.1871345 , 0.14090431,\n",
       "       0.15517241, 0.7297    , 0.08571429, 0.09912002, 0.25      ,\n",
       "       0.22258824, 0.00671141, 0.09142857, 0.        , 0.20833333,\n",
       "       0.1026616 , 0.24444444, 0.39448778, 0.0625    , 0.11052913,\n",
       "       0.14423077, 0.53501603, 0.16049383, 0.0989011 , 0.        ,\n",
       "       0.11764706, 0.05134788, 0.01282051, 0.08      , 0.25454545,\n",
       "       0.62787308, 0.16363636, 0.39130435, 0.10752688, 0.18507463,\n",
       "       1.        , 0.17012448, 0.14035088, 0.15962441, 0.674661  ,\n",
       "       0.03      , 0.06247344, 0.15217391, 0.29836957, 0.03333333,\n",
       "       0.03533569, 1.        , 0.12058824, 0.11958146, 0.00383142,\n",
       "       0.0196    , 0.12871287, 0.28322222, 0.30081301, 0.77734919,\n",
       "       0.033241  , 0.02912621, 1.        , 0.21755725, 0.18137255,\n",
       "       0.16666667, 0.5522    , 0.23636364, 0.42471   , 0.04      ,\n",
       "       0.0648913 , 0.17921147, 0.10149254, 1.        , 0.21008403,\n",
       "       0.08912189, 0.15962441, 0.5862    , 0.16831683, 0.32759584,\n",
       "       0.06542056, 0.13119565, 0.02973978, 0.00353357, 0.        ,\n",
       "       0.50596659, 0.1997389 , 0.40767386, 0.7489    , 0.10982659,\n",
       "       0.09500568, 0.19895288, 0.17311272, 0.01995012, 0.1826087 ,\n",
       "       0.        , 0.22195704, 0.04928664, 0.23501199, 0.9074    ,\n",
       "       0.04046243, 0.07385457, 0.01271186, 0.03088889, 0.45386534,\n",
       "       0.13695652, 0.        , 0.14797136, 0.07911803, 0.00719424,\n",
       "       0.03934625, 0.15606936, 0.3995897 , 0.2460733 , 0.63123061,\n",
       "       0.19451372, 0.13019391, 0.        , 0.28125   , 0.21400778,\n",
       "       0.22302158, 0.6889    , 0.07514451, 0.1093076 , 0.12288136,\n",
       "       0.2221303 , 0.03990025, 0.09130435, 1.        , 0.37760911,\n",
       "       0.25310559, 0.2917505 , 0.68203322, 0.07522124, 0.08266528,\n",
       "       0.27225131, 0.26958065, 0.09570312, 0.27855711, 0.        ,\n",
       "       0.41732283, 0.11267606, 0.18306636, 0.35470559, 0.48230088,\n",
       "       0.49994794, 0.11343284, 0.18571112, 0.11963883, 0.13226453,\n",
       "       0.        , 0.26565465, 0.06807512, 0.20321932, 0.65586311,\n",
       "       0.03097345, 0.04705882, 0.14029851, 0.33688889, 0.35546875,\n",
       "       0.23913043, 0.        , 0.22328244, 0.09037559, 0.18712274,\n",
       "       0.69340715, 0.05752212, 0.10026028, 0.08656716, 0.23829598,\n",
       "       0.12109375, 0.08416834, 1.        , 0.31350312, 0.        ])"
      ]
     },
     "execution_count": 401,
     "metadata": {},
     "output_type": "execute_result"
    }
   ],
   "source": [
    "X_test[300]"
   ]
  }
 ],
 "metadata": {
  "kernelspec": {
   "display_name": "Python 3",
   "language": "python",
   "name": "python3"
  },
  "language_info": {
   "codemirror_mode": {
    "name": "ipython",
    "version": 3
   },
   "file_extension": ".py",
   "mimetype": "text/x-python",
   "name": "python",
   "nbconvert_exporter": "python",
   "pygments_lexer": "ipython3",
   "version": "3.7.4"
  }
 },
 "nbformat": 4,
 "nbformat_minor": 4
}
