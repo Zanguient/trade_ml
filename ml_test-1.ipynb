{
 "cells": [
  {
   "cell_type": "markdown",
   "metadata": {},
   "source": [
    "## Teste 1\n",
    "##### Programação grosseira em busca dos melhores dados e dos melhores modelos"
   ]
  },
  {
   "cell_type": "code",
   "execution_count": 293,
   "metadata": {},
   "outputs": [],
   "source": [
    "import pandas as pd\n",
    "import numpy as np\n",
    "import matplotlib.pyplot as plt\n",
    "from sklearn.preprocessing import LabelEncoder, OneHotEncoder, StandardScaler, MinMaxScaler\n",
    "import seaborn as sns\n",
    "\n",
    "from sklearn.model_selection import train_test_split\n",
    "from sklearn.metrics import confusion_matrix, classification_report, accuracy_score\n",
    "from sklearn import metrics\n",
    "from warnings import simplefilter\n",
    "\n",
    "from sklearn.tree import DecisionTreeClassifier\n",
    "from sklearn.ensemble import RandomForestClassifier\n",
    "from sklearn.linear_model import RidgeClassifier\n",
    "from sklearn.neighbors import KNeighborsClassifier\n",
    "from sklearn.ensemble import GradientBoostingClassifier\n",
    "from sklearn.linear_model import LogisticRegression\n",
    "from sklearn.neural_network import MLPClassifier\n",
    "from sklearn.svm import SVC\n",
    "from sklearn.naive_bayes import GaussianNB\n",
    "\n",
    "simplefilter(action='ignore', category=FutureWarning)\n",
    "\n",
    "%matplotlib inline\n",
    "\n",
    "plt.rcParams['figure.figsize'] = (25, 8)\n",
    "#sns.set_style('whitegrid')\n",
    "sns.set_style('white')\n",
    "sns.set_context('poster')"
   ]
  },
  {
   "cell_type": "code",
   "execution_count": 294,
   "metadata": {},
   "outputs": [
    {
     "data": {
      "text/plain": [
       "(1445, 555)"
      ]
     },
     "execution_count": 294,
     "metadata": {},
     "output_type": "execute_result"
    }
   ],
   "source": [
    "df = pd.read_csv('datasets/dataset_cler.csv', sep=\";\", encoding='utf-16')\n",
    "del df['Ref']\n",
    "df.shape"
   ]
  },
  {
   "cell_type": "code",
   "execution_count": 295,
   "metadata": {},
   "outputs": [
    {
     "data": {
      "text/html": [
       "<div>\n",
       "<style scoped>\n",
       "    .dataframe tbody tr th:only-of-type {\n",
       "        vertical-align: middle;\n",
       "    }\n",
       "\n",
       "    .dataframe tbody tr th {\n",
       "        vertical-align: top;\n",
       "    }\n",
       "\n",
       "    .dataframe thead th {\n",
       "        text-align: right;\n",
       "    }\n",
       "</style>\n",
       "<table border=\"1\" class=\"dataframe\">\n",
       "  <thead>\n",
       "    <tr style=\"text-align: right;\">\n",
       "      <th></th>\n",
       "      <th>ampl_29</th>\n",
       "      <th>desv_amp_29</th>\n",
       "      <th>body_29</th>\n",
       "      <th>body_per_29</th>\n",
       "      <th>pavio_sup_29</th>\n",
       "      <th>pavio_sup_per_29</th>\n",
       "      <th>pavio_inf_29</th>\n",
       "      <th>pavio_inf_per_29</th>\n",
       "      <th>high_dist_29</th>\n",
       "      <th>low_dist_29</th>\n",
       "      <th>...</th>\n",
       "      <th>pavio_inf_h2_1</th>\n",
       "      <th>pavio_inf_per_h2_1</th>\n",
       "      <th>high_dist_h2_1</th>\n",
       "      <th>low_dist_h2_1</th>\n",
       "      <th>type_h2_1</th>\n",
       "      <th>atr</th>\n",
       "      <th>qt_bars</th>\n",
       "      <th>oper</th>\n",
       "      <th>take</th>\n",
       "      <th>status</th>\n",
       "    </tr>\n",
       "  </thead>\n",
       "  <tbody>\n",
       "    <tr>\n",
       "      <td>0</td>\n",
       "      <td>15.0</td>\n",
       "      <td>0.43</td>\n",
       "      <td>10.0</td>\n",
       "      <td>66.67</td>\n",
       "      <td>5.0</td>\n",
       "      <td>33.33</td>\n",
       "      <td>0.0</td>\n",
       "      <td>0.00</td>\n",
       "      <td>10.0</td>\n",
       "      <td>30.0</td>\n",
       "      <td>...</td>\n",
       "      <td>215.0</td>\n",
       "      <td>47.78</td>\n",
       "      <td>615.0</td>\n",
       "      <td>620.0</td>\n",
       "      <td>up</td>\n",
       "      <td>58.21</td>\n",
       "      <td>5</td>\n",
       "      <td>Sell</td>\n",
       "      <td>-40.0</td>\n",
       "      <td>Loss</td>\n",
       "    </tr>\n",
       "    <tr>\n",
       "      <td>1</td>\n",
       "      <td>90.0</td>\n",
       "      <td>1.29</td>\n",
       "      <td>5.0</td>\n",
       "      <td>5.56</td>\n",
       "      <td>15.0</td>\n",
       "      <td>16.67</td>\n",
       "      <td>70.0</td>\n",
       "      <td>77.78</td>\n",
       "      <td>45.0</td>\n",
       "      <td>65.0</td>\n",
       "      <td>...</td>\n",
       "      <td>215.0</td>\n",
       "      <td>47.78</td>\n",
       "      <td>615.0</td>\n",
       "      <td>620.0</td>\n",
       "      <td>up</td>\n",
       "      <td>59.64</td>\n",
       "      <td>5</td>\n",
       "      <td>Sell</td>\n",
       "      <td>-40.0</td>\n",
       "      <td>Loss</td>\n",
       "    </tr>\n",
       "  </tbody>\n",
       "</table>\n",
       "<p>2 rows × 555 columns</p>\n",
       "</div>"
      ],
      "text/plain": [
       "   ampl_29  desv_amp_29  body_29  body_per_29  pavio_sup_29  pavio_sup_per_29  \\\n",
       "0     15.0         0.43     10.0        66.67           5.0             33.33   \n",
       "1     90.0         1.29      5.0         5.56          15.0             16.67   \n",
       "\n",
       "   pavio_inf_29  pavio_inf_per_29  high_dist_29  low_dist_29  ...  \\\n",
       "0           0.0              0.00          10.0         30.0  ...   \n",
       "1          70.0             77.78          45.0         65.0  ...   \n",
       "\n",
       "  pavio_inf_h2_1  pavio_inf_per_h2_1  high_dist_h2_1  low_dist_h2_1  \\\n",
       "0          215.0               47.78           615.0          620.0   \n",
       "1          215.0               47.78           615.0          620.0   \n",
       "\n",
       "   type_h2_1    atr  qt_bars  oper  take  status  \n",
       "0         up  58.21        5  Sell -40.0    Loss  \n",
       "1         up  59.64        5  Sell -40.0    Loss  \n",
       "\n",
       "[2 rows x 555 columns]"
      ]
     },
     "execution_count": 295,
     "metadata": {},
     "output_type": "execute_result"
    }
   ],
   "source": [
    "df.head(2)"
   ]
  },
  {
   "cell_type": "code",
   "execution_count": 296,
   "metadata": {},
   "outputs": [
    {
     "data": {
      "text/plain": [
       "Loss    725\n",
       "Gain    720\n",
       "Name: status, dtype: int64"
      ]
     },
     "execution_count": 296,
     "metadata": {},
     "output_type": "execute_result"
    }
   ],
   "source": [
    "df['status'].value_counts()"
   ]
  },
  {
   "cell_type": "code",
   "execution_count": 297,
   "metadata": {
    "jupyter": {
     "source_hidden": true
    }
   },
   "outputs": [],
   "source": [
    "df.drop(df.loc[(df['status']!='Loss') & (df['status']!='Gain')].index.values, inplace=True)"
   ]
  },
  {
   "cell_type": "code",
   "execution_count": 298,
   "metadata": {},
   "outputs": [
    {
     "data": {
      "text/plain": [
       "Loss    725\n",
       "Gain    720\n",
       "Name: status, dtype: int64"
      ]
     },
     "execution_count": 298,
     "metadata": {},
     "output_type": "execute_result"
    }
   ],
   "source": [
    "df['status'].value_counts()"
   ]
  },
  {
   "cell_type": "code",
   "execution_count": 299,
   "metadata": {
    "jupyter": {
     "source_hidden": true
    }
   },
   "outputs": [],
   "source": [
    "#train_features = df.columns.difference(['take', 'status', 'oper'])\n",
    "X = df.drop(['take','status','oper'], axis=1) #df[train_features]\n",
    "y = df['status']\n",
    "\n",
    "x_columns = X.columns"
   ]
  },
  {
   "cell_type": "code",
   "execution_count": 300,
   "metadata": {
    "jupyter": {
     "source_hidden": true
    }
   },
   "outputs": [
    {
     "data": {
      "text/plain": [
       "[10, 21, 32, 43, 54, 65, 76, 87, 98, 109]"
      ]
     },
     "execution_count": 300,
     "metadata": {},
     "output_type": "execute_result"
    }
   ],
   "source": [
    "index_features_category = []\n",
    "for index, col in enumerate(X.columns):\n",
    "    if X.dtypes[index]=='object':\n",
    "        index_features_category.append(index)\n",
    "index_features_category[:10]"
   ]
  },
  {
   "cell_type": "code",
   "execution_count": 301,
   "metadata": {
    "jupyter": {
     "source_hidden": true
    }
   },
   "outputs": [],
   "source": [
    "encoder = LabelEncoder()\n",
    "encoder.fit(['inside', 'up', 'down'])\n",
    "columns_categorical = X.select_dtypes(include=['object']).columns\n",
    "for col_cat in columns_categorical:\n",
    "    X[col_cat] = encoder.transform(X[col_cat])"
   ]
  },
  {
   "cell_type": "markdown",
   "metadata": {},
   "source": [
    "ohe = OneHotEncoder(categorical_features=index_features_category)\n",
    "X = ohe.fit_transform(X).toarray()"
   ]
  },
  {
   "cell_type": "code",
   "execution_count": 302,
   "metadata": {
    "jupyter": {
     "source_hidden": true
    }
   },
   "outputs": [],
   "source": [
    "def fit(X_train, X_test, y_train, y_test, model):\n",
    "    model.fit(X_train, y_train)\n",
    "    y_pred = model.predict(X_test)\n",
    "    accuracy = accuracy_score(y_test, y_pred)\n",
    "    print(accuracy)\n",
    "    return y_pred \n",
    "\n",
    "def fitAll(X_train, X_test, y_train, y_test, algorithms):\n",
    "    similaridade = []\n",
    "    for item in algorithms:\n",
    "        name = item[0]\n",
    "        algorithm = item[1]\n",
    "        \n",
    "        algorithm.fit(X_train, y_train)\n",
    "        y_pred = algorithm.predict(X_test)\n",
    "        accuracy = accuracy_score(y_test, y_pred)\n",
    "        #print(name, ' => ', accuracy)\n",
    "        similaridade.append((accuracy, name))\n",
    "        \n",
    "    similaridade.sort()\n",
    "    similaridade.reverse()\n",
    "    \n",
    "    for j in similaridade:\n",
    "        print(j)\n",
    "\n",
    "def f_importances(coef, names):\n",
    "    imp = coef\n",
    "    imp,names = zip(*sorted(zip(imp,names)))\n",
    "    plt.barh(range(len(names)), imp, align='center')\n",
    "    plt.yticks(range(len(names)), names)\n",
    "    plt.show()"
   ]
  },
  {
   "cell_type": "code",
   "execution_count": 303,
   "metadata": {},
   "outputs": [],
   "source": [
    "scaler = MinMaxScaler()\n",
    "scaler.fit(X)\n",
    "X = scaler.transform(X)"
   ]
  },
  {
   "cell_type": "markdown",
   "metadata": {},
   "source": [
    "standar = StandardScaler()\n",
    "standar.fit(X)\n",
    "X = standar.fit_transform(X)"
   ]
  },
  {
   "cell_type": "code",
   "execution_count": 304,
   "metadata": {},
   "outputs": [],
   "source": [
    "X_train, X_test, y_train, y_test = train_test_split(X, y, test_size=0.3, random_state=True)"
   ]
  },
  {
   "cell_type": "code",
   "execution_count": 305,
   "metadata": {},
   "outputs": [
    {
     "name": "stderr",
     "output_type": "stream",
     "text": [
      "C:\\ProgramData\\Anaconda3\\lib\\site-packages\\sklearn\\neural_network\\multilayer_perceptron.py:566: ConvergenceWarning: Stochastic Optimizer: Maximum iterations (1000) reached and the optimization hasn't converged yet.\n",
      "  % self.max_iter, ConvergenceWarning)\n"
     ]
    },
    {
     "name": "stdout",
     "output_type": "stream",
     "text": [
      "(0.5391705069124424, 'KNeighborsClassifier')\n",
      "(0.5069124423963134, 'GradientBoostingClassifier')\n",
      "(0.4792626728110599, 'SVC')\n",
      "(0.46774193548387094, 'DecisionTreeClassifier')\n",
      "(0.46543778801843316, 'RandomForestClassifier')\n",
      "(0.46543778801843316, 'LogisticRegression')\n",
      "(0.4631336405529954, 'RidgeClassifier')\n",
      "(0.45852534562211983, 'MLPClassifier')\n",
      "(0.4377880184331797, 'GaussianNB')\n"
     ]
    }
   ],
   "source": [
    "algorithms = []\n",
    "\n",
    "algorithms.append(['DecisionTreeClassifier', DecisionTreeClassifier(random_state=0)])\n",
    "algorithms.append(['RandomForestClassifier', RandomForestClassifier(n_estimators=10, random_state=0)])\n",
    "algorithms.append(['GaussianNB', GaussianNB()])\n",
    "algorithms.append(['RidgeClassifier', RidgeClassifier()])\n",
    "algorithms.append(['MLPClassifier', MLPClassifier(random_state=True, max_iter=1000, learning_rate_init=0.0001, hidden_layer_sizes=(89))])\n",
    "algorithms.append(['GradientBoostingClassifier', GradientBoostingClassifier()])\n",
    "algorithms.append(['SVC', SVC(gamma='auto')])\n",
    "algorithms.append(['KNeighborsClassifier', KNeighborsClassifier()])\n",
    "algorithms.append(['LogisticRegression', LogisticRegression()])\n",
    "\n",
    "fitAll(X_train, X_test, y_train, y_test, algorithms)"
   ]
  },
  {
   "cell_type": "markdown",
   "metadata": {},
   "source": [
    "test = GradientBoostingClassifier(learning_rate=0.1, n_estimators=1000)\n",
    "y_pred = fit(X_train, X_test, y_train, y_test, test)\n",
    "\n",
    "conf_matrix = confusion_matrix(y_test, y_pred)\n",
    "conf_matrix"
   ]
  },
  {
   "cell_type": "code",
   "execution_count": 306,
   "metadata": {},
   "outputs": [
    {
     "data": {
      "text/plain": [
       "462    Loss\n",
       "Name: status, dtype: object"
      ]
     },
     "execution_count": 306,
     "metadata": {},
     "output_type": "execute_result"
    }
   ],
   "source": [
    "y_test[300:301]"
   ]
  },
  {
   "cell_type": "code",
   "execution_count": 307,
   "metadata": {},
   "outputs": [
    {
     "data": {
      "text/plain": [
       "array([0.15436242, 0.33628319, 0.1097561 , 0.36      , 0.42424242,\n",
       "       0.60305837, 0.03636364, 0.09066183, 0.25      , 0.0625    ,\n",
       "       1.        , 0.01941748, 0.00340832, 0.00502513, 0.1667    ,\n",
       "       0.1       , 0.35552   , 0.08571429, 0.53333333, 0.06622517,\n",
       "       0.04639175, 1.        , 0.12962963, 0.31578947, 0.05681818,\n",
       "       0.3125    , 0.07142857, 0.13541328, 0.32142857, 0.64285714,\n",
       "       0.03883495, 0.08108108, 1.        , 0.14285714, 0.08447205,\n",
       "       0.20634921, 0.9286    , 0.02777778, 0.07820372, 0.        ,\n",
       "       0.        , 0.11340206, 0.12621359, 1.        , 0.11504425,\n",
       "       0.090625  , 0.12698413, 0.5333    , 0.15      , 0.44999438,\n",
       "       0.03846154, 0.07336927, 0.07017544, 0.046875  , 0.        ,\n",
       "       0.06593407, 0.03643725, 0.05952381, 0.625     , 0.08333333,\n",
       "       0.29543843, 0.04      , 0.13393335, 0.17647059, 0.06666667,\n",
       "       0.        , 0.11340206, 0.1678487 , 0.10588235, 0.6923    ,\n",
       "       0.13793103, 0.32969035, 0.        , 0.        , 0.02222222,\n",
       "       0.        , 1.        , 0.10294118, 0.0962963 , 0.1147541 ,\n",
       "       0.7778    , 0.06451613, 0.23928495, 0.        , 0.        ,\n",
       "       0.03361345, 0.05673759, 1.        , 0.08333333, 0.13498623,\n",
       "       0.12121212, 0.7273    , 0.0952381 , 0.199978  , 0.02040816,\n",
       "       0.09916003, 0.13333333, 0.06      , 1.        , 0.16455696,\n",
       "       0.14162562, 0.15384615, 0.8       , 0.03448276, 0.07225653,\n",
       "       0.0952381 , 0.15234286, 0.01219512, 0.05681818, 0.        ,\n",
       "       0.09      , 0.11729622, 0.01190476, 0.0909    , 0.11111111,\n",
       "       0.38958534, 0.10909091, 0.600044  , 0.08080808, 0.04347826,\n",
       "       1.        , 0.09821429, 0.1212485 , 0.05333333, 0.3077    ,\n",
       "       0.07894737, 0.25964675, 0.06122449, 0.49994583, 0.04166667,\n",
       "       0.01904762, 1.        , 0.12643678, 0.19836401, 0.16666667,\n",
       "       0.7143    , 0.05714286, 0.15242667, 0.04255319, 0.15388757,\n",
       "       0.05050505, 0.04568528, 1.        , 0.22727273, 0.12685185,\n",
       "       0.13432836, 0.4091    , 0.07246377, 0.24623551, 0.15384615,\n",
       "       0.404     , 0.01153846, 0.01968504, 0.        , 0.07751938,\n",
       "       0.03472932, 0.04347826, 0.25      , 0.07142857, 0.18184793,\n",
       "       0.16666667, 0.6562043 , 0.04477612, 0.00865801, 0.        ,\n",
       "       0.06701031, 0.10564854, 0.1125    , 0.6       , 0.15      ,\n",
       "       0.43075598, 0.        , 0.        , 0.04186047, 0.03092784,\n",
       "       1.        , 0.14563107, 0.11771845, 0.08235294, 0.4118    ,\n",
       "       0.08333333, 0.1344    , 0.25      , 0.50980392, 0.02941176,\n",
       "       0.01234568, 1.        , 0.16541353, 0.09138973, 0.19191919,\n",
       "       0.76      , 0.03333333, 0.04333225, 0.10416667, 0.22222222,\n",
       "       0.16666667, 0.15      , 1.        , 0.275     , 0.14468864,\n",
       "       0.19298246, 0.44      , 0.43333333, 0.56331925, 0.03225806,\n",
       "       0.04386927, 0.31944444, 0.34328358, 1.        , 0.08955224,\n",
       "       0.04066736, 0.03797468, 0.2       , 0.27586207, 0.57772722,\n",
       "       0.06896552, 0.29633333, 0.00554017, 0.01860465, 1.        ,\n",
       "       0.2238806 , 0.13975155, 0.01694915, 0.0588    , 0.24      ,\n",
       "       0.39003095, 0.41666667, 0.65355556, 0.01612903, 0.03305785,\n",
       "       0.        , 0.09090909, 0.10289389, 0.04504505, 0.3571    ,\n",
       "       0.13043478, 0.23077751, 0.24      , 0.46155503, 0.02255639,\n",
       "       0.        , 0.        , 0.08235294, 0.04826733, 0.05333333,\n",
       "       0.4444    , 0.13043478, 0.35552   , 0.06451613, 0.24441756,\n",
       "       0.02531646, 0.04477612, 1.        , 0.2173913 , 0.23404255,\n",
       "       0.01694915, 0.0455    , 0.11428571, 0.19392   , 0.36956522,\n",
       "       0.89154263, 0.02      , 0.11827957, 0.        , 0.15714286,\n",
       "       0.0483871 , 0.        , 0.        , 0.        , 0.        ,\n",
       "       0.        , 0.        , 0.        , 0.16666667, 0.5       ,\n",
       "       0.12080537, 0.10679612, 0.0390625 , 0.25      , 0.32142857,\n",
       "       0.48460047, 0.22222222, 0.3299967 , 0.02234637, 0.01456311,\n",
       "       0.        , 0.28888889, 0.2206655 , 0.25      , 0.7241    ,\n",
       "       0.19354839, 0.2413954 , 0.08333333, 0.08154101, 0.05925926,\n",
       "       0.1030303 , 0.        , 0.29487179, 0.08629442, 0.11267606,\n",
       "       0.3077    , 0.40909091, 0.39565714, 0.28125   , 0.38947013,\n",
       "       0.08465608, 0.09285714, 0.        , 0.25471698, 0.14802065,\n",
       "       0.18518519, 0.6452    , 0.        , 0.        , 0.55      ,\n",
       "       0.41395403, 0.13888889, 0.30769231, 0.        , 0.17924528,\n",
       "       0.15      , 0.07272727, 0.1739    , 0.08163265, 0.18476413,\n",
       "       0.30612245, 0.68652632, 0.24193548, 0.07070707, 0.        ,\n",
       "       0.16145833, 0.04904306, 0.07371795, 0.3194    , 0.3960396 ,\n",
       "       0.59144135, 0.07377049, 0.13888889, 0.08864266, 0.02912621,\n",
       "       1.        , 0.10588235, 0.028715  , 0.05747126, 0.3261    ,\n",
       "       0.24731183, 0.55555556, 0.09302326, 0.19729975, 0.06451613,\n",
       "       0.0238806 , 0.        , 0.26086957, 0.2066365 , 0.20247934,\n",
       "       0.6613687 , 0.24      , 0.35555556, 0.02173913, 0.02860816,\n",
       "       0.10606061, 0.01657459, 1.        , 0.14049587, 0.04621309,\n",
       "       0.02873563, 0.11777215, 0.27777778, 0.52047896, 0.14634146,\n",
       "       0.455     , 0.01108033, 0.06796117, 0.        , 0.09855072,\n",
       "       0.10364146, 0.125     , 1.        , 0.        , 0.        ,\n",
       "       0.        , 0.        , 0.04126984, 0.05105105, 1.        ,\n",
       "       0.38006231, 0.4182058 , 0.18589744, 0.4361    , 0.23255814,\n",
       "       0.16458744, 0.44715447, 0.49331902, 0.26388889, 0.05373134,\n",
       "       1.        , 0.12886598, 0.02278177, 0.        , 0.        ,\n",
       "       0.        , 0.        , 0.        , 0.        , 0.0390625 ,\n",
       "       0.19034091, 0.5       , 0.21495327, 0.17251052, 0.18589744,\n",
       "       0.74542463, 0.07563025, 0.12589526, 0.10569106, 0.17533448,\n",
       "       0.        , 0.06629834, 0.        , 0.12827225, 0.06242497,\n",
       "       0.14102564, 0.7213    , 0.02352941, 0.0349159 , 0.12195122,\n",
       "       0.26532154, 0.09166667, 0.00852273, 1.        , 0.18209877,\n",
       "       0.12376934, 0.00641026, 0.0299    , 0.41818182, 0.8153426 ,\n",
       "       0.17757009, 0.303868  , 0.12742382, 0.09708738, 1.        ,\n",
       "       0.48766603, 0.47515528, 0.45875252, 0.84368395, 0.17699115,\n",
       "       0.17652706, 0.0119403 , 0.01630797, 0.046875  , 0.35217391,\n",
       "       0.        , 0.31692913, 0.06455399, 0.19450801, 0.48616004,\n",
       "       0.25806452, 0.28391463, 0.12835821, 0.27144444, 0.496614  ,\n",
       "       0.24849699, 0.        , 0.19924099, 0.06807512, 0.12474849,\n",
       "       0.52008052, 0.17256637, 0.33836543, 0.05671642, 0.17561571,\n",
       "       0.0625    , 0.05217391, 1.        , 0.14722753, 0.08215962,\n",
       "       0.0945674 , 0.49280322, 0.        , 0.        , 0.14626866,\n",
       "       0.56623031, 0.01367188, 0.06212425, 1.        , 0.16602317,\n",
       "       0.1128266 , 0.03822938, 0.17382989, 0.17256637, 0.40403465,\n",
       "       0.15522388, 0.52440648, 0.44140625, 0.4248497 , 0.        ,\n",
       "       0.21923077, 0.14671815, 0.0945674 , 0.3478611 , 0.14159292,\n",
       "       0.28535047, 0.17014925, 0.46566667, 0.05078125, 0.10420842,\n",
       "       0.        , 0.21850394, 0.12888199, 0.05949657, 0.20764972,\n",
       "       0.19117647, 0.32222801, 0.32275132, 0.53705347, 0.09029345,\n",
       "       0.06012024, 0.        , 0.49409449, 0.25868726, 0.36384439,\n",
       "       0.60161047, 0.43362832, 0.41987691, 0.02686567, 0.03755556,\n",
       "       0.07223476, 0.23478261, 0.        , 0.41984733, 0.1016731 ,\n",
       "       0.14285714, 0.30025164, 0.0619469 , 0.06121812, 0.45671642,\n",
       "       0.71322387, 0.4765625 , 0.46956522, 0.        , 0.22390892,\n",
       "       0.05399061, 0.08853119, 0.33414141, 0.16666667, 0.29131525,\n",
       "       0.1641791 , 0.45944444, 0.01757812, 0.19238477, 1.        ,\n",
       "       0.28426252, 0.        ])"
      ]
     },
     "execution_count": 307,
     "metadata": {},
     "output_type": "execute_result"
    }
   ],
   "source": [
    "X_test[300]"
   ]
  }
 ],
 "metadata": {
  "kernelspec": {
   "display_name": "Python 3",
   "language": "python",
   "name": "python3"
  },
  "language_info": {
   "codemirror_mode": {
    "name": "ipython",
    "version": 3
   },
   "file_extension": ".py",
   "mimetype": "text/x-python",
   "name": "python",
   "nbconvert_exporter": "python",
   "pygments_lexer": "ipython3",
   "version": "3.7.4"
  }
 },
 "nbformat": 4,
 "nbformat_minor": 4
}
