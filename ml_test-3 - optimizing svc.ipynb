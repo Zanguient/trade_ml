{
 "cells": [
  {
   "cell_type": "code",
   "execution_count": 24,
   "metadata": {},
   "outputs": [],
   "source": [
    "import pandas as pd\n",
    "import numpy as np\n",
    "import pickle\n",
    "\n",
    "from sklearn.preprocessing import LabelEncoder, MinMaxScaler\n",
    "\n",
    "from sklearn.model_selection import train_test_split, cross_val_score, GridSearchCV\n",
    "from sklearn.metrics import confusion_matrix, accuracy_score\n",
    "from warnings import simplefilter\n",
    "\n",
    "from sklearn.svm import SVC\n",
    "\n",
    "simplefilter(action='ignore', category=FutureWarning)"
   ]
  },
  {
   "cell_type": "code",
   "execution_count": 25,
   "metadata": {},
   "outputs": [
    {
     "data": {
      "text/plain": [
       "(1642, 115)"
      ]
     },
     "execution_count": 25,
     "metadata": {},
     "output_type": "execute_result"
    }
   ],
   "source": [
    "df = pd.read_csv('datasets/dataset_cler.csv', sep=\";\", encoding='utf-16')\n",
    "df.shape"
   ]
  },
  {
   "cell_type": "code",
   "execution_count": 26,
   "metadata": {},
   "outputs": [],
   "source": [
    "X = df.drop(['take','status','oper'], axis=1) #df[train_features]\n",
    "y = df['status']\n",
    "\n",
    "x_columns = X.columns"
   ]
  },
  {
   "cell_type": "code",
   "execution_count": 27,
   "metadata": {},
   "outputs": [],
   "source": [
    "encoder = LabelEncoder()\n",
    "encoder.fit(['inside', 'up', 'down'])\n",
    "columns_objects = X.select_dtypes(include=['object']).columns\n",
    "for col_obj in columns_objects:\n",
    "    X[col_obj] = encoder.transform(X[col_obj])"
   ]
  },
  {
   "cell_type": "code",
   "execution_count": 28,
   "metadata": {},
   "outputs": [],
   "source": [
    "scaler = MinMaxScaler()\n",
    "scaler.fit(X)\n",
    "X = scaler.transform(X)"
   ]
  },
  {
   "cell_type": "code",
   "execution_count": 29,
   "metadata": {},
   "outputs": [
    {
     "data": {
      "text/plain": [
       "array([0.17910448, 0.14596273, 0.16949153, 0.7143    , 0.16      ,\n",
       "       0.31576039, 0.        , 0.        , 0.04032258, 0.05785124,\n",
       "       0.        , 0.06818182, 0.09807074, 0.05405405, 0.5455    ,\n",
       "       0.04347826, 0.0978893 , 0.16      , 0.39155718, 0.09774436,\n",
       "       0.16129032, 0.        , 0.08235294, 0.07398274, 0.10666667,\n",
       "       0.8889    , 0.        , 0.        , 0.03225806, 0.12220878,\n",
       "       0.02531646, 0.05970149, 1.        , 0.04347826, 0.05471125,\n",
       "       0.05084746, 0.5       , 0.08571429, 0.53333333, 0.        ,\n",
       "       0.        , 0.03      , 0.06451613, 0.        , 0.25714286,\n",
       "       0.41666667, 0.03636364, 0.1       , 0.53125   , 0.97142857,\n",
       "       0.02564103, 0.0538445 , 0.31707317, 0.01851852, 1.        ,\n",
       "       0.06711409, 0.03074434, 0.0390625 , 0.4167    , 0.21428571,\n",
       "       0.53844497, 0.03703704, 0.09162908, 0.03351955, 0.00970874,\n",
       "       1.        , 0.08888889, 0.12784588, 0.08333333, 0.6364    ,\n",
       "       0.        , 0.        , 0.16666667, 0.42968565, 0.00740741,\n",
       "       0.01212121, 1.        , 0.1025641 , 0.09898477, 0.08450704,\n",
       "       0.5455    , 0.09090909, 0.20777143, 0.09375   , 0.30678367,\n",
       "       0.03703704, 0.05      , 1.        , 0.05607477, 0.08433735,\n",
       "       0.06481481, 0.7778    , 0.07407407, 0.25394286, 0.        ,\n",
       "       0.        , 0.05555556, 0.12307692, 1.        , 0.05607477,\n",
       "       0.23566879, 0.09090909, 0.5556    , 0.06122449, 0.3541224 ,\n",
       "       0.02040816, 0.11694737, 0.        , 0.        , 0.        ,\n",
       "       0.12816686, 0.        ])"
      ]
     },
     "execution_count": 29,
     "metadata": {},
     "output_type": "execute_result"
    }
   ],
   "source": [
    "X[0]"
   ]
  },
  {
   "cell_type": "code",
   "execution_count": 30,
   "metadata": {},
   "outputs": [],
   "source": [
    "X_train, X_test, y_train, y_test = train_test_split(X, y, test_size=0.3, random_state=True)"
   ]
  },
  {
   "cell_type": "code",
   "execution_count": 13,
   "metadata": {},
   "outputs": [
    {
     "data": {
      "text/plain": [
       "0.6693101900344157"
      ]
     },
     "execution_count": 13,
     "metadata": {},
     "output_type": "execute_result"
    }
   ],
   "source": [
    "svc = SVC(kernel = 'rbf', gamma='auto')\n",
    "scores = cross_val_score(svc, X, y, cv=10)\n",
    "scores.mean()"
   ]
  },
  {
   "cell_type": "code",
   "execution_count": 62,
   "metadata": {},
   "outputs": [],
   "source": [
    "# Variáveis para coletar os resultados\n",
    "models = np.array([])\n",
    "opt_params = dict()\n",
    "scores = np.array([])"
   ]
  },
  {
   "cell_type": "markdown",
   "metadata": {},
   "source": [
    "## Optimizing of the algorithm SVC"
   ]
  },
  {
   "cell_type": "code",
   "execution_count": 63,
   "metadata": {},
   "outputs": [],
   "source": [
    "def optimize(C, kernel, degree, gamma, coef0, shrinking, probability, tol,\n",
    "             cache_size, class_weight, max_iter, decision_function_shape, params, cv = 5):\n",
    "  np.random.seed(0)\n",
    "\n",
    "  svc = SVC(C = C,\n",
    "          kernel = kernel,\n",
    "          degree = degree,\n",
    "          gamma = gamma,\n",
    "          coef0 = coef0,\n",
    "          shrinking = shrinking,\n",
    "          probability = probability,\n",
    "          tol = tol,\n",
    "          cache_size = cache_size,\n",
    "          class_weight = class_weight,\n",
    "          max_iter = max_iter,\n",
    "          decision_function_shape = decision_function_shape)\n",
    "    \n",
    "  grid_search = GridSearchCV(estimator = svc, param_grid = params, scoring = 'roc_auc',\n",
    "                             n_jobs = -1, iid = False, cv = cv)\n",
    "\n",
    "  grid_search.fit(X_train, y_train)\n",
    "  results = grid_search.cv_results_\n",
    "  best_params = grid_search.best_params_\n",
    "  best_score = grid_search.best_score_\n",
    "  print(best_params, best_score)\n",
    "  \n",
    "  return svc, best_params, best_score"
   ]
  },
  {
   "cell_type": "markdown",
   "metadata": {},
   "source": [
    "#### MODELO 0"
   ]
  },
  {
   "cell_type": "code",
   "execution_count": 64,
   "metadata": {},
   "outputs": [],
   "source": [
    "C=1.0\n",
    "kernel='rbf'\n",
    "degree=3\n",
    "gamma='auto_deprecated'\n",
    "coef0=0.0\n",
    "shrinking=True\n",
    "probability=False\n",
    "tol=0.001\n",
    "cache_size=200\n",
    "class_weight='balanced'\n",
    "max_iter=-1\n",
    "decision_function_shape='ovr'\n",
    "random_state=None\n",
    "params = {'C': [0.0001, 0.001, 0.01, 0.1, 1, 10]}"
   ]
  },
  {
   "cell_type": "code",
   "execution_count": 65,
   "metadata": {},
   "outputs": [
    {
     "name": "stdout",
     "output_type": "stream",
     "text": [
      "{'C': 0.0001} 0.4832170065916196\n"
     ]
    }
   ],
   "source": [
    "svc, opt_param, score = optimize(C = C,\n",
    "              kernel =kernel,\n",
    "              degree = degree,\n",
    "              gamma = gamma,\n",
    "              coef0 = coef0,\n",
    "              shrinking = shrinking,\n",
    "              probability = probability,\n",
    "              tol = tol,\n",
    "              cache_size = cache_size,\n",
    "              class_weight = class_weight,\n",
    "              max_iter = max_iter,\n",
    "              decision_function_shape = decision_function_shape,\n",
    "              params = params)"
   ]
  },
  {
   "cell_type": "code",
   "execution_count": 66,
   "metadata": {},
   "outputs": [],
   "source": [
    "# Atualizando as variáveis com os resultados\n",
    "models = np.append(models, svc)\n",
    "opt_params = {**opt_params, **opt_param} # ** para fundir um dict no outro\n",
    "scores = np.append(scores, score)"
   ]
  },
  {
   "cell_type": "markdown",
   "metadata": {},
   "source": [
    "#### MODELO 1"
   ]
  },
  {
   "cell_type": "code",
   "execution_count": 69,
   "metadata": {},
   "outputs": [],
   "source": [
    "C= opt_params['C']\n",
    "kernel='rbf'\n",
    "degree=3\n",
    "gamma='auto_deprecated'\n",
    "coef0=0.0\n",
    "shrinking=True\n",
    "probability=False\n",
    "tol=0.001\n",
    "cache_size=200\n",
    "class_weight='balanced'\n",
    "max_iter=-1\n",
    "decision_function_shape='ovr'\n",
    "random_state=None\n",
    "params = {'kernel': ['poly', 'rbf', 'sigmoid']}"
   ]
  },
  {
   "cell_type": "code",
   "execution_count": 70,
   "metadata": {},
   "outputs": [
    {
     "name": "stdout",
     "output_type": "stream",
     "text": [
      "{'kernel': 'rbf'} 0.4832170065916196\n"
     ]
    }
   ],
   "source": [
    "svc, opt_param, score = optimize(C = C,\n",
    "              kernel =kernel,\n",
    "              degree = degree,\n",
    "              gamma = gamma,\n",
    "              coef0 = coef0,\n",
    "              shrinking = shrinking,\n",
    "              probability = probability,\n",
    "              tol = tol,\n",
    "              cache_size = cache_size,\n",
    "              class_weight = class_weight,\n",
    "              max_iter = max_iter,\n",
    "              decision_function_shape = decision_function_shape,\n",
    "              params = params)"
   ]
  },
  {
   "cell_type": "code",
   "execution_count": 71,
   "metadata": {},
   "outputs": [],
   "source": [
    "# Atualizando as variáveis com os resultados\n",
    "models = np.append(models, svc)\n",
    "opt_params = {**opt_params, **opt_param}\n",
    "scores = np.append(scores, score)"
   ]
  },
  {
   "cell_type": "markdown",
   "metadata": {},
   "source": [
    "#### MODELO 2"
   ]
  },
  {
   "cell_type": "code",
   "execution_count": 77,
   "metadata": {},
   "outputs": [],
   "source": [
    "C= opt_params['C']\n",
    "kernel= opt_params['kernel']\n",
    "degree=3\n",
    "gamma='auto_deprecated'\n",
    "coef0=0.0\n",
    "shrinking=True\n",
    "probability=False\n",
    "tol=0.001\n",
    "cache_size=200\n",
    "class_weight='balanced'\n",
    "max_iter=-1\n",
    "decision_function_shape='ovr'\n",
    "random_state=None\n",
    "\n",
    "#Degree of the polynomial kernel function (‘poly’). Ignored by all other kernels.\n",
    "params = {'degree': [1, 2, 5]}"
   ]
  },
  {
   "cell_type": "code",
   "execution_count": 78,
   "metadata": {},
   "outputs": [
    {
     "name": "stdout",
     "output_type": "stream",
     "text": [
      "{'degree': 1} 0.4832170065916196\n"
     ]
    }
   ],
   "source": [
    "svc, opt_param, score = optimize(C = C,\n",
    "              kernel =kernel,\n",
    "              degree = degree,\n",
    "              gamma = gamma,\n",
    "              coef0 = coef0,\n",
    "              shrinking = shrinking,\n",
    "              probability = probability,\n",
    "              tol = tol,\n",
    "              cache_size = cache_size,\n",
    "              class_weight = class_weight,\n",
    "              max_iter = max_iter,\n",
    "              decision_function_shape = decision_function_shape,\n",
    "              params = params)"
   ]
  },
  {
   "cell_type": "markdown",
   "metadata": {},
   "source": [
    "#### MODELO 3"
   ]
  },
  {
   "cell_type": "code",
   "execution_count": 79,
   "metadata": {},
   "outputs": [],
   "source": [
    "C= opt_params['C']\n",
    "kernel= opt_params['kernel']\n",
    "degree=3\n",
    "gamma='auto_deprecated'\n",
    "coef0=0.0\n",
    "shrinking=True\n",
    "probability=False\n",
    "tol=0.001\n",
    "cache_size=200\n",
    "class_weight='balanced'\n",
    "max_iter=-1\n",
    "decision_function_shape='ovr'\n",
    "random_state=None\n",
    "params = {'gamma': [0.0001, 0.001, 0.01, 0.1]}"
   ]
  },
  {
   "cell_type": "code",
   "execution_count": 80,
   "metadata": {},
   "outputs": [
    {
     "name": "stdout",
     "output_type": "stream",
     "text": [
      "{'gamma': 0.1} 0.4844571980020896\n"
     ]
    }
   ],
   "source": [
    "svc, opt_param, score = optimize(C = C,\n",
    "              kernel =kernel,\n",
    "              degree = degree,\n",
    "              gamma = gamma,\n",
    "              coef0 = coef0,\n",
    "              shrinking = shrinking,\n",
    "              probability = probability,\n",
    "              tol = tol,\n",
    "              cache_size = cache_size,\n",
    "              class_weight = class_weight,\n",
    "              max_iter = max_iter,\n",
    "              decision_function_shape = decision_function_shape,\n",
    "              params = params)"
   ]
  },
  {
   "cell_type": "code",
   "execution_count": 83,
   "metadata": {},
   "outputs": [],
   "source": [
    "# Atualizando as variáveis com os resultados\n",
    "models = np.append(models, svc)\n",
    "opt_params = {**opt_params, **opt_param}\n",
    "scores = np.append(scores, score)"
   ]
  },
  {
   "cell_type": "markdown",
   "metadata": {},
   "source": [
    "#### MODELO 4"
   ]
  },
  {
   "cell_type": "code",
   "execution_count": 86,
   "metadata": {},
   "outputs": [],
   "source": [
    "C= opt_params['C']\n",
    "kernel= opt_params['kernel']\n",
    "degree=3\n",
    "gamma=opt_params['gamma']\n",
    "coef0=0.0\n",
    "shrinking=True\n",
    "probability=False\n",
    "tol=0.001\n",
    "cache_size=200\n",
    "class_weight='balanced'\n",
    "max_iter=-1\n",
    "decision_function_shape='ovr'\n",
    "random_state=None\n",
    "params = {'coef0': [0, 1, 2]}"
   ]
  },
  {
   "cell_type": "code",
   "execution_count": 87,
   "metadata": {},
   "outputs": [
    {
     "name": "stdout",
     "output_type": "stream",
     "text": [
      "{'coef0': 0} 0.4844571980020896\n"
     ]
    }
   ],
   "source": [
    "svc, opt_param, score = optimize(C = C,\n",
    "              kernel =kernel,\n",
    "              degree = degree,\n",
    "              gamma = gamma,\n",
    "              coef0 = coef0,\n",
    "              shrinking = shrinking,\n",
    "              probability = probability,\n",
    "              tol = tol,\n",
    "              cache_size = cache_size,\n",
    "              class_weight = class_weight,\n",
    "              max_iter = max_iter,\n",
    "              decision_function_shape = decision_function_shape,\n",
    "              params = params)"
   ]
  },
  {
   "cell_type": "code",
   "execution_count": 90,
   "metadata": {},
   "outputs": [
    {
     "data": {
      "text/plain": [
       "SVC(C=0.0001, cache_size=200, class_weight='balanced', coef0=0.0,\n",
       "    decision_function_shape='ovr', degree=3, gamma=0.1, kernel='rbf',\n",
       "    max_iter=-1, probability=False, random_state=None, shrinking=True,\n",
       "    tol=0.001, verbose=False)"
      ]
     },
     "execution_count": 90,
     "metadata": {},
     "output_type": "execute_result"
    }
   ],
   "source": [
    "svc.fit(X_train, y_train)"
   ]
  },
  {
   "cell_type": "code",
   "execution_count": 92,
   "metadata": {},
   "outputs": [],
   "source": [
    "y_predict = svc.predict(X_test)"
   ]
  },
  {
   "cell_type": "markdown",
   "metadata": {},
   "source": [
    "## Best Model\n",
    "\n",
    "Aparentemente o modelo com os parâmetros padrão se mostrou ser melhor do que nos 4 modelos otimizados"
   ]
  },
  {
   "cell_type": "code",
   "execution_count": 31,
   "metadata": {},
   "outputs": [
    {
     "data": {
      "text/plain": [
       "0.6693101900344157"
      ]
     },
     "execution_count": 31,
     "metadata": {},
     "output_type": "execute_result"
    }
   ],
   "source": [
    "# vamos manter o padrão\n",
    "svc = SVC()\n",
    "scores = cross_val_score(svc, X, y, cv=10)\n",
    "scores.mean()"
   ]
  },
  {
   "cell_type": "code",
   "execution_count": 32,
   "metadata": {},
   "outputs": [],
   "source": [
    "# ajusta o modelo\n",
    "svc.fit(X_train, y_train)\n",
    "y_pred = svc.predict(X_test)"
   ]
  },
  {
   "cell_type": "code",
   "execution_count": 38,
   "metadata": {},
   "outputs": [],
   "source": [
    "# savel to disk\n",
    "# save the model to disk\n",
    "pickle.dump(svc, open('SVC.ml', 'wb'))\n",
    "\n",
    "#exporting the departure encoder\n",
    "output = open('LabelEncoder.pkl', 'wb')\n",
    "pickle.dump(encoder, output)\n",
    "output.close()\n",
    "\n",
    "#exporting the departure encoder\n",
    "output = open('MinMaxScaler.pkl', 'wb')\n",
    "pickle.dump(scaler, output)\n",
    "output.close()"
   ]
  },
  {
   "cell_type": "code",
   "execution_count": null,
   "metadata": {},
   "outputs": [],
   "source": []
  }
 ],
 "metadata": {
  "kernelspec": {
   "display_name": "Python 3",
   "language": "python",
   "name": "python3"
  },
  "language_info": {
   "codemirror_mode": {
    "name": "ipython",
    "version": 3
   },
   "file_extension": ".py",
   "mimetype": "text/x-python",
   "name": "python",
   "nbconvert_exporter": "python",
   "pygments_lexer": "ipython3",
   "version": "3.7.4"
  }
 },
 "nbformat": 4,
 "nbformat_minor": 4
}
