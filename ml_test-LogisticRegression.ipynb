{
 "cells": [
  {
   "cell_type": "code",
   "execution_count": 1,
   "metadata": {},
   "outputs": [],
   "source": [
    "import pandas as pd\n",
    "import numpy as np\n",
    "import pickle\n",
    "\n",
    "from sklearn.preprocessing import LabelEncoder, MinMaxScaler\n",
    "\n",
    "from sklearn.model_selection import train_test_split, cross_val_score, GridSearchCV\n",
    "from sklearn.metrics import confusion_matrix, accuracy_score\n",
    "from warnings import simplefilter\n",
    "\n",
    "from sklearn.linear_model import LogisticRegression\n",
    "\n",
    "simplefilter(action='ignore', category=FutureWarning)"
   ]
  },
  {
   "cell_type": "code",
   "execution_count": 89,
   "metadata": {},
   "outputs": [
    {
     "data": {
      "text/plain": [
       "(1642, 115)"
      ]
     },
     "execution_count": 89,
     "metadata": {},
     "output_type": "execute_result"
    }
   ],
   "source": [
    "df = pd.read_csv('datasets/dataset_cler.csv', sep=\";\", encoding='utf-16')\n",
    "del df['Ref']\n",
    "df.shape"
   ]
  },
  {
   "cell_type": "code",
   "execution_count": 90,
   "metadata": {},
   "outputs": [
    {
     "data": {
      "text/html": [
       "<div>\n",
       "<style scoped>\n",
       "    .dataframe tbody tr th:only-of-type {\n",
       "        vertical-align: middle;\n",
       "    }\n",
       "\n",
       "    .dataframe tbody tr th {\n",
       "        vertical-align: top;\n",
       "    }\n",
       "\n",
       "    .dataframe thead th {\n",
       "        text-align: right;\n",
       "    }\n",
       "</style>\n",
       "<table border=\"1\" class=\"dataframe\">\n",
       "  <thead>\n",
       "    <tr style=\"text-align: right;\">\n",
       "      <th></th>\n",
       "      <th>ampl_9</th>\n",
       "      <th>desv_amp_9</th>\n",
       "      <th>body_9</th>\n",
       "      <th>body_per_9</th>\n",
       "      <th>pavio_sup_9</th>\n",
       "      <th>pavio_sup_per_9</th>\n",
       "      <th>pavio_inf_9</th>\n",
       "      <th>pavio_inf_per_9</th>\n",
       "      <th>high_dist_9</th>\n",
       "      <th>low_dist_9</th>\n",
       "      <th>...</th>\n",
       "      <th>pavio_inf_0</th>\n",
       "      <th>pavio_inf_per_0</th>\n",
       "      <th>high_dist_0</th>\n",
       "      <th>low_dist_0</th>\n",
       "      <th>type_0</th>\n",
       "      <th>atr</th>\n",
       "      <th>qt_bars</th>\n",
       "      <th>oper</th>\n",
       "      <th>take</th>\n",
       "      <th>status</th>\n",
       "    </tr>\n",
       "  </thead>\n",
       "  <tbody>\n",
       "    <tr>\n",
       "      <td>0</td>\n",
       "      <td>70.0</td>\n",
       "      <td>1.17</td>\n",
       "      <td>50.0</td>\n",
       "      <td>71.43</td>\n",
       "      <td>20.0</td>\n",
       "      <td>28.57</td>\n",
       "      <td>0.0</td>\n",
       "      <td>0.0</td>\n",
       "      <td>25.0</td>\n",
       "      <td>35.0</td>\n",
       "      <td>...</td>\n",
       "      <td>5.0</td>\n",
       "      <td>11.11</td>\n",
       "      <td>5.0</td>\n",
       "      <td>5.0</td>\n",
       "      <td>down</td>\n",
       "      <td>58.21</td>\n",
       "      <td>5</td>\n",
       "      <td>Sell</td>\n",
       "      <td>20.0</td>\n",
       "      <td>Gain</td>\n",
       "    </tr>\n",
       "    <tr>\n",
       "      <td>1</td>\n",
       "      <td>50.0</td>\n",
       "      <td>0.63</td>\n",
       "      <td>25.0</td>\n",
       "      <td>50.00</td>\n",
       "      <td>10.0</td>\n",
       "      <td>20.00</td>\n",
       "      <td>15.0</td>\n",
       "      <td>30.0</td>\n",
       "      <td>5.0</td>\n",
       "      <td>35.0</td>\n",
       "      <td>...</td>\n",
       "      <td>20.0</td>\n",
       "      <td>30.77</td>\n",
       "      <td>35.0</td>\n",
       "      <td>25.0</td>\n",
       "      <td>up</td>\n",
       "      <td>66.07</td>\n",
       "      <td>6</td>\n",
       "      <td>Sell</td>\n",
       "      <td>-40.0</td>\n",
       "      <td>Loss</td>\n",
       "    </tr>\n",
       "  </tbody>\n",
       "</table>\n",
       "<p>2 rows × 115 columns</p>\n",
       "</div>"
      ],
      "text/plain": [
       "   ampl_9  desv_amp_9  body_9  body_per_9  pavio_sup_9  pavio_sup_per_9  \\\n",
       "0    70.0        1.17    50.0       71.43         20.0            28.57   \n",
       "1    50.0        0.63    25.0       50.00         10.0            20.00   \n",
       "\n",
       "   pavio_inf_9  pavio_inf_per_9  high_dist_9  low_dist_9  ... pavio_inf_0  \\\n",
       "0          0.0              0.0         25.0        35.0  ...         5.0   \n",
       "1         15.0             30.0          5.0        35.0  ...        20.0   \n",
       "\n",
       "   pavio_inf_per_0  high_dist_0  low_dist_0  type_0    atr  qt_bars  oper  \\\n",
       "0            11.11          5.0         5.0    down  58.21        5  Sell   \n",
       "1            30.77         35.0        25.0      up  66.07        6  Sell   \n",
       "\n",
       "   take  status  \n",
       "0  20.0    Gain  \n",
       "1 -40.0    Loss  \n",
       "\n",
       "[2 rows x 115 columns]"
      ]
     },
     "execution_count": 90,
     "metadata": {},
     "output_type": "execute_result"
    }
   ],
   "source": [
    "df.head(2)"
   ]
  },
  {
   "cell_type": "code",
   "execution_count": 91,
   "metadata": {},
   "outputs": [],
   "source": [
    "#df['status'][0:500] == 'Gain'"
   ]
  },
  {
   "cell_type": "code",
   "execution_count": 93,
   "metadata": {},
   "outputs": [],
   "source": [
    "#df.drop(df.index[df['status'] == 'Gain'][0:500].tolist(), inplace=True)"
   ]
  },
  {
   "cell_type": "code",
   "execution_count": 94,
   "metadata": {},
   "outputs": [
    {
     "data": {
      "text/plain": [
       "Gain    1099\n",
       "Loss     543\n",
       "Name: status, dtype: int64"
      ]
     },
     "execution_count": 94,
     "metadata": {},
     "output_type": "execute_result"
    }
   ],
   "source": [
    "df['status'].value_counts()"
   ]
  },
  {
   "cell_type": "code",
   "execution_count": 79,
   "metadata": {},
   "outputs": [],
   "source": [
    "X = df.drop(['take','status','oper'], axis=1) #df[train_features]\n",
    "y = df['status']\n",
    "\n",
    "x_columns = X.columns"
   ]
  },
  {
   "cell_type": "code",
   "execution_count": 80,
   "metadata": {},
   "outputs": [],
   "source": [
    "encoder = LabelEncoder()\n",
    "encoder.fit(['inside', 'up', 'down'])\n",
    "columns_objects = X.select_dtypes(include=['object']).columns\n",
    "for col_obj in columns_objects:\n",
    "    X[col_obj] = encoder.transform(X[col_obj])"
   ]
  },
  {
   "cell_type": "code",
   "execution_count": 81,
   "metadata": {},
   "outputs": [],
   "source": [
    "scaler = MinMaxScaler()\n",
    "scaler.fit(X)\n",
    "X = scaler.transform(X)"
   ]
  },
  {
   "cell_type": "code",
   "execution_count": 82,
   "metadata": {},
   "outputs": [],
   "source": [
    "X_train, X_test, y_train, y_test = train_test_split(X, y, test_size=0.3, random_state=True)"
   ]
  },
  {
   "cell_type": "markdown",
   "metadata": {},
   "source": [
    "## Train algorithm LogisticRegression"
   ]
  },
  {
   "cell_type": "code",
   "execution_count": 83,
   "metadata": {},
   "outputs": [
    {
     "data": {
      "text/plain": [
       "LogisticRegression(C=1.0, class_weight=None, dual=False, fit_intercept=True,\n",
       "                   intercept_scaling=1, l1_ratio=None, max_iter=100,\n",
       "                   multi_class='warn', n_jobs=None, penalty='l2',\n",
       "                   random_state=None, solver='warn', tol=0.0001, verbose=0,\n",
       "                   warm_start=False)"
      ]
     },
     "execution_count": 83,
     "metadata": {},
     "output_type": "execute_result"
    }
   ],
   "source": [
    "lr = LogisticRegression()\n",
    "lr.fit(X_train, y_train)"
   ]
  },
  {
   "cell_type": "code",
   "execution_count": 84,
   "metadata": {},
   "outputs": [],
   "source": [
    "y_pred = lr.predict(X_test)"
   ]
  },
  {
   "cell_type": "code",
   "execution_count": 85,
   "metadata": {},
   "outputs": [
    {
     "data": {
      "text/plain": [
       "0.47230320699708456"
      ]
     },
     "execution_count": 85,
     "metadata": {},
     "output_type": "execute_result"
    }
   ],
   "source": [
    "accuracy_score(y_test, y_pred)"
   ]
  },
  {
   "cell_type": "code",
   "execution_count": 87,
   "metadata": {},
   "outputs": [
    {
     "data": {
      "text/plain": [
       "array(['Loss', 'Gain', 'Gain', 'Gain', 'Gain', 'Loss', 'Gain', 'Gain',\n",
       "       'Gain', 'Loss', 'Loss', 'Gain', 'Loss', 'Gain', 'Gain', 'Loss',\n",
       "       'Gain', 'Gain', 'Loss', 'Gain', 'Gain', 'Loss', 'Gain', 'Gain',\n",
       "       'Gain', 'Gain', 'Gain', 'Gain', 'Gain', 'Gain', 'Gain', 'Gain',\n",
       "       'Gain', 'Loss', 'Gain', 'Gain', 'Gain', 'Gain', 'Loss', 'Loss',\n",
       "       'Loss', 'Loss', 'Gain', 'Gain', 'Gain', 'Loss', 'Gain', 'Gain',\n",
       "       'Gain', 'Gain', 'Loss', 'Gain', 'Gain', 'Loss', 'Loss', 'Loss',\n",
       "       'Gain', 'Gain', 'Gain', 'Loss', 'Loss', 'Gain', 'Gain', 'Gain',\n",
       "       'Loss', 'Loss', 'Gain', 'Gain', 'Gain', 'Gain', 'Gain', 'Gain',\n",
       "       'Loss', 'Gain', 'Loss', 'Gain', 'Loss', 'Gain', 'Gain', 'Gain',\n",
       "       'Gain', 'Loss', 'Gain', 'Gain', 'Gain', 'Gain', 'Gain', 'Gain',\n",
       "       'Loss', 'Gain', 'Loss', 'Loss', 'Loss', 'Loss', 'Gain', 'Loss',\n",
       "       'Gain', 'Gain', 'Loss', 'Gain', 'Gain', 'Gain', 'Gain', 'Gain',\n",
       "       'Loss', 'Gain', 'Gain', 'Loss', 'Loss', 'Gain', 'Loss', 'Gain',\n",
       "       'Gain', 'Loss', 'Loss', 'Gain', 'Gain', 'Gain', 'Loss', 'Gain',\n",
       "       'Gain', 'Gain', 'Gain', 'Loss', 'Loss', 'Gain', 'Loss', 'Loss',\n",
       "       'Gain', 'Gain', 'Loss', 'Loss', 'Loss', 'Loss', 'Gain', 'Loss',\n",
       "       'Loss', 'Gain', 'Loss', 'Loss', 'Gain', 'Gain', 'Gain', 'Loss',\n",
       "       'Loss', 'Gain', 'Gain', 'Loss', 'Loss', 'Gain', 'Gain', 'Gain',\n",
       "       'Loss', 'Loss', 'Loss', 'Gain', 'Gain', 'Loss', 'Gain', 'Gain',\n",
       "       'Gain', 'Loss', 'Gain', 'Gain', 'Loss', 'Loss', 'Loss', 'Gain',\n",
       "       'Gain', 'Loss', 'Gain', 'Loss', 'Gain', 'Loss', 'Loss', 'Gain',\n",
       "       'Loss', 'Gain', 'Loss', 'Loss', 'Gain', 'Gain', 'Loss', 'Loss',\n",
       "       'Gain', 'Loss', 'Loss', 'Gain', 'Gain', 'Gain', 'Loss', 'Loss',\n",
       "       'Gain', 'Gain', 'Loss', 'Gain', 'Loss', 'Gain', 'Gain', 'Loss',\n",
       "       'Gain', 'Gain', 'Gain', 'Loss', 'Gain', 'Gain', 'Gain', 'Loss',\n",
       "       'Gain', 'Gain', 'Gain', 'Gain', 'Loss', 'Gain', 'Gain', 'Gain',\n",
       "       'Gain', 'Gain', 'Gain', 'Gain', 'Gain', 'Loss', 'Gain', 'Loss',\n",
       "       'Gain', 'Gain', 'Loss', 'Gain', 'Gain', 'Gain', 'Gain', 'Loss',\n",
       "       'Gain', 'Loss', 'Loss', 'Loss', 'Gain', 'Loss', 'Loss', 'Gain',\n",
       "       'Loss', 'Loss', 'Loss', 'Loss', 'Gain', 'Gain', 'Loss', 'Loss',\n",
       "       'Loss', 'Gain', 'Gain', 'Loss', 'Gain', 'Gain', 'Loss', 'Gain',\n",
       "       'Loss', 'Gain', 'Gain', 'Gain', 'Gain', 'Gain', 'Loss', 'Gain',\n",
       "       'Gain', 'Gain', 'Loss', 'Loss', 'Gain', 'Gain', 'Gain', 'Loss',\n",
       "       'Gain', 'Loss', 'Loss', 'Gain', 'Gain', 'Loss', 'Gain', 'Gain',\n",
       "       'Loss', 'Gain', 'Gain', 'Loss', 'Gain', 'Gain', 'Gain', 'Gain',\n",
       "       'Loss', 'Loss', 'Loss', 'Loss', 'Loss', 'Loss', 'Gain', 'Loss',\n",
       "       'Gain', 'Gain', 'Gain', 'Gain', 'Gain', 'Gain', 'Gain', 'Gain',\n",
       "       'Loss', 'Loss', 'Loss', 'Gain', 'Gain', 'Loss', 'Loss', 'Loss',\n",
       "       'Loss', 'Loss', 'Gain', 'Loss', 'Loss', 'Gain', 'Loss', 'Gain',\n",
       "       'Loss', 'Gain', 'Loss', 'Gain', 'Loss', 'Gain', 'Loss', 'Gain',\n",
       "       'Loss', 'Gain', 'Gain', 'Gain', 'Gain', 'Loss', 'Gain', 'Loss',\n",
       "       'Gain', 'Gain', 'Loss', 'Loss', 'Loss', 'Loss', 'Loss'],\n",
       "      dtype=object)"
      ]
     },
     "execution_count": 87,
     "metadata": {},
     "output_type": "execute_result"
    }
   ],
   "source": [
    "y_pred[0:500]"
   ]
  },
  {
   "cell_type": "code",
   "execution_count": null,
   "metadata": {},
   "outputs": [],
   "source": []
  }
 ],
 "metadata": {
  "kernelspec": {
   "display_name": "Python 3",
   "language": "python",
   "name": "python3"
  },
  "language_info": {
   "codemirror_mode": {
    "name": "ipython",
    "version": 3
   },
   "file_extension": ".py",
   "mimetype": "text/x-python",
   "name": "python",
   "nbconvert_exporter": "python",
   "pygments_lexer": "ipython3",
   "version": "3.7.4"
  }
 },
 "nbformat": 4,
 "nbformat_minor": 4
}
